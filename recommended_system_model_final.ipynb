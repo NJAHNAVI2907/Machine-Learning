{
  "nbformat": 4,
  "nbformat_minor": 0,
  "metadata": {
    "colab": {
      "name": "recommended_system_model_final.ipynb",
      "provenance": [],
      "collapsed_sections": []
    },
    "kernelspec": {
      "name": "python3",
      "display_name": "Python 3"
    },
    "language_info": {
      "name": "python"
    }
  },
  "cells": [
    {
      "cell_type": "code",
      "metadata": {
        "id": "Bkdgd097OgwW"
      },
      "source": [
        "import pandas as pd\n",
        "import seaborn as sns\n",
        "import matplotlib.pyplot as plt\n",
        "import numpy as np\n",
        "from sklearn.model_selection import train_test_split\n",
        "from sklearn.impute import SimpleImputer\n",
        "from sklearn.preprocessing import LabelEncoder\n",
        "from sklearn import preprocessing\n",
        "from sklearn.feature_selection import VarianceThreshold #removes all low-variance features.\n",
        "from sklearn.feature_extraction.text import CountVectorizer\n",
        "from sklearn.metrics.pairwise import cosine_similarity\n"
      ],
      "execution_count": 258,
      "outputs": []
    },
    {
      "cell_type": "markdown",
      "metadata": {
        "id": "gqQBdDZ7Hlyg"
      },
      "source": [
        "**READING THE CSV FILE**"
      ]
    },
    {
      "cell_type": "code",
      "metadata": {
        "colab": {
          "base_uri": "https://localhost:8080/",
          "height": 420
        },
        "id": "lt4SBfTMOqJY",
        "outputId": "603f7865-5074-4bca-ef09-40c69ab05600"
      },
      "source": [
        "df = pd.read_csv('https://raw.githubusercontent.com/Sneha8501/ML/main/Netflix_title_final.csv')\n",
        "df.head()"
      ],
      "execution_count": 259,
      "outputs": [
        {
          "output_type": "execute_result",
          "data": {
            "text/html": [
              "<div>\n",
              "<style scoped>\n",
              "    .dataframe tbody tr th:only-of-type {\n",
              "        vertical-align: middle;\n",
              "    }\n",
              "\n",
              "    .dataframe tbody tr th {\n",
              "        vertical-align: top;\n",
              "    }\n",
              "\n",
              "    .dataframe thead th {\n",
              "        text-align: right;\n",
              "    }\n",
              "</style>\n",
              "<table border=\"1\" class=\"dataframe\">\n",
              "  <thead>\n",
              "    <tr style=\"text-align: right;\">\n",
              "      <th></th>\n",
              "      <th>title</th>\n",
              "      <th>director</th>\n",
              "      <th>cast</th>\n",
              "      <th>country</th>\n",
              "      <th>date_added</th>\n",
              "      <th>rated by</th>\n",
              "      <th>listed_in</th>\n",
              "      <th>description</th>\n",
              "      <th>type</th>\n",
              "      <th>show_id</th>\n",
              "      <th>release_year</th>\n",
              "      <th>duration</th>\n",
              "      <th>rating</th>\n",
              "    </tr>\n",
              "  </thead>\n",
              "  <tbody>\n",
              "    <tr>\n",
              "      <th>0</th>\n",
              "      <td>Chocolate - 1 Season</td>\n",
              "      <td>Toka McBaror</td>\n",
              "      <td>Ha Ji-won, Yoon Kye-sang, Jang Seung-jo, Kang ...</td>\n",
              "      <td>South Korea</td>\n",
              "      <td>November 30, 2019</td>\n",
              "      <td>TV-14</td>\n",
              "      <td>International TV Shows, Korean TV Shows, Roman...</td>\n",
              "      <td>Brought together by meaningful meals in the pa...</td>\n",
              "      <td>TV Show</td>\n",
              "      <td>81193313</td>\n",
              "      <td>2019</td>\n",
              "      <td>60</td>\n",
              "      <td>6.3</td>\n",
              "    </tr>\n",
              "    <tr>\n",
              "      <th>1</th>\n",
              "      <td>Guatemala: Heart of the Mayan World</td>\n",
              "      <td>Luis Ara, Ignacio Jaunsolo</td>\n",
              "      <td>Christian Morales</td>\n",
              "      <td>Unknown</td>\n",
              "      <td>November 30, 2019</td>\n",
              "      <td>G</td>\n",
              "      <td>Documentaries, International Movies</td>\n",
              "      <td>From Sierra de las Minas to Esquipulas, explor...</td>\n",
              "      <td>Movie</td>\n",
              "      <td>81197050</td>\n",
              "      <td>2019</td>\n",
              "      <td>67</td>\n",
              "      <td>7.2</td>\n",
              "    </tr>\n",
              "    <tr>\n",
              "      <th>2</th>\n",
              "      <td>The Zoya Factor</td>\n",
              "      <td>Abhishek Sharma</td>\n",
              "      <td>Sonam Kapoor, Dulquer Salmaan, Sanjay Kapoor, ...</td>\n",
              "      <td>India</td>\n",
              "      <td>November 30, 2019</td>\n",
              "      <td>TV-14</td>\n",
              "      <td>Comedies, Dramas, International Movies</td>\n",
              "      <td>A goofy copywriter unwittingly convinces the I...</td>\n",
              "      <td>Movie</td>\n",
              "      <td>81213894</td>\n",
              "      <td>2019</td>\n",
              "      <td>135</td>\n",
              "      <td>7.2</td>\n",
              "    </tr>\n",
              "    <tr>\n",
              "      <th>3</th>\n",
              "      <td>Atlantics</td>\n",
              "      <td>Mati Diop</td>\n",
              "      <td>Mama Sane, Amadou Mbow, Ibrahima Traore, Nicol...</td>\n",
              "      <td>France, Senegal, Belgium</td>\n",
              "      <td>November 29, 2019</td>\n",
              "      <td>TV-14</td>\n",
              "      <td>Dramas, Independent Movies, International Movies</td>\n",
              "      <td>Arranged to marry a rich man, young Ada is cru...</td>\n",
              "      <td>Movie</td>\n",
              "      <td>81082007</td>\n",
              "      <td>2019</td>\n",
              "      <td>106</td>\n",
              "      <td>6.3</td>\n",
              "    </tr>\n",
              "    <tr>\n",
              "      <th>4</th>\n",
              "      <td>Chip and Potato - 2 Seasons</td>\n",
              "      <td>Frank Oz</td>\n",
              "      <td>Abigail Oliver, Andrea Libman, Briana Buckmast...</td>\n",
              "      <td>Canada, United Kingdom</td>\n",
              "      <td>November 27, 2019</td>\n",
              "      <td>TV-Y</td>\n",
              "      <td>Kids' TV</td>\n",
              "      <td>Lovable pug Chip starts kindergarten, makes ne...</td>\n",
              "      <td>TV Show</td>\n",
              "      <td>80213643</td>\n",
              "      <td>2019</td>\n",
              "      <td>60</td>\n",
              "      <td>7.7</td>\n",
              "    </tr>\n",
              "  </tbody>\n",
              "</table>\n",
              "</div>"
            ],
            "text/plain": [
              "                                 title  ... rating\n",
              "0                 Chocolate - 1 Season  ...    6.3\n",
              "1  Guatemala: Heart of the Mayan World  ...    7.2\n",
              "2                      The Zoya Factor  ...    7.2\n",
              "3                            Atlantics  ...    6.3\n",
              "4          Chip and Potato - 2 Seasons  ...    7.7\n",
              "\n",
              "[5 rows x 13 columns]"
            ]
          },
          "metadata": {},
          "execution_count": 259
        }
      ]
    },
    {
      "cell_type": "code",
      "metadata": {
        "colab": {
          "base_uri": "https://localhost:8080/"
        },
        "id": "Uy9GECH18IC9",
        "outputId": "7a754cab-f230-486c-e7bf-9bc8014e3867"
      },
      "source": [
        "fs=df.copy()\n",
        "fs.shape"
      ],
      "execution_count": 260,
      "outputs": [
        {
          "output_type": "execute_result",
          "data": {
            "text/plain": [
              "(985, 13)"
            ]
          },
          "metadata": {},
          "execution_count": 260
        }
      ]
    },
    {
      "cell_type": "markdown",
      "metadata": {
        "id": "3u79nPX-E_ZH"
      },
      "source": [
        "**LABEL ENCODING**"
      ]
    },
    {
      "cell_type": "code",
      "metadata": {
        "id": "NrHY6sHQ-n4R"
      },
      "source": [
        "label_encoder = preprocessing.LabelEncoder()\n",
        "for column in fs:\n",
        "  fs[column]= label_encoder.fit_transform(fs[column]) #Here categorical features are encoded and stored in the same dataframe fs"
      ],
      "execution_count": 261,
      "outputs": []
    },
    {
      "cell_type": "code",
      "metadata": {
        "colab": {
          "base_uri": "https://localhost:8080/"
        },
        "id": "FdUi-J7q78Wy",
        "outputId": "f2fc94e6-0b45-4c53-e8cb-11b64cf4f3b1"
      },
      "source": [
        "var_thres = VarianceThreshold(threshold=0)\n",
        "var_thres.fit(fs)"
      ],
      "execution_count": 262,
      "outputs": [
        {
          "output_type": "execute_result",
          "data": {
            "text/plain": [
              "VarianceThreshold(threshold=0)"
            ]
          },
          "metadata": {},
          "execution_count": 262
        }
      ]
    },
    {
      "cell_type": "code",
      "metadata": {
        "colab": {
          "base_uri": "https://localhost:8080/"
        },
        "id": "tKmkagp97_9-",
        "outputId": "d6ed4db4-bf98-4ad2-b605-38a8ef29e868"
      },
      "source": [
        "var_thres.get_support()"
      ],
      "execution_count": 263,
      "outputs": [
        {
          "output_type": "execute_result",
          "data": {
            "text/plain": [
              "array([ True,  True,  True,  True,  True,  True,  True,  True,  True,\n",
              "        True,  True,  True,  True])"
            ]
          },
          "metadata": {},
          "execution_count": 263
        }
      ]
    },
    {
      "cell_type": "code",
      "metadata": {
        "colab": {
          "base_uri": "https://localhost:8080/"
        },
        "id": "50Hmatzm8EwB",
        "outputId": "68cc781d-a1e2-4a4f-d497-1f101014a5df"
      },
      "source": [
        "constant_columns=[column for column in fs.columns if column not in fs.columns[var_thres.get_support()]]\n",
        "print(len(constant_columns))\n",
        "constant_columns"
      ],
      "execution_count": 264,
      "outputs": [
        {
          "output_type": "stream",
          "name": "stdout",
          "text": [
            "0\n"
          ]
        },
        {
          "output_type": "execute_result",
          "data": {
            "text/plain": [
              "[]"
            ]
          },
          "metadata": {},
          "execution_count": 264
        }
      ]
    },
    {
      "cell_type": "code",
      "metadata": {
        "colab": {
          "base_uri": "https://localhost:8080/"
        },
        "id": "Q6KHB1a-8FdC",
        "outputId": "0d46ee1a-ffe0-4fda-c5de-d910c68a4755"
      },
      "source": [
        "df.drop(constant_columns,axis=1,inplace=True)\n",
        "df.shape"
      ],
      "execution_count": 265,
      "outputs": [
        {
          "output_type": "execute_result",
          "data": {
            "text/plain": [
              "(985, 13)"
            ]
          },
          "metadata": {},
          "execution_count": 265
        }
      ]
    },
    {
      "cell_type": "code",
      "metadata": {
        "colab": {
          "base_uri": "https://localhost:8080/"
        },
        "id": "G0LRhdDT8dqy",
        "outputId": "93dc0bbf-6d38-4472-a44c-c6e422c80879"
      },
      "source": [
        "df = df.T\n",
        "print(df.duplicated().sum())\n",
        "df = df.T"
      ],
      "execution_count": 266,
      "outputs": [
        {
          "output_type": "stream",
          "name": "stdout",
          "text": [
            "0\n"
          ]
        }
      ]
    },
    {
      "cell_type": "code",
      "metadata": {
        "colab": {
          "base_uri": "https://localhost:8080/",
          "height": 448
        },
        "id": "e-3IhqJD8jRc",
        "outputId": "305e7081-b52a-4408-cf70-1fd1c49e3d9e"
      },
      "source": [
        "fs.corr()"
      ],
      "execution_count": 267,
      "outputs": [
        {
          "output_type": "execute_result",
          "data": {
            "text/html": [
              "<div>\n",
              "<style scoped>\n",
              "    .dataframe tbody tr th:only-of-type {\n",
              "        vertical-align: middle;\n",
              "    }\n",
              "\n",
              "    .dataframe tbody tr th {\n",
              "        vertical-align: top;\n",
              "    }\n",
              "\n",
              "    .dataframe thead th {\n",
              "        text-align: right;\n",
              "    }\n",
              "</style>\n",
              "<table border=\"1\" class=\"dataframe\">\n",
              "  <thead>\n",
              "    <tr style=\"text-align: right;\">\n",
              "      <th></th>\n",
              "      <th>title</th>\n",
              "      <th>director</th>\n",
              "      <th>cast</th>\n",
              "      <th>country</th>\n",
              "      <th>date_added</th>\n",
              "      <th>rated by</th>\n",
              "      <th>listed_in</th>\n",
              "      <th>description</th>\n",
              "      <th>type</th>\n",
              "      <th>show_id</th>\n",
              "      <th>release_year</th>\n",
              "      <th>duration</th>\n",
              "      <th>rating</th>\n",
              "    </tr>\n",
              "  </thead>\n",
              "  <tbody>\n",
              "    <tr>\n",
              "      <th>title</th>\n",
              "      <td>1.000000</td>\n",
              "      <td>0.002300</td>\n",
              "      <td>0.074846</td>\n",
              "      <td>0.020655</td>\n",
              "      <td>0.005145</td>\n",
              "      <td>0.018827</td>\n",
              "      <td>-0.034812</td>\n",
              "      <td>0.060331</td>\n",
              "      <td>-0.007337</td>\n",
              "      <td>-0.092970</td>\n",
              "      <td>-0.073743</td>\n",
              "      <td>0.062053</td>\n",
              "      <td>-0.012732</td>\n",
              "    </tr>\n",
              "    <tr>\n",
              "      <th>director</th>\n",
              "      <td>0.002300</td>\n",
              "      <td>1.000000</td>\n",
              "      <td>-0.044015</td>\n",
              "      <td>-0.012502</td>\n",
              "      <td>-0.021517</td>\n",
              "      <td>0.111823</td>\n",
              "      <td>0.096033</td>\n",
              "      <td>0.001448</td>\n",
              "      <td>0.386032</td>\n",
              "      <td>0.052112</td>\n",
              "      <td>0.021618</td>\n",
              "      <td>-0.224746</td>\n",
              "      <td>-0.040688</td>\n",
              "    </tr>\n",
              "    <tr>\n",
              "      <th>cast</th>\n",
              "      <td>0.074846</td>\n",
              "      <td>-0.044015</td>\n",
              "      <td>1.000000</td>\n",
              "      <td>-0.033956</td>\n",
              "      <td>-0.010441</td>\n",
              "      <td>0.008963</td>\n",
              "      <td>0.034817</td>\n",
              "      <td>-0.023193</td>\n",
              "      <td>0.003884</td>\n",
              "      <td>0.047997</td>\n",
              "      <td>-0.008971</td>\n",
              "      <td>0.063190</td>\n",
              "      <td>0.027670</td>\n",
              "    </tr>\n",
              "    <tr>\n",
              "      <th>country</th>\n",
              "      <td>0.020655</td>\n",
              "      <td>-0.012502</td>\n",
              "      <td>-0.033956</td>\n",
              "      <td>1.000000</td>\n",
              "      <td>0.059006</td>\n",
              "      <td>-0.114396</td>\n",
              "      <td>0.006537</td>\n",
              "      <td>0.044260</td>\n",
              "      <td>0.047698</td>\n",
              "      <td>-0.272086</td>\n",
              "      <td>-0.169149</td>\n",
              "      <td>-0.180636</td>\n",
              "      <td>0.001502</td>\n",
              "    </tr>\n",
              "    <tr>\n",
              "      <th>date_added</th>\n",
              "      <td>0.005145</td>\n",
              "      <td>-0.021517</td>\n",
              "      <td>-0.010441</td>\n",
              "      <td>0.059006</td>\n",
              "      <td>1.000000</td>\n",
              "      <td>-0.072702</td>\n",
              "      <td>-0.071701</td>\n",
              "      <td>-0.035813</td>\n",
              "      <td>-0.074119</td>\n",
              "      <td>0.021988</td>\n",
              "      <td>-0.052177</td>\n",
              "      <td>0.090292</td>\n",
              "      <td>-0.031433</td>\n",
              "    </tr>\n",
              "    <tr>\n",
              "      <th>rated by</th>\n",
              "      <td>0.018827</td>\n",
              "      <td>0.111823</td>\n",
              "      <td>0.008963</td>\n",
              "      <td>-0.114396</td>\n",
              "      <td>-0.072702</td>\n",
              "      <td>1.000000</td>\n",
              "      <td>0.268592</td>\n",
              "      <td>-0.007346</td>\n",
              "      <td>0.227355</td>\n",
              "      <td>0.294901</td>\n",
              "      <td>0.253872</td>\n",
              "      <td>-0.122537</td>\n",
              "      <td>-0.000689</td>\n",
              "    </tr>\n",
              "    <tr>\n",
              "      <th>listed_in</th>\n",
              "      <td>-0.034812</td>\n",
              "      <td>0.096033</td>\n",
              "      <td>0.034817</td>\n",
              "      <td>0.006537</td>\n",
              "      <td>-0.071701</td>\n",
              "      <td>0.268592</td>\n",
              "      <td>1.000000</td>\n",
              "      <td>-0.047119</td>\n",
              "      <td>0.272793</td>\n",
              "      <td>0.237928</td>\n",
              "      <td>0.211475</td>\n",
              "      <td>-0.262196</td>\n",
              "      <td>0.007596</td>\n",
              "    </tr>\n",
              "    <tr>\n",
              "      <th>description</th>\n",
              "      <td>0.060331</td>\n",
              "      <td>0.001448</td>\n",
              "      <td>-0.023193</td>\n",
              "      <td>0.044260</td>\n",
              "      <td>-0.035813</td>\n",
              "      <td>-0.007346</td>\n",
              "      <td>-0.047119</td>\n",
              "      <td>1.000000</td>\n",
              "      <td>0.000238</td>\n",
              "      <td>-0.106223</td>\n",
              "      <td>-0.073769</td>\n",
              "      <td>-0.074531</td>\n",
              "      <td>-0.020373</td>\n",
              "    </tr>\n",
              "    <tr>\n",
              "      <th>type</th>\n",
              "      <td>-0.007337</td>\n",
              "      <td>0.386032</td>\n",
              "      <td>0.003884</td>\n",
              "      <td>0.047698</td>\n",
              "      <td>-0.074119</td>\n",
              "      <td>0.227355</td>\n",
              "      <td>0.272793</td>\n",
              "      <td>0.000238</td>\n",
              "      <td>1.000000</td>\n",
              "      <td>0.078056</td>\n",
              "      <td>0.072817</td>\n",
              "      <td>-0.459747</td>\n",
              "      <td>-0.012297</td>\n",
              "    </tr>\n",
              "    <tr>\n",
              "      <th>show_id</th>\n",
              "      <td>-0.092970</td>\n",
              "      <td>0.052112</td>\n",
              "      <td>0.047997</td>\n",
              "      <td>-0.272086</td>\n",
              "      <td>0.021988</td>\n",
              "      <td>0.294901</td>\n",
              "      <td>0.237928</td>\n",
              "      <td>-0.106223</td>\n",
              "      <td>0.078056</td>\n",
              "      <td>1.000000</td>\n",
              "      <td>0.643977</td>\n",
              "      <td>-0.183813</td>\n",
              "      <td>0.017506</td>\n",
              "    </tr>\n",
              "    <tr>\n",
              "      <th>release_year</th>\n",
              "      <td>-0.073743</td>\n",
              "      <td>0.021618</td>\n",
              "      <td>-0.008971</td>\n",
              "      <td>-0.169149</td>\n",
              "      <td>-0.052177</td>\n",
              "      <td>0.253872</td>\n",
              "      <td>0.211475</td>\n",
              "      <td>-0.073769</td>\n",
              "      <td>0.072817</td>\n",
              "      <td>0.643977</td>\n",
              "      <td>1.000000</td>\n",
              "      <td>-0.196401</td>\n",
              "      <td>0.049563</td>\n",
              "    </tr>\n",
              "    <tr>\n",
              "      <th>duration</th>\n",
              "      <td>0.062053</td>\n",
              "      <td>-0.224746</td>\n",
              "      <td>0.063190</td>\n",
              "      <td>-0.180636</td>\n",
              "      <td>0.090292</td>\n",
              "      <td>-0.122537</td>\n",
              "      <td>-0.262196</td>\n",
              "      <td>-0.074531</td>\n",
              "      <td>-0.459747</td>\n",
              "      <td>-0.183813</td>\n",
              "      <td>-0.196401</td>\n",
              "      <td>1.000000</td>\n",
              "      <td>-0.015037</td>\n",
              "    </tr>\n",
              "    <tr>\n",
              "      <th>rating</th>\n",
              "      <td>-0.012732</td>\n",
              "      <td>-0.040688</td>\n",
              "      <td>0.027670</td>\n",
              "      <td>0.001502</td>\n",
              "      <td>-0.031433</td>\n",
              "      <td>-0.000689</td>\n",
              "      <td>0.007596</td>\n",
              "      <td>-0.020373</td>\n",
              "      <td>-0.012297</td>\n",
              "      <td>0.017506</td>\n",
              "      <td>0.049563</td>\n",
              "      <td>-0.015037</td>\n",
              "      <td>1.000000</td>\n",
              "    </tr>\n",
              "  </tbody>\n",
              "</table>\n",
              "</div>"
            ],
            "text/plain": [
              "                 title  director      cast  ...  release_year  duration    rating\n",
              "title         1.000000  0.002300  0.074846  ...     -0.073743  0.062053 -0.012732\n",
              "director      0.002300  1.000000 -0.044015  ...      0.021618 -0.224746 -0.040688\n",
              "cast          0.074846 -0.044015  1.000000  ...     -0.008971  0.063190  0.027670\n",
              "country       0.020655 -0.012502 -0.033956  ...     -0.169149 -0.180636  0.001502\n",
              "date_added    0.005145 -0.021517 -0.010441  ...     -0.052177  0.090292 -0.031433\n",
              "rated by      0.018827  0.111823  0.008963  ...      0.253872 -0.122537 -0.000689\n",
              "listed_in    -0.034812  0.096033  0.034817  ...      0.211475 -0.262196  0.007596\n",
              "description   0.060331  0.001448 -0.023193  ...     -0.073769 -0.074531 -0.020373\n",
              "type         -0.007337  0.386032  0.003884  ...      0.072817 -0.459747 -0.012297\n",
              "show_id      -0.092970  0.052112  0.047997  ...      0.643977 -0.183813  0.017506\n",
              "release_year -0.073743  0.021618 -0.008971  ...      1.000000 -0.196401  0.049563\n",
              "duration      0.062053 -0.224746  0.063190  ...     -0.196401  1.000000 -0.015037\n",
              "rating       -0.012732 -0.040688  0.027670  ...      0.049563 -0.015037  1.000000\n",
              "\n",
              "[13 rows x 13 columns]"
            ]
          },
          "metadata": {},
          "execution_count": 267
        }
      ]
    },
    {
      "cell_type": "code",
      "metadata": {
        "colab": {
          "base_uri": "https://localhost:8080/"
        },
        "id": "e8hr1yTh8nb3",
        "outputId": "37b21c1b-163b-45f8-a1cd-c50b43ac9029"
      },
      "source": [
        "def correlation(dataset, threshold):\n",
        "    col_corr = set()  # Set of all the names of correlated columns\n",
        "    corr_matrix = dataset.corr()\n",
        "    for i in range(len(corr_matrix.columns)):\n",
        "        for j in range(i):\n",
        "            if abs(corr_matrix.iloc[i, j]) > threshold: # we are interested in absolute coeff value\n",
        "                colname = corr_matrix.columns[i]  # getting the name of column\n",
        "                col_corr.add(colname)\n",
        "    return col_corr\n",
        "\n",
        "corr_features = correlation(fs, 0.4)\n",
        "len(set(corr_features))"
      ],
      "execution_count": 268,
      "outputs": [
        {
          "output_type": "execute_result",
          "data": {
            "text/plain": [
              "2"
            ]
          },
          "metadata": {},
          "execution_count": 268
        }
      ]
    },
    {
      "cell_type": "code",
      "metadata": {
        "colab": {
          "base_uri": "https://localhost:8080/"
        },
        "id": "p5Op8bzfAzBg",
        "outputId": "d6bd2891-0300-4be7-e14b-0b98f37c88de"
      },
      "source": [
        "corr_features"
      ],
      "execution_count": 269,
      "outputs": [
        {
          "output_type": "execute_result",
          "data": {
            "text/plain": [
              "{'duration', 'release_year'}"
            ]
          },
          "metadata": {},
          "execution_count": 269
        }
      ]
    },
    {
      "cell_type": "code",
      "metadata": {
        "colab": {
          "base_uri": "https://localhost:8080/"
        },
        "id": "r2nhzijw_VWA",
        "outputId": "ba244e9d-5b30-43b5-d5a5-f1aa6b82e44f"
      },
      "source": [
        "df.drop(corr_features, axis=1, inplace = True)\n",
        "df.shape"
      ],
      "execution_count": 270,
      "outputs": [
        {
          "output_type": "execute_result",
          "data": {
            "text/plain": [
              "(985, 11)"
            ]
          },
          "metadata": {},
          "execution_count": 270
        }
      ]
    },
    {
      "cell_type": "markdown",
      "metadata": {
        "id": "mCDOmiSsJGWR"
      },
      "source": [
        "**Inference** - Drama appears to be the most popular genre followed by Comedy"
      ]
    },
    {
      "cell_type": "code",
      "metadata": {
        "id": "i6VDIoVmO4Gb",
        "colab": {
          "base_uri": "https://localhost:8080/",
          "height": 607
        },
        "outputId": "2d54fb6d-a8eb-438e-b9a2-f1a5a9979e49"
      },
      "source": [
        "df['listed_in'] = df['listed_in'].str.strip('[]').str.replace(' ','').str.replace(\"'\",'') #Cleaning the listed_in column to find the list of genres\n",
        "df['listed_in'] = df['listed_in'].str.split(',')\n",
        "\n",
        "#plotting the genres in terms of their occurrence to get an insight into movie genres in terms of popularity.\n",
        "plt.subplots(figsize=(12,10))\n",
        "list1 = []\n",
        "for i in df['listed_in']:\n",
        "    list1.extend(i)\n",
        "ax = pd.Series(list1).value_counts()[:10].sort_values(ascending=True).plot.barh(width=0.9,color=sns.color_palette('hls',10))\n",
        "for i, v in enumerate(pd.Series(list1).value_counts()[:10].sort_values(ascending=True).values): \n",
        "    ax.text(.8, i, v,fontsize=12,color='white',weight='bold')\n",
        "plt.title('Top Genres')\n",
        "plt.show()"
      ],
      "execution_count": 271,
      "outputs": [
        {
          "output_type": "display_data",
          "data": {
            "image/png": "[encoded data removed]",
            "text/plain": [
              "<Figure size 864x720 with 1 Axes>"
            ]
          },
          "metadata": {
            "needs_background": "light"
          }
        }
      ]
    },
    {
      "cell_type": "code",
      "metadata": {
        "id": "YW6uMsw_QMLR",
        "colab": {
          "base_uri": "https://localhost:8080/"
        },
        "outputId": "348464bf-ec33-415a-e754-27fa0b990e98"
      },
      "source": [
        "for i,j in zip(df['listed_in'],df.index):\n",
        "    list2=[]\n",
        "    list2=i\n",
        "    list2.sort()\n",
        "    df.loc[j,'listed_in']=str(list2)\n",
        "df['listed_in'] = df['listed_in'].str.strip('[]').str.replace(' ','').str.replace(\"'\",'')\n",
        "df['listed_in'] = df['listed_in'].str.split(',')\n",
        "genreList = []\n",
        "for index, row in df.iterrows():\n",
        "    listed_in = row[\"listed_in\"]\n",
        "    \n",
        "    for genre in listed_in:\n",
        "        if genre not in genreList:\n",
        "            genreList.append(genre)\n",
        "genreList[:10] #now we have a list with unique genres \n",
        "\n",
        "def binary(genre_list): #Applying the binary() function to the genres column to get the genre_list\n",
        "    binaryList = []\n",
        "    \n",
        "    for genre in genreList:\n",
        "        if genre in genre_list:\n",
        "            binaryList.append(1)\n",
        "        else:\n",
        "            binaryList.append(0)\n",
        "    \n",
        "    return binaryList\n",
        "\n",
        "df['genres_bin'] = df['listed_in'].apply(lambda x: binary(x))\n",
        "df['genres_bin'].head()"
      ],
      "execution_count": 272,
      "outputs": [
        {
          "output_type": "execute_result",
          "data": {
            "text/plain": [
              "0    [1, 1, 1, 0, 0, 0, 0, 0, 0, 0, 0, 0, 0, 0, 0, ...\n",
              "1    [0, 0, 0, 1, 1, 0, 0, 0, 0, 0, 0, 0, 0, 0, 0, ...\n",
              "2    [0, 0, 0, 0, 1, 1, 1, 0, 0, 0, 0, 0, 0, 0, 0, ...\n",
              "3    [0, 0, 0, 0, 1, 0, 1, 1, 0, 0, 0, 0, 0, 0, 0, ...\n",
              "4    [0, 0, 0, 0, 0, 0, 0, 0, 1, 0, 0, 0, 0, 0, 0, ...\n",
              "Name: genres_bin, dtype: object"
            ]
          },
          "metadata": {},
          "execution_count": 272
        }
      ]
    },
    {
      "cell_type": "code",
      "metadata": {
        "id": "J9rKgzmkRXMh",
        "colab": {
          "base_uri": "https://localhost:8080/"
        },
        "outputId": "125ae6bc-e5da-4b6e-d51f-2c461141a073"
      },
      "source": [
        "df['cast'] = df['cast'].str.strip('[]').str.replace(' ','').str.replace(\"'\",'').str.replace('\"','')\n",
        "df['cast'] = df['cast'].str.split(',')\n",
        "\n",
        "for i,j in zip(df['cast'],df.index):\n",
        "    list2 = []\n",
        "    list2 = i[:4]\n",
        "    df.loc[j,'cast'] = str(list2)\n",
        "df['cast'] = df['cast'].str.strip('[]').str.replace(' ','').str.replace(\"'\",'')\n",
        "df['cast'] = df['cast'].str.split(',')\n",
        "for i,j in zip(df['cast'],df.index):\n",
        "    list2 = []\n",
        "    list2 = i\n",
        "    list2.sort()\n",
        "    df.loc[j,'cast'] = str(list2)\n",
        "df['cast']=df['cast'].str.strip('[]').str.replace(' ','').str.replace(\"'\",'')\n",
        "\n",
        "castList = [] #now we have a list with unique cast of the movies\n",
        "for index, row in df.iterrows():\n",
        "    cast = row[\"cast\"]\n",
        "    \n",
        "    for i in cast:\n",
        "        if i not in castList:\n",
        "            castList.append(i)\n",
        "\n",
        "def binary(cast_list): #Applying the binary() function to the cast column to get the cast_list\n",
        "    binaryList = []\n",
        "    \n",
        "    for genre in castList:\n",
        "        if genre in cast_list:\n",
        "            binaryList.append(1)\n",
        "        else:\n",
        "            binaryList.append(0)\n",
        "    \n",
        "    return binaryList\n",
        "\n",
        "df['cast_bin'] = df['cast'].apply(lambda x: binary(x))\n",
        "df['cast_bin'].head()"
      ],
      "execution_count": 273,
      "outputs": [
        {
          "output_type": "execute_result",
          "data": {
            "text/plain": [
              "0    [1, 1, 1, 1, 1, 1, 1, 1, 1, 1, 1, 1, 1, 1, 1, ...\n",
              "1    [0, 1, 0, 1, 0, 0, 1, 1, 0, 0, 0, 1, 0, 0, 0, ...\n",
              "2    [0, 1, 0, 1, 0, 0, 1, 1, 1, 0, 1, 1, 1, 1, 1, ...\n",
              "3    [0, 1, 0, 1, 0, 1, 1, 1, 1, 1, 1, 1, 1, 0, 0, ...\n",
              "4    [0, 1, 0, 1, 0, 0, 1, 1, 1, 1, 0, 1, 1, 0, 0, ...\n",
              "Name: cast_bin, dtype: object"
            ]
          },
          "metadata": {},
          "execution_count": 273
        }
      ]
    },
    {
      "cell_type": "code",
      "metadata": {
        "id": "TJX-yU2PygM8",
        "colab": {
          "base_uri": "https://localhost:8080/"
        },
        "outputId": "6f4baabe-761a-4e2e-e35c-0b8b2158b2fa"
      },
      "source": [
        "df['director'] = df['director'].str.strip('[]').str.replace(' ','').str.replace(\"'\",'').str.replace('\"','')\n",
        "df['director'] = df['director'].str.split(',')\n",
        "def xstr(s):\n",
        "    if s is None:\n",
        "        return ''\n",
        "    return str(s)\n",
        "df['director'] = df['director'].apply(xstr)\n",
        "\n",
        "directorList=[] #now we have a list with unique directors of movies and TV shows\n",
        "for i in df['director']:\n",
        "    if i not in directorList:\n",
        "        directorList.append(i)\n",
        "\n",
        "def binary(director_list): #Applying the binary() function to the director column to get the director_list\n",
        "    binaryList = []  \n",
        "    for direct in directorList:\n",
        "        if direct in director_list:\n",
        "            binaryList.append(1)\n",
        "        else:\n",
        "            binaryList.append(0)\n",
        "    return binaryList\n",
        "\n",
        "df['director_bin'] = df['director'].apply(lambda x: binary(x))\n",
        "df['director_bin'].head()"
      ],
      "execution_count": 274,
      "outputs": [
        {
          "output_type": "execute_result",
          "data": {
            "text/plain": [
              "0    [1, 0, 0, 0, 0, 0, 0, 0, 0, 0, 0, 0, 0, 0, 0, ...\n",
              "1    [0, 1, 0, 0, 0, 0, 0, 0, 0, 0, 0, 0, 0, 0, 0, ...\n",
              "2    [0, 0, 1, 0, 0, 0, 0, 0, 0, 0, 0, 0, 0, 0, 0, ...\n",
              "3    [0, 0, 0, 1, 0, 0, 0, 0, 0, 0, 0, 0, 0, 0, 0, ...\n",
              "4    [0, 0, 0, 0, 1, 0, 0, 0, 0, 0, 0, 0, 0, 0, 0, ...\n",
              "Name: director_bin, dtype: object"
            ]
          },
          "metadata": {},
          "execution_count": 274
        }
      ]
    },
    {
      "cell_type": "code",
      "metadata": {
        "colab": {
          "base_uri": "https://localhost:8080/"
        },
        "id": "ewHtXu9lFrVW",
        "outputId": "42aec527-fd5b-4869-8cf3-e05cb925b54c"
      },
      "source": [
        "def xstr(s):\n",
        "    if s is None:\n",
        "        return ''\n",
        "    return str(s)\n",
        "df['rated by'] = df['rated by'].apply(xstr)\n",
        "\n",
        "ratedbyList=[] #now we have a list with unique values of rated by\n",
        "for i in df['rated by']:\n",
        "    if i not in ratedbyList:\n",
        "        ratedbyList.append(i)\n",
        "\n",
        "def binary(ratedby_list):  #Applying the binary() function to the rated by column to get the rated by_list\n",
        "    binaryList = []  \n",
        "    for rated in ratedbyList:\n",
        "        if rated in ratedby_list:\n",
        "            binaryList.append(1)\n",
        "        else:\n",
        "            binaryList.append(0)\n",
        "    return binaryList\n",
        "\n",
        "df['rated by_bin'] = df['rated by'].apply(lambda x: binary(x))\n",
        "df['rated by_bin'].head()"
      ],
      "execution_count": 275,
      "outputs": [
        {
          "output_type": "execute_result",
          "data": {
            "text/plain": [
              "0    [1, 0, 0, 0, 0, 0, 0, 0, 0, 0]\n",
              "1    [0, 1, 0, 0, 0, 0, 0, 0, 0, 0]\n",
              "2    [1, 0, 0, 0, 0, 0, 0, 0, 0, 0]\n",
              "3    [1, 0, 0, 0, 0, 0, 0, 0, 0, 0]\n",
              "4    [0, 0, 1, 0, 0, 0, 0, 0, 0, 0]\n",
              "Name: rated by_bin, dtype: object"
            ]
          },
          "metadata": {},
          "execution_count": 275
        }
      ]
    },
    {
      "cell_type": "code",
      "metadata": {
        "colab": {
          "base_uri": "https://localhost:8080/"
        },
        "id": "s1SjqTT6HFKd",
        "outputId": "ef8ffb82-d7e5-4273-93d4-4ac14ff8b1fc"
      },
      "source": [
        "def xstr(s):\n",
        "    if s is None:\n",
        "        return ''\n",
        "    return str(s)\n",
        "df['country'] = df['country'].apply(xstr)\n",
        "\n",
        "countryList=[] #now we have a list with unique countries where the movies or TV shows are released\n",
        "for i in df['country']:\n",
        "    if i not in countryList:\n",
        "        countryList.append(i)\n",
        "\n",
        "def binary(country_list): #Applying the binary() function to the country list column to get the country_list\n",
        "    binaryList = []  \n",
        "    for count in countryList:\n",
        "        if count in country_list:\n",
        "            binaryList.append(1)\n",
        "        else:\n",
        "            binaryList.append(0)\n",
        "    return binaryList\n",
        "\n",
        "df['country_bin'] = df['country'].apply(lambda x: binary(x))\n",
        "df['country_bin'].head()"
      ],
      "execution_count": 276,
      "outputs": [
        {
          "output_type": "execute_result",
          "data": {
            "text/plain": [
              "0    [1, 0, 0, 0, 0, 0, 0, 0, 0, 0, 0, 0, 0, 0, 0, ...\n",
              "1    [0, 1, 0, 0, 0, 0, 0, 0, 0, 0, 0, 0, 0, 0, 0, ...\n",
              "2    [0, 0, 1, 0, 0, 0, 0, 0, 0, 0, 0, 0, 0, 0, 0, ...\n",
              "3    [0, 0, 0, 1, 0, 0, 0, 0, 0, 0, 0, 1, 0, 0, 0, ...\n",
              "4    [0, 0, 0, 0, 1, 0, 0, 0, 0, 0, 0, 0, 0, 0, 0, ...\n",
              "Name: country_bin, dtype: object"
            ]
          },
          "metadata": {},
          "execution_count": 276
        }
      ]
    },
    {
      "cell_type": "code",
      "metadata": {
        "colab": {
          "base_uri": "https://localhost:8080/"
        },
        "id": "T659iRl9I5qn",
        "outputId": "87da06c1-f10f-4e69-87b7-7b7173542b12"
      },
      "source": [
        "def xstr(s):\n",
        "    if s is None:\n",
        "        return ''\n",
        "    return str(s)\n",
        "df['type'] = df['type'].apply(xstr)\n",
        "\n",
        "typeList=[] #now we have a list with unique type i.e, movies or TV shows\n",
        "for i in df['type']:\n",
        "    if i not in typeList:\n",
        "        typeList.append(i)\n",
        "\n",
        "def binary(type_list): #Applying the binary() function to the type list column to get the type_list\n",
        "    binaryList = []  \n",
        "    for ty in typeList:\n",
        "        if ty in type_list:\n",
        "            binaryList.append(1)\n",
        "        else:\n",
        "            binaryList.append(0)\n",
        "    return binaryList\n",
        "\n",
        "df['type_bin'] = df['type'].apply(lambda x: binary(x))\n",
        "df['type_bin'].head()"
      ],
      "execution_count": 277,
      "outputs": [
        {
          "output_type": "execute_result",
          "data": {
            "text/plain": [
              "0    [1, 0]\n",
              "1    [0, 1]\n",
              "2    [0, 1]\n",
              "3    [0, 1]\n",
              "4    [1, 0]\n",
              "Name: type_bin, dtype: object"
            ]
          },
          "metadata": {},
          "execution_count": 277
        }
      ]
    },
    {
      "cell_type": "code",
      "metadata": {
        "colab": {
          "base_uri": "https://localhost:8080/",
          "height": 607
        },
        "id": "tgOzWAXuDv3D",
        "outputId": "b12565a2-e4d7-41ab-ead6-e991a6a53a82"
      },
      "source": [
        "plt.subplots(figsize=(12,10))\n",
        "ax = df[df['type']!=''].type.value_counts()[:10].sort_values(ascending=True).plot.barh(width=0.9,color=sns.color_palette('muted',40))\n",
        "for i, v in enumerate(df[df['type']!=''].type.value_counts()[:10].sort_values(ascending=True).values): \n",
        "    ax.text(.5, i, v,fontsize=12,color='white',weight='bold')\n",
        "plt.title('Show type with highest movies')\n",
        "plt.show()"
      ],
      "execution_count": 278,
      "outputs": [
        {
          "output_type": "display_data",
          "data": {
            "image/png": "[encoded data removed]",
            "text/plain": [
              "<Figure size 864x720 with 1 Axes>"
            ]
          },
          "metadata": {
            "needs_background": "light"
          }
        }
      ]
    },
    {
      "cell_type": "markdown",
      "metadata": {
        "id": "Q6qQivQeMvdK"
      },
      "source": [
        "**INFERENCE:** There are more number of Movies than TV shows"
      ]
    },
    {
      "cell_type": "code",
      "metadata": {
        "colab": {
          "base_uri": "https://localhost:8080/",
          "height": 573
        },
        "id": "biJhY_gqEJtF",
        "outputId": "645206b3-8e7e-48f2-e247-95a80bade47f"
      },
      "source": [
        "df.head()"
      ],
      "execution_count": 279,
      "outputs": [
        {
          "output_type": "execute_result",
          "data": {
            "text/html": [
              "<div>\n",
              "<style scoped>\n",
              "    .dataframe tbody tr th:only-of-type {\n",
              "        vertical-align: middle;\n",
              "    }\n",
              "\n",
              "    .dataframe tbody tr th {\n",
              "        vertical-align: top;\n",
              "    }\n",
              "\n",
              "    .dataframe thead th {\n",
              "        text-align: right;\n",
              "    }\n",
              "</style>\n",
              "<table border=\"1\" class=\"dataframe\">\n",
              "  <thead>\n",
              "    <tr style=\"text-align: right;\">\n",
              "      <th></th>\n",
              "      <th>title</th>\n",
              "      <th>director</th>\n",
              "      <th>cast</th>\n",
              "      <th>country</th>\n",
              "      <th>date_added</th>\n",
              "      <th>rated by</th>\n",
              "      <th>listed_in</th>\n",
              "      <th>description</th>\n",
              "      <th>type</th>\n",
              "      <th>show_id</th>\n",
              "      <th>rating</th>\n",
              "      <th>genres_bin</th>\n",
              "      <th>cast_bin</th>\n",
              "      <th>director_bin</th>\n",
              "      <th>rated by_bin</th>\n",
              "      <th>country_bin</th>\n",
              "      <th>type_bin</th>\n",
              "    </tr>\n",
              "  </thead>\n",
              "  <tbody>\n",
              "    <tr>\n",
              "      <th>0</th>\n",
              "      <td>Chocolate - 1 Season</td>\n",
              "      <td>['TokaMcBaror']</td>\n",
              "      <td>HaJi-won,JangSeung-jo,KangBu-ja,YoonKye-sang</td>\n",
              "      <td>South Korea</td>\n",
              "      <td>November 30, 2019</td>\n",
              "      <td>TV-14</td>\n",
              "      <td>[InternationalTVShows, KoreanTVShows, Romantic...</td>\n",
              "      <td>Brought together by meaningful meals in the pa...</td>\n",
              "      <td>TV Show</td>\n",
              "      <td>81193313</td>\n",
              "      <td>6.3</td>\n",
              "      <td>[1, 1, 1, 0, 0, 0, 0, 0, 0, 0, 0, 0, 0, 0, 0, ...</td>\n",
              "      <td>[1, 1, 1, 1, 1, 1, 1, 1, 1, 1, 1, 1, 1, 1, 1, ...</td>\n",
              "      <td>[1, 0, 0, 0, 0, 0, 0, 0, 0, 0, 0, 0, 0, 0, 0, ...</td>\n",
              "      <td>[1, 0, 0, 0, 0, 0, 0, 0, 0, 0]</td>\n",
              "      <td>[1, 0, 0, 0, 0, 0, 0, 0, 0, 0, 0, 0, 0, 0, 0, ...</td>\n",
              "      <td>[1, 0]</td>\n",
              "    </tr>\n",
              "    <tr>\n",
              "      <th>1</th>\n",
              "      <td>Guatemala: Heart of the Mayan World</td>\n",
              "      <td>['LuisAra', 'IgnacioJaunsolo']</td>\n",
              "      <td>ChristianMorales</td>\n",
              "      <td>Unknown</td>\n",
              "      <td>November 30, 2019</td>\n",
              "      <td>G</td>\n",
              "      <td>[Documentaries, InternationalMovies]</td>\n",
              "      <td>From Sierra de las Minas to Esquipulas, explor...</td>\n",
              "      <td>Movie</td>\n",
              "      <td>81197050</td>\n",
              "      <td>7.2</td>\n",
              "      <td>[0, 0, 0, 1, 1, 0, 0, 0, 0, 0, 0, 0, 0, 0, 0, ...</td>\n",
              "      <td>[0, 1, 0, 1, 0, 0, 1, 1, 0, 0, 0, 1, 0, 0, 0, ...</td>\n",
              "      <td>[0, 1, 0, 0, 0, 0, 0, 0, 0, 0, 0, 0, 0, 0, 0, ...</td>\n",
              "      <td>[0, 1, 0, 0, 0, 0, 0, 0, 0, 0]</td>\n",
              "      <td>[0, 1, 0, 0, 0, 0, 0, 0, 0, 0, 0, 0, 0, 0, 0, ...</td>\n",
              "      <td>[0, 1]</td>\n",
              "    </tr>\n",
              "    <tr>\n",
              "      <th>2</th>\n",
              "      <td>The Zoya Factor</td>\n",
              "      <td>['AbhishekSharma']</td>\n",
              "      <td>DulquerSalmaan,SanjayKapoor,SikanderKher,Sonam...</td>\n",
              "      <td>India</td>\n",
              "      <td>November 30, 2019</td>\n",
              "      <td>TV-14</td>\n",
              "      <td>[Comedies, Dramas, InternationalMovies]</td>\n",
              "      <td>A goofy copywriter unwittingly convinces the I...</td>\n",
              "      <td>Movie</td>\n",
              "      <td>81213894</td>\n",
              "      <td>7.2</td>\n",
              "      <td>[0, 0, 0, 0, 1, 1, 1, 0, 0, 0, 0, 0, 0, 0, 0, ...</td>\n",
              "      <td>[0, 1, 0, 1, 0, 0, 1, 1, 1, 0, 1, 1, 1, 1, 1, ...</td>\n",
              "      <td>[0, 0, 1, 0, 0, 0, 0, 0, 0, 0, 0, 0, 0, 0, 0, ...</td>\n",
              "      <td>[1, 0, 0, 0, 0, 0, 0, 0, 0, 0]</td>\n",
              "      <td>[0, 0, 1, 0, 0, 0, 0, 0, 0, 0, 0, 0, 0, 0, 0, ...</td>\n",
              "      <td>[0, 1]</td>\n",
              "    </tr>\n",
              "    <tr>\n",
              "      <th>3</th>\n",
              "      <td>Atlantics</td>\n",
              "      <td>['MatiDiop']</td>\n",
              "      <td>AmadouMbow,IbrahimaTraore,MamaSane,NicoleSougou</td>\n",
              "      <td>France, Senegal, Belgium</td>\n",
              "      <td>November 29, 2019</td>\n",
              "      <td>TV-14</td>\n",
              "      <td>[Dramas, IndependentMovies, InternationalMovies]</td>\n",
              "      <td>Arranged to marry a rich man, young Ada is cru...</td>\n",
              "      <td>Movie</td>\n",
              "      <td>81082007</td>\n",
              "      <td>6.3</td>\n",
              "      <td>[0, 0, 0, 0, 1, 0, 1, 1, 0, 0, 0, 0, 0, 0, 0, ...</td>\n",
              "      <td>[0, 1, 0, 1, 0, 1, 1, 1, 1, 1, 1, 1, 1, 0, 0, ...</td>\n",
              "      <td>[0, 0, 0, 1, 0, 0, 0, 0, 0, 0, 0, 0, 0, 0, 0, ...</td>\n",
              "      <td>[1, 0, 0, 0, 0, 0, 0, 0, 0, 0]</td>\n",
              "      <td>[0, 0, 0, 1, 0, 0, 0, 0, 0, 0, 0, 1, 0, 0, 0, ...</td>\n",
              "      <td>[0, 1]</td>\n",
              "    </tr>\n",
              "    <tr>\n",
              "      <th>4</th>\n",
              "      <td>Chip and Potato - 2 Seasons</td>\n",
              "      <td>['FrankOz']</td>\n",
              "      <td>AbigailOliver,AndreaLibman,BrianDobson,BrianaB...</td>\n",
              "      <td>Canada, United Kingdom</td>\n",
              "      <td>November 27, 2019</td>\n",
              "      <td>TV-Y</td>\n",
              "      <td>[KidsTV]</td>\n",
              "      <td>Lovable pug Chip starts kindergarten, makes ne...</td>\n",
              "      <td>TV Show</td>\n",
              "      <td>80213643</td>\n",
              "      <td>7.7</td>\n",
              "      <td>[0, 0, 0, 0, 0, 0, 0, 0, 1, 0, 0, 0, 0, 0, 0, ...</td>\n",
              "      <td>[0, 1, 0, 1, 0, 0, 1, 1, 1, 1, 0, 1, 1, 0, 0, ...</td>\n",
              "      <td>[0, 0, 0, 0, 1, 0, 0, 0, 0, 0, 0, 0, 0, 0, 0, ...</td>\n",
              "      <td>[0, 0, 1, 0, 0, 0, 0, 0, 0, 0]</td>\n",
              "      <td>[0, 0, 0, 0, 1, 0, 0, 0, 0, 0, 0, 0, 0, 0, 0, ...</td>\n",
              "      <td>[1, 0]</td>\n",
              "    </tr>\n",
              "  </tbody>\n",
              "</table>\n",
              "</div>"
            ],
            "text/plain": [
              "                                 title  ... type_bin\n",
              "0                 Chocolate - 1 Season  ...   [1, 0]\n",
              "1  Guatemala: Heart of the Mayan World  ...   [0, 1]\n",
              "2                      The Zoya Factor  ...   [0, 1]\n",
              "3                            Atlantics  ...   [0, 1]\n",
              "4          Chip and Potato - 2 Seasons  ...   [1, 0]\n",
              "\n",
              "[5 rows x 17 columns]"
            ]
          },
          "metadata": {},
          "execution_count": 279
        }
      ]
    },
    {
      "cell_type": "code",
      "metadata": {
        "id": "yN3Plm_xzKVM"
      },
      "source": [
        "from scipy import spatial\n",
        "#We use Cosine Similarity for finding the similarity between 2 movies(based on the distance).\n",
        "def Similarity(movieId1, movieId2):#The function similarity which will check the similarity between the movies.\n",
        "    a = df.iloc[movieId1]\n",
        "    b = df.iloc[movieId2]\n",
        "    \n",
        "    genresA = a['genres_bin']\n",
        "    genresB = b['genres_bin']\n",
        "    \n",
        "    genreDistance = spatial.distance.cosine(genresA, genresB)\n",
        "\n",
        "    scoreA = a['cast_bin']\n",
        "    scoreB = b['cast_bin']\n",
        "    scoreDistance = spatial.distance.cosine(scoreA, scoreB)\n",
        "    \n",
        "    directA = a['director_bin']\n",
        "    directB = b['director_bin']\n",
        "    directDistance = spatial.distance.cosine(directA, directB)\n",
        "\n",
        "    ratedA = a['rated by_bin']\n",
        "    ratedB = b['rated by_bin']\n",
        "    ratedDistance = spatial.distance.cosine(ratedA, ratedB)\n",
        "\n",
        "    countryA = a['country_bin']\n",
        "    countryB = b['country_bin']\n",
        "    countryDistance = spatial.distance.cosine(countryA, countryB)\n",
        "\n",
        "    typeA = a['type_bin']\n",
        "    typeB = b['type_bin']\n",
        "    typeDistance = spatial.distance.cosine(typeA, typeB)\n",
        "     \n",
        "    l=[genreDistance,directDistance,scoreDistance,ratedDistance,countryDistance,typeDistance]\n",
        "    m = min(l)\n",
        "    min_index = l.index(m)\n",
        "    \n",
        "    return genreDistance + directDistance + scoreDistance + ratedDistance + countryDistance + typeDistance , min_index"
      ],
      "execution_count": 280,
      "outputs": []
    },
    {
      "cell_type": "code",
      "metadata": {
        "colab": {
          "base_uri": "https://localhost:8080/"
        },
        "id": "eYZiefFSzVN7",
        "outputId": "e4689f0b-2b13-4b47-f4ca-03cd857a139f"
      },
      "source": [
        "r,r1=Similarity(3,160) #checking similarity between any 2 random movies\n",
        "#The more the distance, the less similar the movies are\n",
        "print(r)"
      ],
      "execution_count": 281,
      "outputs": [
        {
          "output_type": "stream",
          "name": "stdout",
          "text": [
            "4.3907282041550575\n"
          ]
        }
      ]
    },
    {
      "cell_type": "code",
      "metadata": {
        "colab": {
          "base_uri": "https://localhost:8080/"
        },
        "id": "Cg1AfaWl0cCS",
        "outputId": "c7826eae-47b3-4425-f73a-363b99555be3"
      },
      "source": [
        "#We see that the distance is about 4.3907282041550575, which is high.\n",
        "##It is evident that they are very different movies. Thus the distance is huge.\n",
        "print(df.iloc[3])\n",
        "print(df.iloc[160])"
      ],
      "execution_count": 282,
      "outputs": [
        {
          "output_type": "stream",
          "name": "stdout",
          "text": [
            "title                                                   Atlantics\n",
            "director                                             ['MatiDiop']\n",
            "cast              AmadouMbow,IbrahimaTraore,MamaSane,NicoleSougou\n",
            "country                                  France, Senegal, Belgium\n",
            "date_added                                      November 29, 2019\n",
            "rated by                                                    TV-14\n",
            "listed_in        [Dramas, IndependentMovies, InternationalMovies]\n",
            "description     Arranged to marry a rich man, young Ada is cru...\n",
            "type                                                        Movie\n",
            "show_id                                                  81082007\n",
            "rating                                                        6.3\n",
            "genres_bin      [0, 0, 0, 0, 1, 0, 1, 1, 0, 0, 0, 0, 0, 0, 0, ...\n",
            "cast_bin        [0, 1, 0, 1, 0, 1, 1, 1, 1, 1, 1, 1, 1, 0, 0, ...\n",
            "director_bin    [0, 0, 0, 1, 0, 0, 0, 0, 0, 0, 0, 0, 0, 0, 0, ...\n",
            "rated by_bin                       [1, 0, 0, 0, 0, 0, 0, 0, 0, 0]\n",
            "country_bin     [0, 0, 0, 1, 0, 0, 0, 0, 0, 0, 0, 1, 0, 0, 0, ...\n",
            "type_bin                                                   [0, 1]\n",
            "Name: 3, dtype: object\n",
            "title                                                 Nacho Libre\n",
            "director                                            ['JaredHess']\n",
            "cast            AnadelaReguera,DariusRose,HéctorJiménez,JackBlack\n",
            "country                                     United States, Mexico\n",
            "date_added                                       November 1, 2019\n",
            "rated by                                                       PG\n",
            "listed_in                                [Comedies, SportsMovies]\n",
            "description     When Ignacio learns of an orphanage's financia...\n",
            "type                                                        Movie\n",
            "show_id                                                  70044883\n",
            "rating                                                        8.4\n",
            "genres_bin      [0, 0, 0, 0, 0, 1, 0, 0, 0, 0, 0, 0, 0, 0, 0, ...\n",
            "cast_bin        [1, 1, 1, 1, 0, 0, 1, 1, 1, 1, 0, 1, 1, 0, 0, ...\n",
            "director_bin    [0, 0, 0, 0, 0, 0, 0, 0, 0, 0, 0, 0, 0, 0, 0, ...\n",
            "rated by_bin                       [0, 1, 0, 0, 0, 1, 0, 0, 0, 0]\n",
            "country_bin     [0, 0, 0, 0, 0, 0, 0, 0, 1, 0, 0, 0, 0, 0, 1, ...\n",
            "type_bin                                                   [0, 1]\n",
            "Name: 160, dtype: object\n"
          ]
        }
      ]
    },
    {
      "cell_type": "code",
      "metadata": {
        "colab": {
          "base_uri": "https://localhost:8080/",
          "height": 573
        },
        "id": "VirH7S990tKI",
        "outputId": "01b1867f-2bca-499a-8ff1-af407c2c0f23"
      },
      "source": [
        "new_id = list(range(0,df.shape[0]))\n",
        "df['new_id']=new_id\n",
        "df=df[['show_id','new_id','title','listed_in','genres_bin','rating','cast','cast_bin','director','director_bin','type','type_bin','country','country_bin','rated by','rated by_bin']]\n",
        "df.head()"
      ],
      "execution_count": 283,
      "outputs": [
        {
          "output_type": "execute_result",
          "data": {
            "text/html": [
              "<div>\n",
              "<style scoped>\n",
              "    .dataframe tbody tr th:only-of-type {\n",
              "        vertical-align: middle;\n",
              "    }\n",
              "\n",
              "    .dataframe tbody tr th {\n",
              "        vertical-align: top;\n",
              "    }\n",
              "\n",
              "    .dataframe thead th {\n",
              "        text-align: right;\n",
              "    }\n",
              "</style>\n",
              "<table border=\"1\" class=\"dataframe\">\n",
              "  <thead>\n",
              "    <tr style=\"text-align: right;\">\n",
              "      <th></th>\n",
              "      <th>show_id</th>\n",
              "      <th>new_id</th>\n",
              "      <th>title</th>\n",
              "      <th>listed_in</th>\n",
              "      <th>genres_bin</th>\n",
              "      <th>rating</th>\n",
              "      <th>cast</th>\n",
              "      <th>cast_bin</th>\n",
              "      <th>director</th>\n",
              "      <th>director_bin</th>\n",
              "      <th>type</th>\n",
              "      <th>type_bin</th>\n",
              "      <th>country</th>\n",
              "      <th>country_bin</th>\n",
              "      <th>rated by</th>\n",
              "      <th>rated by_bin</th>\n",
              "    </tr>\n",
              "  </thead>\n",
              "  <tbody>\n",
              "    <tr>\n",
              "      <th>0</th>\n",
              "      <td>81193313</td>\n",
              "      <td>0</td>\n",
              "      <td>Chocolate - 1 Season</td>\n",
              "      <td>[InternationalTVShows, KoreanTVShows, Romantic...</td>\n",
              "      <td>[1, 1, 1, 0, 0, 0, 0, 0, 0, 0, 0, 0, 0, 0, 0, ...</td>\n",
              "      <td>6.3</td>\n",
              "      <td>HaJi-won,JangSeung-jo,KangBu-ja,YoonKye-sang</td>\n",
              "      <td>[1, 1, 1, 1, 1, 1, 1, 1, 1, 1, 1, 1, 1, 1, 1, ...</td>\n",
              "      <td>['TokaMcBaror']</td>\n",
              "      <td>[1, 0, 0, 0, 0, 0, 0, 0, 0, 0, 0, 0, 0, 0, 0, ...</td>\n",
              "      <td>TV Show</td>\n",
              "      <td>[1, 0]</td>\n",
              "      <td>South Korea</td>\n",
              "      <td>[1, 0, 0, 0, 0, 0, 0, 0, 0, 0, 0, 0, 0, 0, 0, ...</td>\n",
              "      <td>TV-14</td>\n",
              "      <td>[1, 0, 0, 0, 0, 0, 0, 0, 0, 0]</td>\n",
              "    </tr>\n",
              "    <tr>\n",
              "      <th>1</th>\n",
              "      <td>81197050</td>\n",
              "      <td>1</td>\n",
              "      <td>Guatemala: Heart of the Mayan World</td>\n",
              "      <td>[Documentaries, InternationalMovies]</td>\n",
              "      <td>[0, 0, 0, 1, 1, 0, 0, 0, 0, 0, 0, 0, 0, 0, 0, ...</td>\n",
              "      <td>7.2</td>\n",
              "      <td>ChristianMorales</td>\n",
              "      <td>[0, 1, 0, 1, 0, 0, 1, 1, 0, 0, 0, 1, 0, 0, 0, ...</td>\n",
              "      <td>['LuisAra', 'IgnacioJaunsolo']</td>\n",
              "      <td>[0, 1, 0, 0, 0, 0, 0, 0, 0, 0, 0, 0, 0, 0, 0, ...</td>\n",
              "      <td>Movie</td>\n",
              "      <td>[0, 1]</td>\n",
              "      <td>Unknown</td>\n",
              "      <td>[0, 1, 0, 0, 0, 0, 0, 0, 0, 0, 0, 0, 0, 0, 0, ...</td>\n",
              "      <td>G</td>\n",
              "      <td>[0, 1, 0, 0, 0, 0, 0, 0, 0, 0]</td>\n",
              "    </tr>\n",
              "    <tr>\n",
              "      <th>2</th>\n",
              "      <td>81213894</td>\n",
              "      <td>2</td>\n",
              "      <td>The Zoya Factor</td>\n",
              "      <td>[Comedies, Dramas, InternationalMovies]</td>\n",
              "      <td>[0, 0, 0, 0, 1, 1, 1, 0, 0, 0, 0, 0, 0, 0, 0, ...</td>\n",
              "      <td>7.2</td>\n",
              "      <td>DulquerSalmaan,SanjayKapoor,SikanderKher,Sonam...</td>\n",
              "      <td>[0, 1, 0, 1, 0, 0, 1, 1, 1, 0, 1, 1, 1, 1, 1, ...</td>\n",
              "      <td>['AbhishekSharma']</td>\n",
              "      <td>[0, 0, 1, 0, 0, 0, 0, 0, 0, 0, 0, 0, 0, 0, 0, ...</td>\n",
              "      <td>Movie</td>\n",
              "      <td>[0, 1]</td>\n",
              "      <td>India</td>\n",
              "      <td>[0, 0, 1, 0, 0, 0, 0, 0, 0, 0, 0, 0, 0, 0, 0, ...</td>\n",
              "      <td>TV-14</td>\n",
              "      <td>[1, 0, 0, 0, 0, 0, 0, 0, 0, 0]</td>\n",
              "    </tr>\n",
              "    <tr>\n",
              "      <th>3</th>\n",
              "      <td>81082007</td>\n",
              "      <td>3</td>\n",
              "      <td>Atlantics</td>\n",
              "      <td>[Dramas, IndependentMovies, InternationalMovies]</td>\n",
              "      <td>[0, 0, 0, 0, 1, 0, 1, 1, 0, 0, 0, 0, 0, 0, 0, ...</td>\n",
              "      <td>6.3</td>\n",
              "      <td>AmadouMbow,IbrahimaTraore,MamaSane,NicoleSougou</td>\n",
              "      <td>[0, 1, 0, 1, 0, 1, 1, 1, 1, 1, 1, 1, 1, 0, 0, ...</td>\n",
              "      <td>['MatiDiop']</td>\n",
              "      <td>[0, 0, 0, 1, 0, 0, 0, 0, 0, 0, 0, 0, 0, 0, 0, ...</td>\n",
              "      <td>Movie</td>\n",
              "      <td>[0, 1]</td>\n",
              "      <td>France, Senegal, Belgium</td>\n",
              "      <td>[0, 0, 0, 1, 0, 0, 0, 0, 0, 0, 0, 1, 0, 0, 0, ...</td>\n",
              "      <td>TV-14</td>\n",
              "      <td>[1, 0, 0, 0, 0, 0, 0, 0, 0, 0]</td>\n",
              "    </tr>\n",
              "    <tr>\n",
              "      <th>4</th>\n",
              "      <td>80213643</td>\n",
              "      <td>4</td>\n",
              "      <td>Chip and Potato - 2 Seasons</td>\n",
              "      <td>[KidsTV]</td>\n",
              "      <td>[0, 0, 0, 0, 0, 0, 0, 0, 1, 0, 0, 0, 0, 0, 0, ...</td>\n",
              "      <td>7.7</td>\n",
              "      <td>AbigailOliver,AndreaLibman,BrianDobson,BrianaB...</td>\n",
              "      <td>[0, 1, 0, 1, 0, 0, 1, 1, 1, 1, 0, 1, 1, 0, 0, ...</td>\n",
              "      <td>['FrankOz']</td>\n",
              "      <td>[0, 0, 0, 0, 1, 0, 0, 0, 0, 0, 0, 0, 0, 0, 0, ...</td>\n",
              "      <td>TV Show</td>\n",
              "      <td>[1, 0]</td>\n",
              "      <td>Canada, United Kingdom</td>\n",
              "      <td>[0, 0, 0, 0, 1, 0, 0, 0, 0, 0, 0, 0, 0, 0, 0, ...</td>\n",
              "      <td>TV-Y</td>\n",
              "      <td>[0, 0, 1, 0, 0, 0, 0, 0, 0, 0]</td>\n",
              "    </tr>\n",
              "  </tbody>\n",
              "</table>\n",
              "</div>"
            ],
            "text/plain": [
              "    show_id  new_id  ... rated by                    rated by_bin\n",
              "0  81193313       0  ...    TV-14  [1, 0, 0, 0, 0, 0, 0, 0, 0, 0]\n",
              "1  81197050       1  ...        G  [0, 1, 0, 0, 0, 0, 0, 0, 0, 0]\n",
              "2  81213894       2  ...    TV-14  [1, 0, 0, 0, 0, 0, 0, 0, 0, 0]\n",
              "3  81082007       3  ...    TV-14  [1, 0, 0, 0, 0, 0, 0, 0, 0, 0]\n",
              "4  80213643       4  ...     TV-Y  [0, 0, 1, 0, 0, 0, 0, 0, 0, 0]\n",
              "\n",
              "[5 rows x 16 columns]"
            ]
          },
          "metadata": {},
          "execution_count": 283
        }
      ]
    },
    {
      "cell_type": "code",
      "metadata": {
        "id": "UEkkBq07hQio"
      },
      "source": [
        "data1 = pd.DataFrame(columns=['Title','Genre','Rating','Reason'])"
      ],
      "execution_count": 284,
      "outputs": []
    },
    {
      "cell_type": "code",
      "metadata": {
        "id": "UrVC7Z3s2HkT"
      },
      "source": [
        "import operator\n",
        "def predict_score(name):\n",
        "    #name = input('Enter a movie title: ')\n",
        "    new_movie = df[df['title'].str.contains(name)].iloc[0].to_frame().T\n",
        "    print('Selected Movie: ',new_movie.title.values[0])\n",
        "\n",
        "    def getNeighbors(baseMovie, K):\n",
        "        distances = []\n",
        "        reason_list =[]\n",
        "    \n",
        "        for index, movie in df.iterrows():\n",
        "            if movie['new_id'] != baseMovie['new_id'].values[0]:\n",
        "                dist,reason = Similarity(baseMovie['new_id'].values[0], movie['new_id'])\n",
        "                distances.append((movie['new_id'], dist))\n",
        "                reason_list.append(reason)\n",
        "    \n",
        "        distances.sort(key=operator.itemgetter(1))\n",
        "        neighbors = []\n",
        "    \n",
        "        for x in range(K):\n",
        "            neighbors.append(distances[x])\n",
        "        return neighbors,reason_list\n",
        "        \n",
        "    K = 10\n",
        "    avgRating = 0\n",
        "    reason=[]\n",
        "    neighbors,rea = getNeighbors(new_movie, K)\n",
        "    for i in range(0,len(rea)):\n",
        "        if rea[i] == 0:\n",
        "            reason.append('Due to commanality in genre')\n",
        "        elif rea[i] == 1:\n",
        "            reason.append('Due to commanality in director')\n",
        "        elif rea[i] == 2:\n",
        "            reason.append('Due to commanality in cast')\n",
        "        elif rea[i] == 3:\n",
        "            reason.append('Due to commanality in rated by')\n",
        "        elif rea[i] == 4:\n",
        "            reason.append('Due to commanality in country')\n",
        "        else:\n",
        "            reason.append('Due to commanality in the type of show')\n",
        "  \n",
        "    print('\\nRecommended Movies: \\n')\n",
        "    z=0\n",
        "    for neighbor in neighbors:\n",
        "        avgRating = avgRating+df.iloc[neighbor[0]][5]  \n",
        "        data1.loc[z,'Title']=df.iloc[neighbor[0]][2]\n",
        "        data1.loc[z,'Genre']=str(df.iloc[neighbor[0]][3]).strip('[]').replace(' ','')\n",
        "        data1.loc[z,'Rating']=df.iloc[neighbor[0]][5]\n",
        "        data1.loc[z,'Reason']=reason[z]\n",
        "        z=z+1\n",
        "    avgRating = avgRating/K\n",
        "    return data1,avgRating,new_movie\n",
        "    "
      ],
      "execution_count": 285,
      "outputs": []
    },
    {
      "cell_type": "code",
      "metadata": {
        "colab": {
          "base_uri": "https://localhost:8080/",
          "height": 423
        },
        "id": "1V_oqN3pkA6i",
        "outputId": "b0cfecab-d69a-41f2-b28c-6f8ae78df9c7"
      },
      "source": [
        "data1,avgRating,new_movie = predict_score('Atlantics')#10 similar movies are recommended with ratings along with the reason for the recommendation\n",
        "data1.head(10)"
      ],
      "execution_count": 286,
      "outputs": [
        {
          "output_type": "stream",
          "name": "stdout",
          "text": [
            "Selected Movie:  Atlantics\n",
            "\n",
            "Recommended Movies: \n",
            "\n"
          ]
        },
        {
          "output_type": "execute_result",
          "data": {
            "text/html": [
              "<div>\n",
              "<style scoped>\n",
              "    .dataframe tbody tr th:only-of-type {\n",
              "        vertical-align: middle;\n",
              "    }\n",
              "\n",
              "    .dataframe tbody tr th {\n",
              "        vertical-align: top;\n",
              "    }\n",
              "\n",
              "    .dataframe thead th {\n",
              "        text-align: right;\n",
              "    }\n",
              "</style>\n",
              "<table border=\"1\" class=\"dataframe\">\n",
              "  <thead>\n",
              "    <tr style=\"text-align: right;\">\n",
              "      <th></th>\n",
              "      <th>Title</th>\n",
              "      <th>Genre</th>\n",
              "      <th>Rating</th>\n",
              "      <th>Reason</th>\n",
              "    </tr>\n",
              "  </thead>\n",
              "  <tbody>\n",
              "    <tr>\n",
              "      <th>0</th>\n",
              "      <td>The Man Without Gravity</td>\n",
              "      <td>'Dramas','InternationalMovies'</td>\n",
              "      <td>9.1</td>\n",
              "      <td>Due to commanality in rated by</td>\n",
              "    </tr>\n",
              "    <tr>\n",
              "      <th>1</th>\n",
              "      <td>Saavat</td>\n",
              "      <td>'Dramas','IndependentMovies','InternationalMov...</td>\n",
              "      <td>7.8</td>\n",
              "      <td>Due to commanality in the type of show</td>\n",
              "    </tr>\n",
              "    <tr>\n",
              "      <th>2</th>\n",
              "      <td>300 Miles to Heaven</td>\n",
              "      <td>'Dramas','InternationalMovies'</td>\n",
              "      <td>8</td>\n",
              "      <td>Due to commanality in rated by</td>\n",
              "    </tr>\n",
              "    <tr>\n",
              "      <th>3</th>\n",
              "      <td>Saawan</td>\n",
              "      <td>'Dramas','IndependentMovies','InternationalMov...</td>\n",
              "      <td>7.4</td>\n",
              "      <td>Due to commanality in cast</td>\n",
              "    </tr>\n",
              "    <tr>\n",
              "      <th>4</th>\n",
              "      <td>Jonaki</td>\n",
              "      <td>'Dramas','IndependentMovies','InternationalMov...</td>\n",
              "      <td>7.3</td>\n",
              "      <td>Due to commanality in rated by</td>\n",
              "    </tr>\n",
              "    <tr>\n",
              "      <th>5</th>\n",
              "      <td>Hamid</td>\n",
              "      <td>'Dramas','IndependentMovies','InternationalMov...</td>\n",
              "      <td>9.8</td>\n",
              "      <td>Due to commanality in the type of show</td>\n",
              "    </tr>\n",
              "    <tr>\n",
              "      <th>6</th>\n",
              "      <td>Do Paise Ki Dhoop Chaar Aane Ki Baarish</td>\n",
              "      <td>'Dramas','IndependentMovies','InternationalMov...</td>\n",
              "      <td>7.7</td>\n",
              "      <td>Due to commanality in rated by</td>\n",
              "    </tr>\n",
              "    <tr>\n",
              "      <th>7</th>\n",
              "      <td>Master Z: The Ip Man Legacy</td>\n",
              "      <td>'Dramas','IndependentMovies','InternationalMov...</td>\n",
              "      <td>7.8</td>\n",
              "      <td>Due to commanality in the type of show</td>\n",
              "    </tr>\n",
              "    <tr>\n",
              "      <th>8</th>\n",
              "      <td>Kia and Cosmos</td>\n",
              "      <td>'Dramas','IndependentMovies','InternationalMov...</td>\n",
              "      <td>6.8</td>\n",
              "      <td>Due to commanality in rated by</td>\n",
              "    </tr>\n",
              "    <tr>\n",
              "      <th>9</th>\n",
              "      <td>In My Country</td>\n",
              "      <td>'Dramas','InternationalMovies'</td>\n",
              "      <td>6.8</td>\n",
              "      <td>Due to commanality in rated by</td>\n",
              "    </tr>\n",
              "  </tbody>\n",
              "</table>\n",
              "</div>"
            ],
            "text/plain": [
              "                                     Title  ...                                  Reason\n",
              "0                  The Man Without Gravity  ...          Due to commanality in rated by\n",
              "1                                   Saavat  ...  Due to commanality in the type of show\n",
              "2                      300 Miles to Heaven  ...          Due to commanality in rated by\n",
              "3                                   Saawan  ...              Due to commanality in cast\n",
              "4                                   Jonaki  ...          Due to commanality in rated by\n",
              "5                                    Hamid  ...  Due to commanality in the type of show\n",
              "6  Do Paise Ki Dhoop Chaar Aane Ki Baarish  ...          Due to commanality in rated by\n",
              "7              Master Z: The Ip Man Legacy  ...  Due to commanality in the type of show\n",
              "8                           Kia and Cosmos  ...          Due to commanality in rated by\n",
              "9                            In My Country  ...          Due to commanality in rated by\n",
              "\n",
              "[10 rows x 4 columns]"
            ]
          },
          "metadata": {},
          "execution_count": 286
        }
      ]
    },
    {
      "cell_type": "code",
      "metadata": {
        "colab": {
          "base_uri": "https://localhost:8080/"
        },
        "id": "kmnC3r7mkJZh",
        "outputId": "cb240a96-4938-48ad-d0c6-c9cc3ccd6ebb"
      },
      "source": [
        "print('The predicted rating for %s is: %f' %(new_movie['title'].values[0],avgRating))\n",
        "print('The actual rating for %s is %f' %(new_movie['title'].values[0],new_movie['rating']))"
      ],
      "execution_count": 287,
      "outputs": [
        {
          "output_type": "stream",
          "name": "stdout",
          "text": [
            "The predicted rating for Atlantics is: 7.850000\n",
            "The actual rating for Atlantics is 6.300000\n"
          ]
        }
      ]
    },
    {
      "cell_type": "code",
      "metadata": {
        "id": "bAEiDZ7ZUEjW"
      },
      "source": [
        "from sklearn.ensemble import RandomForestRegressor\n",
        "regressor = RandomForestRegressor(n_estimators = 100, random_state = 0)"
      ],
      "execution_count": 288,
      "outputs": []
    },
    {
      "cell_type": "code",
      "metadata": {
        "colab": {
          "base_uri": "https://localhost:8080/",
          "height": 420
        },
        "id": "ebVrWGEUUuJT",
        "outputId": "c023f11b-c991-4eaf-9c53-8ef78f18c5ea"
      },
      "source": [
        "df = pd.read_csv('https://raw.githubusercontent.com/Sneha8501/ML/main/Netflix_title_final.csv')\n",
        "df.head()"
      ],
      "execution_count": 289,
      "outputs": [
        {
          "output_type": "execute_result",
          "data": {
            "text/html": [
              "<div>\n",
              "<style scoped>\n",
              "    .dataframe tbody tr th:only-of-type {\n",
              "        vertical-align: middle;\n",
              "    }\n",
              "\n",
              "    .dataframe tbody tr th {\n",
              "        vertical-align: top;\n",
              "    }\n",
              "\n",
              "    .dataframe thead th {\n",
              "        text-align: right;\n",
              "    }\n",
              "</style>\n",
              "<table border=\"1\" class=\"dataframe\">\n",
              "  <thead>\n",
              "    <tr style=\"text-align: right;\">\n",
              "      <th></th>\n",
              "      <th>title</th>\n",
              "      <th>director</th>\n",
              "      <th>cast</th>\n",
              "      <th>country</th>\n",
              "      <th>date_added</th>\n",
              "      <th>rated by</th>\n",
              "      <th>listed_in</th>\n",
              "      <th>description</th>\n",
              "      <th>type</th>\n",
              "      <th>show_id</th>\n",
              "      <th>release_year</th>\n",
              "      <th>duration</th>\n",
              "      <th>rating</th>\n",
              "    </tr>\n",
              "  </thead>\n",
              "  <tbody>\n",
              "    <tr>\n",
              "      <th>0</th>\n",
              "      <td>Chocolate - 1 Season</td>\n",
              "      <td>Toka McBaror</td>\n",
              "      <td>Ha Ji-won, Yoon Kye-sang, Jang Seung-jo, Kang ...</td>\n",
              "      <td>South Korea</td>\n",
              "      <td>November 30, 2019</td>\n",
              "      <td>TV-14</td>\n",
              "      <td>International TV Shows, Korean TV Shows, Roman...</td>\n",
              "      <td>Brought together by meaningful meals in the pa...</td>\n",
              "      <td>TV Show</td>\n",
              "      <td>81193313</td>\n",
              "      <td>2019</td>\n",
              "      <td>60</td>\n",
              "      <td>6.3</td>\n",
              "    </tr>\n",
              "    <tr>\n",
              "      <th>1</th>\n",
              "      <td>Guatemala: Heart of the Mayan World</td>\n",
              "      <td>Luis Ara, Ignacio Jaunsolo</td>\n",
              "      <td>Christian Morales</td>\n",
              "      <td>Unknown</td>\n",
              "      <td>November 30, 2019</td>\n",
              "      <td>G</td>\n",
              "      <td>Documentaries, International Movies</td>\n",
              "      <td>From Sierra de las Minas to Esquipulas, explor...</td>\n",
              "      <td>Movie</td>\n",
              "      <td>81197050</td>\n",
              "      <td>2019</td>\n",
              "      <td>67</td>\n",
              "      <td>7.2</td>\n",
              "    </tr>\n",
              "    <tr>\n",
              "      <th>2</th>\n",
              "      <td>The Zoya Factor</td>\n",
              "      <td>Abhishek Sharma</td>\n",
              "      <td>Sonam Kapoor, Dulquer Salmaan, Sanjay Kapoor, ...</td>\n",
              "      <td>India</td>\n",
              "      <td>November 30, 2019</td>\n",
              "      <td>TV-14</td>\n",
              "      <td>Comedies, Dramas, International Movies</td>\n",
              "      <td>A goofy copywriter unwittingly convinces the I...</td>\n",
              "      <td>Movie</td>\n",
              "      <td>81213894</td>\n",
              "      <td>2019</td>\n",
              "      <td>135</td>\n",
              "      <td>7.2</td>\n",
              "    </tr>\n",
              "    <tr>\n",
              "      <th>3</th>\n",
              "      <td>Atlantics</td>\n",
              "      <td>Mati Diop</td>\n",
              "      <td>Mama Sane, Amadou Mbow, Ibrahima Traore, Nicol...</td>\n",
              "      <td>France, Senegal, Belgium</td>\n",
              "      <td>November 29, 2019</td>\n",
              "      <td>TV-14</td>\n",
              "      <td>Dramas, Independent Movies, International Movies</td>\n",
              "      <td>Arranged to marry a rich man, young Ada is cru...</td>\n",
              "      <td>Movie</td>\n",
              "      <td>81082007</td>\n",
              "      <td>2019</td>\n",
              "      <td>106</td>\n",
              "      <td>6.3</td>\n",
              "    </tr>\n",
              "    <tr>\n",
              "      <th>4</th>\n",
              "      <td>Chip and Potato - 2 Seasons</td>\n",
              "      <td>Frank Oz</td>\n",
              "      <td>Abigail Oliver, Andrea Libman, Briana Buckmast...</td>\n",
              "      <td>Canada, United Kingdom</td>\n",
              "      <td>November 27, 2019</td>\n",
              "      <td>TV-Y</td>\n",
              "      <td>Kids' TV</td>\n",
              "      <td>Lovable pug Chip starts kindergarten, makes ne...</td>\n",
              "      <td>TV Show</td>\n",
              "      <td>80213643</td>\n",
              "      <td>2019</td>\n",
              "      <td>60</td>\n",
              "      <td>7.7</td>\n",
              "    </tr>\n",
              "  </tbody>\n",
              "</table>\n",
              "</div>"
            ],
            "text/plain": [
              "                                 title  ... rating\n",
              "0                 Chocolate - 1 Season  ...    6.3\n",
              "1  Guatemala: Heart of the Mayan World  ...    7.2\n",
              "2                      The Zoya Factor  ...    7.2\n",
              "3                            Atlantics  ...    6.3\n",
              "4          Chip and Potato - 2 Seasons  ...    7.7\n",
              "\n",
              "[5 rows x 13 columns]"
            ]
          },
          "metadata": {},
          "execution_count": 289
        }
      ]
    },
    {
      "cell_type": "code",
      "metadata": {
        "colab": {
          "base_uri": "https://localhost:8080/"
        },
        "id": "DC9rjStYUFI8",
        "outputId": "c8fd99c9-03ae-445a-ce25-cd56460e9ede"
      },
      "source": [
        "rating_mean = df.groupby('title')['rating'].mean().reset_index()\n",
        "total_rating = df.groupby('title')['rating'].count().reset_index()\n",
        "\n",
        "total_rating_mean = pd.merge(rating_mean, total_rating, on='title', how='inner')\n",
        "total_rating_mean.rename(columns={'rating_x': 'rating_mean',\n",
        "                                  'rating_y': 'total_rating'},\n",
        "                                  inplace=True)\n",
        "# final_df = (total_rating_mean, on='title', how='left',usecols = ['show_id']).dropna()\n",
        "final_df = total_rating_mean\n",
        "\n",
        "final_df = final_df.join(df['show_id'], how='right')\n",
        "final_df = final_df.join(df['rated by'], how='right').dropna()\n",
        "final_df = final_df.join(df['listed_in'], how='right').dropna()\n",
        "final_df.head"
      ],
      "execution_count": 290,
      "outputs": [
        {
          "output_type": "execute_result",
          "data": {
            "text/plain": [
              "<bound method NDFrame.head of                                    title  ...                                          listed_in\n",
              "0                                #Selfie  ...  International TV Shows, Korean TV Shows, Roman...\n",
              "1                             #Selfie 69  ...                Documentaries, International Movies\n",
              "2                    10 Days in Sun City  ...             Comedies, Dramas, International Movies\n",
              "3                            10,000 B.C.  ...   Dramas, Independent Movies, International Movies\n",
              "4    100 Things to do Before High School  ...                                           Kids' TV\n",
              "..                                   ...  ...                                                ...\n",
              "978                                 Zero  ...                                  Dramas, Thrillers\n",
              "979                              Zinzana  ...          Comedies, International Movies, Thrillers\n",
              "980                               Zodiac  ...                                           TV Shows\n",
              "981                           Zombieland  ...                          Comedies, Romantic Movies\n",
              "982                       Zoé: Panoramas  ...   Dramas, Independent Movies, International Movies\n",
              "\n",
              "[983 rows x 6 columns]>"
            ]
          },
          "metadata": {},
          "execution_count": 290
        }
      ]
    },
    {
      "cell_type": "code",
      "metadata": {
        "id": "j8LwrgCRUQg9"
      },
      "source": [
        "feature_cols =['show_id','total_rating']\n",
        "X = final_df[feature_cols] # Features\n",
        "y = final_df['rating_mean']"
      ],
      "execution_count": 291,
      "outputs": []
    },
    {
      "cell_type": "code",
      "metadata": {
        "colab": {
          "base_uri": "https://localhost:8080/"
        },
        "id": "m7mgy9Y1URpf",
        "outputId": "61d13c4d-3cd8-41ec-fcce-de3f0b907b67"
      },
      "source": [
        "regressor.fit(X, y) "
      ],
      "execution_count": 292,
      "outputs": [
        {
          "output_type": "execute_result",
          "data": {
            "text/plain": [
              "RandomForestRegressor(random_state=0)"
            ]
          },
          "metadata": {},
          "execution_count": 292
        }
      ]
    },
    {
      "cell_type": "code",
      "metadata": {
        "id": "PMC4vgVHUV1t"
      },
      "source": [
        "from sklearn.model_selection import train_test_split\n",
        "train_features, test_features, train_labels, test_labels = train_test_split(X,y, test_size = 0.33, random_state = 42)"
      ],
      "execution_count": 293,
      "outputs": []
    },
    {
      "cell_type": "code",
      "metadata": {
        "colab": {
          "base_uri": "https://localhost:8080/"
        },
        "id": "XRcQbp8UUZhL",
        "outputId": "b275de1e-905b-4d5f-92f4-a647de4dc45a"
      },
      "source": [
        "print('Training Features Shape:', train_features.shape)\n",
        "print('Training Labels Shape:', train_labels.shape)\n",
        "print('Testing Features Shape:', test_features.shape)\n",
        "print('Testing Labels Shape:', test_labels.shape)"
      ],
      "execution_count": 294,
      "outputs": [
        {
          "output_type": "stream",
          "name": "stdout",
          "text": [
            "Training Features Shape: (658, 2)\n",
            "Training Labels Shape: (658,)\n",
            "Testing Features Shape: (325, 2)\n",
            "Testing Labels Shape: (325,)\n"
          ]
        }
      ]
    },
    {
      "cell_type": "code",
      "metadata": {
        "colab": {
          "base_uri": "https://localhost:8080/"
        },
        "id": "S-qOhr7YUa9k",
        "outputId": "148324ca-2f5d-4b56-cfa5-b8df94cb251c"
      },
      "source": [
        "predictions = regressor.predict(test_features)\n",
        "errors = abs(predictions - test_labels)\n",
        "print('Mean Absolute Error:', round(np.mean(errors), 2), 'degrees.')"
      ],
      "execution_count": 295,
      "outputs": [
        {
          "output_type": "stream",
          "name": "stdout",
          "text": [
            "Mean Absolute Error: 0.5 degrees.\n"
          ]
        }
      ]
    },
    {
      "cell_type": "code",
      "metadata": {
        "colab": {
          "base_uri": "https://localhost:8080/"
        },
        "id": "-ThEiKkgUdZf",
        "outputId": "7972217b-39cc-4978-ff59-413fd5a8d7fa"
      },
      "source": [
        "# Calculate mean absolute percentage error (MAPE)\n",
        "mape = 100 * (errors / test_labels)\n",
        "# Calculate and display accuracy\n",
        "accuracy = 100 - np.mean(mape)\n",
        "print('Accuracy:', round(accuracy, 2), '%.')"
      ],
      "execution_count": 296,
      "outputs": [
        {
          "output_type": "stream",
          "name": "stdout",
          "text": [
            "Accuracy: 93.64 %.\n"
          ]
        }
      ]
    },
    {
      "cell_type": "markdown",
      "metadata": {
        "id": "71JxMoJ0TXtu"
      },
      "source": [
        ""
      ]
    },
    {
      "cell_type": "code",
      "metadata": {
        "colab": {
          "base_uri": "https://localhost:8080/",
          "height": 520
        },
        "id": "tyvPxptDQptB",
        "outputId": "fc8e0f18-9107-437e-9e7f-d50ea828c666"
      },
      "source": [
        "data = pd.read_csv('https://raw.githubusercontent.com/Sneha8501/ML/main/Netflix_title_final1.csv')\n",
        "data.rename( columns={'Unnamed: 0':'movie_index'}, inplace=True )\n",
        "data.head(5)"
      ],
      "execution_count": 297,
      "outputs": [
        {
          "output_type": "execute_result",
          "data": {
            "text/html": [
              "<div>\n",
              "<style scoped>\n",
              "    .dataframe tbody tr th:only-of-type {\n",
              "        vertical-align: middle;\n",
              "    }\n",
              "\n",
              "    .dataframe tbody tr th {\n",
              "        vertical-align: top;\n",
              "    }\n",
              "\n",
              "    .dataframe thead th {\n",
              "        text-align: right;\n",
              "    }\n",
              "</style>\n",
              "<table border=\"1\" class=\"dataframe\">\n",
              "  <thead>\n",
              "    <tr style=\"text-align: right;\">\n",
              "      <th></th>\n",
              "      <th>movie_index</th>\n",
              "      <th>title</th>\n",
              "      <th>director</th>\n",
              "      <th>cast</th>\n",
              "      <th>country</th>\n",
              "      <th>date_added</th>\n",
              "      <th>rated by</th>\n",
              "      <th>listed_in</th>\n",
              "      <th>description</th>\n",
              "      <th>type</th>\n",
              "      <th>show_id</th>\n",
              "      <th>release_year</th>\n",
              "      <th>duration</th>\n",
              "      <th>rating</th>\n",
              "    </tr>\n",
              "  </thead>\n",
              "  <tbody>\n",
              "    <tr>\n",
              "      <th>0</th>\n",
              "      <td>0</td>\n",
              "      <td>Chocolate - 1 Season</td>\n",
              "      <td>Toka McBaror</td>\n",
              "      <td>Ha Ji-won, Yoon Kye-sang, Jang Seung-jo, Kang ...</td>\n",
              "      <td>South Korea</td>\n",
              "      <td>November 30, 2019</td>\n",
              "      <td>TV-14</td>\n",
              "      <td>International TV Shows, Korean TV Shows, Roman...</td>\n",
              "      <td>Brought together by meaningful meals in the pa...</td>\n",
              "      <td>TV Show</td>\n",
              "      <td>81193313</td>\n",
              "      <td>2019</td>\n",
              "      <td>60</td>\n",
              "      <td>6.3</td>\n",
              "    </tr>\n",
              "    <tr>\n",
              "      <th>1</th>\n",
              "      <td>1</td>\n",
              "      <td>Guatemala: Heart of the Mayan World</td>\n",
              "      <td>Luis Ara, Ignacio Jaunsolo</td>\n",
              "      <td>Christian Morales</td>\n",
              "      <td>Unknown</td>\n",
              "      <td>November 30, 2019</td>\n",
              "      <td>G</td>\n",
              "      <td>Documentaries, International Movies</td>\n",
              "      <td>From Sierra de las Minas to Esquipulas, explor...</td>\n",
              "      <td>Movie</td>\n",
              "      <td>81197050</td>\n",
              "      <td>2019</td>\n",
              "      <td>67</td>\n",
              "      <td>7.2</td>\n",
              "    </tr>\n",
              "    <tr>\n",
              "      <th>2</th>\n",
              "      <td>2</td>\n",
              "      <td>The Zoya Factor</td>\n",
              "      <td>Abhishek Sharma</td>\n",
              "      <td>Sonam Kapoor, Dulquer Salmaan, Sanjay Kapoor, ...</td>\n",
              "      <td>India</td>\n",
              "      <td>November 30, 2019</td>\n",
              "      <td>TV-14</td>\n",
              "      <td>Comedies, Dramas, International Movies</td>\n",
              "      <td>A goofy copywriter unwittingly convinces the I...</td>\n",
              "      <td>Movie</td>\n",
              "      <td>81213894</td>\n",
              "      <td>2019</td>\n",
              "      <td>135</td>\n",
              "      <td>7.2</td>\n",
              "    </tr>\n",
              "    <tr>\n",
              "      <th>3</th>\n",
              "      <td>3</td>\n",
              "      <td>Atlantics</td>\n",
              "      <td>Mati Diop</td>\n",
              "      <td>Mama Sane, Amadou Mbow, Ibrahima Traore, Nicol...</td>\n",
              "      <td>France, Senegal, Belgium</td>\n",
              "      <td>November 29, 2019</td>\n",
              "      <td>TV-14</td>\n",
              "      <td>Dramas, Independent Movies, International Movies</td>\n",
              "      <td>Arranged to marry a rich man, young Ada is cru...</td>\n",
              "      <td>Movie</td>\n",
              "      <td>81082007</td>\n",
              "      <td>2019</td>\n",
              "      <td>106</td>\n",
              "      <td>6.3</td>\n",
              "    </tr>\n",
              "    <tr>\n",
              "      <th>4</th>\n",
              "      <td>4</td>\n",
              "      <td>Chip and Potato - 2 Seasons</td>\n",
              "      <td>Frank Oz</td>\n",
              "      <td>Abigail Oliver, Andrea Libman, Briana Buckmast...</td>\n",
              "      <td>Canada, United Kingdom</td>\n",
              "      <td>November 27, 2019</td>\n",
              "      <td>TV-Y</td>\n",
              "      <td>Kids' TV</td>\n",
              "      <td>Lovable pug Chip starts kindergarten, makes ne...</td>\n",
              "      <td>TV Show</td>\n",
              "      <td>80213643</td>\n",
              "      <td>2019</td>\n",
              "      <td>60</td>\n",
              "      <td>7.7</td>\n",
              "    </tr>\n",
              "  </tbody>\n",
              "</table>\n",
              "</div>"
            ],
            "text/plain": [
              "   movie_index                                title  ... duration rating\n",
              "0            0                 Chocolate - 1 Season  ...       60    6.3\n",
              "1            1  Guatemala: Heart of the Mayan World  ...       67    7.2\n",
              "2            2                      The Zoya Factor  ...      135    7.2\n",
              "3            3                            Atlantics  ...      106    6.3\n",
              "4            4          Chip and Potato - 2 Seasons  ...       60    7.7\n",
              "\n",
              "[5 rows x 14 columns]"
            ]
          },
          "metadata": {},
          "execution_count": 297
        }
      ]
    },
    {
      "cell_type": "code",
      "metadata": {
        "colab": {
          "base_uri": "https://localhost:8080/",
          "height": 202
        },
        "id": "K32lz20aRNPW",
        "outputId": "9c39e801-a9a4-4a6d-ffce-2446c1253fa3"
      },
      "source": [
        "columns=['cast','director','listed_in','title']\n",
        "data[columns].head()"
      ],
      "execution_count": 298,
      "outputs": [
        {
          "output_type": "execute_result",
          "data": {
            "text/html": [
              "<div>\n",
              "<style scoped>\n",
              "    .dataframe tbody tr th:only-of-type {\n",
              "        vertical-align: middle;\n",
              "    }\n",
              "\n",
              "    .dataframe tbody tr th {\n",
              "        vertical-align: top;\n",
              "    }\n",
              "\n",
              "    .dataframe thead th {\n",
              "        text-align: right;\n",
              "    }\n",
              "</style>\n",
              "<table border=\"1\" class=\"dataframe\">\n",
              "  <thead>\n",
              "    <tr style=\"text-align: right;\">\n",
              "      <th></th>\n",
              "      <th>cast</th>\n",
              "      <th>director</th>\n",
              "      <th>listed_in</th>\n",
              "      <th>title</th>\n",
              "    </tr>\n",
              "  </thead>\n",
              "  <tbody>\n",
              "    <tr>\n",
              "      <th>0</th>\n",
              "      <td>Ha Ji-won, Yoon Kye-sang, Jang Seung-jo, Kang ...</td>\n",
              "      <td>Toka McBaror</td>\n",
              "      <td>International TV Shows, Korean TV Shows, Roman...</td>\n",
              "      <td>Chocolate - 1 Season</td>\n",
              "    </tr>\n",
              "    <tr>\n",
              "      <th>1</th>\n",
              "      <td>Christian Morales</td>\n",
              "      <td>Luis Ara, Ignacio Jaunsolo</td>\n",
              "      <td>Documentaries, International Movies</td>\n",
              "      <td>Guatemala: Heart of the Mayan World</td>\n",
              "    </tr>\n",
              "    <tr>\n",
              "      <th>2</th>\n",
              "      <td>Sonam Kapoor, Dulquer Salmaan, Sanjay Kapoor, ...</td>\n",
              "      <td>Abhishek Sharma</td>\n",
              "      <td>Comedies, Dramas, International Movies</td>\n",
              "      <td>The Zoya Factor</td>\n",
              "    </tr>\n",
              "    <tr>\n",
              "      <th>3</th>\n",
              "      <td>Mama Sane, Amadou Mbow, Ibrahima Traore, Nicol...</td>\n",
              "      <td>Mati Diop</td>\n",
              "      <td>Dramas, Independent Movies, International Movies</td>\n",
              "      <td>Atlantics</td>\n",
              "    </tr>\n",
              "    <tr>\n",
              "      <th>4</th>\n",
              "      <td>Abigail Oliver, Andrea Libman, Briana Buckmast...</td>\n",
              "      <td>Frank Oz</td>\n",
              "      <td>Kids' TV</td>\n",
              "      <td>Chip and Potato - 2 Seasons</td>\n",
              "    </tr>\n",
              "  </tbody>\n",
              "</table>\n",
              "</div>"
            ],
            "text/plain": [
              "                                                cast  ...                                title\n",
              "0  Ha Ji-won, Yoon Kye-sang, Jang Seung-jo, Kang ...  ...                 Chocolate - 1 Season\n",
              "1                                  Christian Morales  ...  Guatemala: Heart of the Mayan World\n",
              "2  Sonam Kapoor, Dulquer Salmaan, Sanjay Kapoor, ...  ...                      The Zoya Factor\n",
              "3  Mama Sane, Amadou Mbow, Ibrahima Traore, Nicol...  ...                            Atlantics\n",
              "4  Abigail Oliver, Andrea Libman, Briana Buckmast...  ...          Chip and Potato - 2 Seasons\n",
              "\n",
              "[5 rows x 4 columns]"
            ]
          },
          "metadata": {},
          "execution_count": 298
        }
      ]
    },
    {
      "cell_type": "code",
      "metadata": {
        "id": "nJj7am3tRQcW"
      },
      "source": [
        "def get_important_features(data1):\n",
        "  important_features = []\n",
        "  for i in range(0,data1.shape[0]):\n",
        "    important_features.append(data1['cast'][i]+' '+data1['director'][i]+' '+data1['listed_in'][i]+' '+data1['title'][i])\n",
        "  \n",
        "  return important_features"
      ],
      "execution_count": 299,
      "outputs": []
    },
    {
      "cell_type": "code",
      "metadata": {
        "id": "p6dDRWWoRTEg"
      },
      "source": [
        "data['important_features']=get_important_features(data)\n",
        "cm=CountVectorizer().fit_transform(data['important_features'])"
      ],
      "execution_count": 300,
      "outputs": []
    },
    {
      "cell_type": "code",
      "metadata": {
        "colab": {
          "base_uri": "https://localhost:8080/"
        },
        "id": "VIQlb-rMRVYo",
        "outputId": "668e210e-9631-414d-c967-6118a723ef07"
      },
      "source": [
        "cs = cosine_similarity(cm)\n",
        "print(cm)"
      ],
      "execution_count": 301,
      "outputs": [
        {
          "output_type": "stream",
          "name": "stdout",
          "text": [
            "  (0, 1284)\t1\n",
            "  (0, 1679)\t1\n",
            "  (0, 3526)\t1\n",
            "  (0, 3540)\t1\n",
            "  (0, 4096)\t1\n",
            "  (0, 4166)\t1\n",
            "  (0, 4192)\t1\n",
            "  (0, 4225)\t1\n",
            "  (0, 4318)\t1\n",
            "  (0, 4336)\t1\n",
            "  (0, 4348)\t1\n",
            "  (0, 4531)\t1\n",
            "  (0, 4752)\t1\n",
            "  (0, 4849)\t1\n",
            "  (0, 4940)\t1\n",
            "  (0, 5090)\t1\n",
            "  (0, 5755)\t1\n",
            "  (0, 5991)\t1\n",
            "  (0, 7529)\t1\n",
            "  (0, 7633)\t1\n",
            "  (0, 7776)\t1\n",
            "  (0, 7934)\t1\n",
            "  (0, 8005)\t1\n",
            "  (0, 8169)\t3\n",
            "  (0, 8795)\t1\n",
            "  :\t:\n",
            "  (983, 9581)\t1\n",
            "  (984, 405)\t1\n",
            "  (984, 929)\t1\n",
            "  (984, 1522)\t1\n",
            "  (984, 1815)\t1\n",
            "  (984, 3021)\t1\n",
            "  (984, 3058)\t1\n",
            "  (984, 3740)\t1\n",
            "  (984, 4583)\t1\n",
            "  (984, 5087)\t1\n",
            "  (984, 7432)\t1\n",
            "  (984, 7497)\t2\n",
            "  (984, 7725)\t1\n",
            "  (984, 7729)\t1\n",
            "  (984, 7934)\t1\n",
            "  (984, 8164)\t1\n",
            "  (984, 8533)\t1\n",
            "  (984, 8849)\t1\n",
            "  (984, 8889)\t3\n",
            "  (984, 9098)\t1\n",
            "  (984, 9150)\t1\n",
            "  (984, 9542)\t1\n",
            "  (984, 9544)\t1\n",
            "  (984, 9578)\t1\n",
            "  (984, 9728)\t1\n"
          ]
        }
      ]
    },
    {
      "cell_type": "code",
      "metadata": {
        "colab": {
          "base_uri": "https://localhost:8080/"
        },
        "id": "pUsMo7_SRYdq",
        "outputId": "50cc3cf8-bdb1-408c-fb74-72f9ab356ef6"
      },
      "source": [
        "cs.shape"
      ],
      "execution_count": 302,
      "outputs": [
        {
          "output_type": "execute_result",
          "data": {
            "text/plain": [
              "(985, 985)"
            ]
          },
          "metadata": {},
          "execution_count": 302
        }
      ]
    },
    {
      "cell_type": "code",
      "metadata": {
        "id": "CPB8vOmJRa6P"
      },
      "source": [
        "title1='Atlantics'\n",
        "movie_id = data[data['title'] == title1]['movie_index'].values[0]\n",
        "scores=list(enumerate(cs[movie_id]))"
      ],
      "execution_count": 303,
      "outputs": []
    },
    {
      "cell_type": "code",
      "metadata": {
        "colab": {
          "base_uri": "https://localhost:8080/"
        },
        "id": "CHxapO3gRln_",
        "outputId": "5f99ca0c-efd9-4437-f261-897d497ce3c7"
      },
      "source": [
        "sorted_scores = sorted(scores,key = lambda x:x[1],reverse=True)\n",
        "sorted_scores=sorted_scores[1:]\n",
        "print(sorted_scores)"
      ],
      "execution_count": 304,
      "outputs": [
        {
          "output_type": "stream",
          "name": "stdout",
          "text": [
            "[(48, 0.3415650255319866), (667, 0.3299831645537221), (768, 0.3099652099390333), (947, 0.30123203803835463), (886, 0.2788866755113585), (982, 0.2788866755113585), (38, 0.27386127875258304), (505, 0.272474630456533), (27, 0.26648544566940835), (483, 0.26648544566940835), (597, 0.2581988897471611), (434, 0.2506402059138015), (329, 0.2459549291242073), (877, 0.2459549291242073), (241, 0.24152294576982392), (967, 0.24152294576982392), (348, 0.2373222262672836), (738, 0.2373222262672836), (200, 0.23354968324845685), (887, 0.23333333333333328), (866, 0.2295390425243835), (43, 0.22592402852876597), (710, 0.22592402852876597), (8, 0.223606797749979), (651, 0.22247460415730486), (737, 0.22140372138502382), (100, 0.2201927530252721), (681, 0.21917850187980228), (863, 0.21917850187980228), (74, 0.21908902300206645), (897, 0.21602468994692864), (46, 0.21516574145596762), (316, 0.21516574145596762), (375, 0.21516574145596762), (132, 0.21483446221182984), (450, 0.21300321680756457), (755, 0.20942695414584772), (474, 0.2073221072156823), (612, 0.20701966780270623), (691, 0.20701966780270623), (854, 0.20701966780270623), (861, 0.20701966780270623), (223, 0.20464687117164015), (14, 0.20412414523193148), (555, 0.20412414523193148), (253, 0.20341905108624309), (309, 0.20341905108624309), (700, 0.20341905108624309), (752, 0.20254787341673333), (152, 0.19999999999999996), (677, 0.19999999999999996), (221, 0.19959308197927034), (395, 0.19959308197927034), (674, 0.19920476822239894), (977, 0.19920476822239894), (86, 0.19674775073518586), (362, 0.19674775073518586), (923, 0.19518001458970663), (210, 0.19462473604038072), (665, 0.19462473604038072), (673, 0.19462473604038072), (687, 0.19462473604038072), (759, 0.19462473604038072), (80, 0.19364916731037082), (901, 0.19364916731037082), (757, 0.19034674690672024), (73, 0.18856180831641264), (310, 0.18856180831641264), (765, 0.18856180831641264), (794, 0.18856180831641264), (364, 0.1878672873255448), (10, 0.18257418583505536), (156, 0.18257418583505536), (390, 0.18257418583505536), (399, 0.18257418583505536), (437, 0.18257418583505536), (568, 0.18257418583505536), (653, 0.18257418583505536), (684, 0.18257418583505536), (686, 0.18257418583505536), (713, 0.18257418583505536), (463, 0.18009006755629925), (123, 0.17902871850985821), (486, 0.17902871850985821), (487, 0.17902871850985821), (488, 0.17902871850985821), (944, 0.17895849739771974), (969, 0.17712297710801905), (144, 0.17568209223157663), (976, 0.17568209223157663), (155, 0.17251638983558854), (596, 0.17251638983558854), (760, 0.17251638983558854), (970, 0.17213259316477408), (47, 0.1695158759052026), (213, 0.1695158759052026), (377, 0.1695158759052026), (522, 0.1695158759052026), (635, 0.1695158759052026), (949, 0.1695158759052026), (950, 0.1690308509457033), (185, 0.1675415633166782), (527, 0.1675415633166782), (878, 0.1675415633166782), (968, 0.1675415633166782), (383, 0.16666666666666663), (452, 0.16666666666666663), (524, 0.16666666666666663), (533, 0.16666666666666663), (632, 0.16666666666666663), (974, 0.16666666666666663), (427, 0.1651445647689541), (682, 0.1651445647689541), (808, 0.1651445647689541), (902, 0.1651445647689541), (926, 0.1651445647689541), (246, 0.16395645894598823), (748, 0.16395645894598823), (145, 0.1632993161855452), (501, 0.1632993161855452), (515, 0.1632993161855452), (692, 0.1632993161855452), (736, 0.1632993161855452), (330, 0.16137430609197567), (372, 0.16137430609197567), (419, 0.16137430609197567), (833, 0.16137430609197567), (230, 0.15936381457791915), (554, 0.15936381457791915), (558, 0.15936381457791915), (405, 0.15891043154093204), (92, 0.158113883008419), (68, 0.15655607277128736), (82, 0.15655607277128736), (98, 0.15655607277128736), (466, 0.15655607277128736), (91, 0.15569978883230456), (528, 0.15569978883230456), (582, 0.15569978883230456), (812, 0.15569978883230456), (228, 0.15430334996209188), (398, 0.15430334996209188), (655, 0.1522773975253762), (769, 0.1522773975253762), (828, 0.1522773975253762), (638, 0.15214515486254612), (65, 0.15191090506255), (206, 0.14907119849998599), (236, 0.14907119849998599), (278, 0.14907119849998599), (353, 0.14907119849998599), (354, 0.14907119849998599), (471, 0.14907119849998599), (611, 0.14907119849998599), (756, 0.14907119849998599), (873, 0.14907119849998599), (910, 0.14907119849998599), (953, 0.14907119849998599), (860, 0.14808721943977307), (693, 0.14638501094227996), (384, 0.14617633655117152), (559, 0.14617633655117152), (932, 0.14617633655117152), (6, 0.1460593486680443), (18, 0.1460593486680443), (235, 0.1460593486680443), (322, 0.1460593486680443), (386, 0.1460593486680443), (648, 0.1460593486680443), (649, 0.1460593486680443), (706, 0.1460593486680443), (708, 0.1460593486680443), (747, 0.1460593486680443), (758, 0.1460593486680443), (170, 0.14322297480788657), (432, 0.14322297480788657), (539, 0.14322297480788657), (705, 0.14322297480788657), (818, 0.14322297480788657), (880, 0.14322297480788657), (332, 0.14256648712805026), (730, 0.14256648712805026), (952, 0.14256648712805026), (1, 0.14142135623730948), (71, 0.14142135623730948), (534, 0.14085904245475275), (60, 0.1405456737852613), (211, 0.1405456737852613), (227, 0.1405456737852613), (356, 0.1405456737852613), (397, 0.1405456737852613), (480, 0.1405456737852613), (603, 0.1405456737852613), (722, 0.1405456737852613), (920, 0.1405456737852613), (940, 0.1405456737852613), (2, 0.13801311186847082), (232, 0.13801311186847082), (431, 0.13801311186847082), (577, 0.13801311186847082), (581, 0.13801311186847082), (656, 0.13801311186847082), (856, 0.13801311186847082), (945, 0.13801311186847082), (972, 0.13801311186847082), (531, 0.13762047064079508), (511, 0.13693063937629152), (520, 0.13693063937629152), (36, 0.13561270072416207), (64, 0.13561270072416207), (233, 0.13561270072416207), (588, 0.13561270072416207), (601, 0.13561270072416207), (676, 0.13459547551454137), (237, 0.1333333333333333), (244, 0.1333333333333333), (261, 0.1333333333333333), (345, 0.1333333333333333), (464, 0.1333333333333333), (473, 0.1333333333333333), (532, 0.1333333333333333), (716, 0.1333333333333333), (720, 0.1333333333333333), (761, 0.1333333333333333), (847, 0.1333333333333333), (458, 0.1328422328310143), (482, 0.1328422328310143), (666, 0.1328422328310143), (918, 0.1328422328310143), (245, 0.13116516715679058), (341, 0.13116516715679058), (893, 0.13116516715679058), (42, 0.12909944487358055), (89, 0.12909944487358055), (167, 0.12909944487358055), (218, 0.12909944487358055), (226, 0.12909944487358055), (436, 0.12909944487358055), (454, 0.12909944487358055), (599, 0.12909944487358055), (683, 0.12909944487358055), (703, 0.12909944487358055), (933, 0.12909944487358055), (154, 0.12712834523274563), (285, 0.12712834523274563), (349, 0.12712834523274563), (506, 0.12712834523274563), (580, 0.12712834523274563), (696, 0.12712834523274563), (816, 0.12712834523274563), (876, 0.12712834523274563), (699, 0.12565617248750865), (67, 0.12524485821702988), (171, 0.12524485821702988), (204, 0.12524485821702988), (219, 0.12524485821702988), (252, 0.12524485821702988), (277, 0.12524485821702988), (334, 0.12524485821702988), (380, 0.12524485821702988), (422, 0.12524485821702988), (484, 0.12524485821702988), (662, 0.12524485821702988), (670, 0.12524485821702988), (868, 0.12524485821702988), (94, 0.12344267996967351), (229, 0.12344267996967351), (326, 0.12344267996967351), (433, 0.1224744871391589), (697, 0.1224744871391589), (275, 0.1217161238900369), (630, 0.1217161238900369), (658, 0.1217161238900369), (843, 0.1217161238900369), (844, 0.1217161238900369), (321, 0.12006004503753284), (445, 0.12006004503753284), (698, 0.11952286093343936), (701, 0.11952286093343936), (739, 0.11952286093343936), (766, 0.11884567213538211), (598, 0.11846977555181847), (826, 0.11846977555181847), (841, 0.11846977555181847), (675, 0.11694106924093722), (481, 0.11677484162422842), (605, 0.11677484162422842), (56, 0.11547005383792515), (911, 0.11547005383792515), (470, 0.11420804814403215), (560, 0.11420804814403215), (671, 0.11420804814403215), (704, 0.11420804814403215), (735, 0.11420804814403215), (814, 0.11420804814403215), (825, 0.11420804814403215), (391, 0.1140531897024402), (22, 0.1126872339638022), (595, 0.1126872339638022), (971, 0.1126872339638022), (129, 0.1118033988749895), (176, 0.1118033988749895), (267, 0.1118033988749895), (478, 0.1118033988749895), (502, 0.1118033988749895), (545, 0.1118033988749895), (979, 0.1118033988749895), (461, 0.1113692092779409), (449, 0.11009637651263605), (9, 0.10954451150103323), (385, 0.10954451150103323), (414, 0.10954451150103323), (457, 0.10954451150103323), (564, 0.10954451150103323), (634, 0.10954451150103323), (754, 0.10954451150103323), (909, 0.10954451150103323), (881, 0.10767638041163309), (32, 0.10741723110591492), (195, 0.10741723110591492), (271, 0.10741723110591492), (413, 0.10741723110591492), (519, 0.10741723110591492), (541, 0.10741723110591492), (576, 0.10741723110591492), (809, 0.10741723110591492), (924, 0.10741723110591492), (925, 0.10741723110591492), (721, 0.10652472825826148), (5, 0.10540925533894599), (70, 0.10540925533894599), (81, 0.10540925533894599), (169, 0.10540925533894599), (203, 0.10540925533894599), (415, 0.10540925533894599), (535, 0.10540925533894599), (544, 0.10540925533894599), (584, 0.10540925533894599), (806, 0.10540925533894599), (140, 0.1043281061914602), (608, 0.1043281061914602), (124, 0.10350983390135311), (217, 0.10350983390135311), (361, 0.10350983390135311), (426, 0.10350983390135311), (543, 0.10350983390135311), (726, 0.10350983390135311), (864, 0.10350983390135311), (896, 0.10350983390135311), (553, 0.1022619985129827), (935, 0.1022619985129827), (62, 0.10170952554312154), (166, 0.10170952554312154), (209, 0.10170952554312154), (465, 0.10170952554312154), (569, 0.10170952554312154), (614, 0.10170952554312154), (852, 0.10170952554312154), (867, 0.10170952554312154), (31, 0.10127393670836667), (510, 0.10127393670836667), (817, 0.10127393670836667), (907, 0.10127393670836667), (161, 0.09999999999999998), (165, 0.09999999999999998), (179, 0.09999999999999998), (408, 0.09999999999999998), (573, 0.09999999999999998), (834, 0.09999999999999998), (97, 0.09837387536759293), (248, 0.09837387536759293), (312, 0.09837387536759293), (542, 0.09837387536759293), (862, 0.09837387536759293), (879, 0.09837387536759293), (934, 0.09837387536759293), (973, 0.09837387536759293), (795, 0.09759000729485331), (49, 0.09682458365518541), (117, 0.09682458365518541), (351, 0.09682458365518541), (439, 0.09682458365518541), (600, 0.09682458365518541), (723, 0.09682458365518541), (745, 0.09682458365518541), (807, 0.09682458365518541), (871, 0.09682458365518541), (29, 0.09534625892455922), (148, 0.09534625892455922), (224, 0.09534625892455922), (496, 0.09534625892455922), (575, 0.09534625892455922), (751, 0.09534625892455922), (690, 0.09428090415820632), (839, 0.0939336436627724), (981, 0.0939336436627724), (17, 0.09258200997725513), (396, 0.09258200997725513), (602, 0.09258200997725513), (957, 0.09258200997725513), (12, 0.09128709291752768), (333, 0.09128709291752768), (350, 0.09128709291752768), (685, 0.09128709291752768), (848, 0.09128709291752768), (853, 0.09128709291752768), (642, 0.09004503377814962), (937, 0.09004503377814962), (438, 0.08885233166386385), (930, 0.08885233166386385), (127, 0.08856148855400953), (276, 0.08856148855400953), (585, 0.08770580193070292), (922, 0.08770580193070292), (763, 0.08660254037844387), (290, 0.08606629658238704), (435, 0.08606629658238704), (503, 0.08606629658238704), (283, 0.08553989227683015), (381, 0.08451542547285165), (15, 0.0837707816583391), (694, 0.0837707816583391), (7, 0.08352690695845567), (594, 0.08352690695845567), (572, 0.08257228238447704), (135, 0.08164965809277261), (196, 0.0816496580927726), (443, 0.0816496580927726), (591, 0.0816496580927726), (110, 0.07968190728895957), (130, 0.07968190728895957), (143, 0.07968190728895957), (659, 0.07968190728895957), (702, 0.0790569415042095), (274, 0.07824607964359515), (906, 0.07824607964359515), (109, 0.07784989441615228), (192, 0.07784989441615228), (557, 0.07745966692414832), (574, 0.07745966692414832), (928, 0.07745966692414832), (52, 0.0761386987626881), (305, 0.0761386987626881), (423, 0.0761386987626881), (811, 0.0761386987626881), (914, 0.0761386987626881), (45, 0.07453559924999299), (102, 0.07453559924999299), (141, 0.07453559924999299), (303, 0.07453559924999299), (363, 0.07453559924999299), (368, 0.07453559924999299), (728, 0.07453559924999299), (900, 0.07453559924999299), (921, 0.07453559924999299), (95, 0.07302967433402215), (126, 0.07302967433402215), (137, 0.07302967433402215), (331, 0.07302967433402215), (335, 0.07302967433402215), (401, 0.07302967433402215), (549, 0.07302967433402215), (749, 0.07302967433402215), (915, 0.07302967433402215), (975, 0.07302967433402215), (803, 0.07254762501100116), (57, 0.07161148740394328), (125, 0.07161148740394328), (546, 0.07161148740394328), (800, 0.07161148740394328), (837, 0.07161148740394328), (838, 0.07161148740394328), (764, 0.07071067811865474), (44, 0.07027283689263066), (77, 0.07027283689263066), (79, 0.07027283689263066), (194, 0.07027283689263066), (565, 0.07027283689263066), (650, 0.07027283689263066), (746, 0.07027283689263066), (796, 0.07027283689263066), (96, 0.06900655593423541), (103, 0.06900655593423541), (162, 0.06900655593423541), (256, 0.06900655593423541), (460, 0.06900655593423541), (462, 0.06900655593423541), (467, 0.06900655593423541), (797, 0.06900655593423541), (51, 0.06780635036208103), (337, 0.06780635036208103), (358, 0.06780635036208103), (785, 0.06780635036208103), (884, 0.06780635036208103), (891, 0.06780635036208103), (899, 0.06780635036208103), (37, 0.06666666666666665), (107, 0.06666666666666665), (111, 0.06666666666666665), (139, 0.06666666666666665), (160, 0.06666666666666665), (344, 0.06666666666666665), (451, 0.06666666666666665), (788, 0.06666666666666665), (889, 0.06666666666666665), (890, 0.06666666666666665), (913, 0.06666666666666665), (20, 0.06558258357839529), (105, 0.06558258357839529), (106, 0.06558258357839529), (108, 0.06558258357839529), (112, 0.06558258357839529), (205, 0.06558258357839529), (444, 0.06558258357839529), (472, 0.06558258357839529), (562, 0.06558258357839529), (606, 0.06558258357839529), (695, 0.06558258357839529), (823, 0.06558258357839529), (870, 0.06558258357839529), (883, 0.06558258357839529), (943, 0.06558258357839529), (114, 0.06454972243679027), (159, 0.06454972243679027), (255, 0.06454972243679027), (497, 0.06454972243679027), (647, 0.06454972243679027), (750, 0.06454972243679027), (798, 0.06454972243679027), (936, 0.06454972243679027), (61, 0.06356417261637282), (131, 0.06356417261637282), (138, 0.06356417261637282), (182, 0.06356417261637282), (293, 0.06356417261637282), (637, 0.06356417261637282), (727, 0.06356417261637282), (284, 0.06262242910851494), (302, 0.06262242910851494), (493, 0.06262242910851494), (498, 0.06262242910851494), (717, 0.06262242910851494), (784, 0.06262242910851494), (72, 0.061721339984836754), (239, 0.061721339984836754), (610, 0.061721339984836754), (786, 0.061721339984836754), (791, 0.061721339984836754), (719, 0.06085806194501845), (827, 0.06085806194501845), (954, 0.06085806194501845), (33, 0.06003002251876642), (429, 0.06003002251876642), (636, 0.06003002251876642), (725, 0.06003002251876642), (343, 0.05923488777590923), (359, 0.05923488777590923), (360, 0.05923488777590923), (518, 0.05923488777590923), (836, 0.05923488777590923), (113, 0.05847053462046861), (790, 0.05847053462046861), (151, 0.057735026918962574), (198, 0.057735026918962574), (297, 0.057735026918962574), (514, 0.057735026918962574), (142, 0.0570265948512201), (347, 0.0570265948512201), (373, 0.0570265948512201), (964, 0.0570265948512201), (835, 0.0563436169819011), (960, 0.05568460463897045), (242, 0.05504818825631803), (272, 0.05504818825631803), (714, 0.05504818825631803), (318, 0.053838190205816545), (291, 0.05326236412913074), (325, 0.05326236412913074), (251, 0.052704627669472995), (767, 0.052704627669472995), (962, 0.0521640530957301), (374, 0.05163977794943222), (119, 0.05063696835418333), (265, 0.05063696835418333), (770, 0.049690399499995326), (116, 0.04714045207910316), (301, 0.046373889576016826), (813, 0.04494665749754947), (264, 0.04428074427700476), (268, 0.04428074427700476), (499, 0.04428074427700476), (680, 0.04333513900174394), (842, 0.04303314829119352), (172, 0.0408248290463863), (561, 0.0408248290463863), (654, 0.0408248290463863), (296, 0.03984095364447979), (711, 0.03984095364447979), (633, 0.039605901719066965), (270, 0.03892494720807614), (11, 0.03806934938134405), (88, 0.03806934938134405), (183, 0.03806934938134405), (563, 0.03806934938134405), (668, 0.03806934938134405), (741, 0.03806934938134405), (214, 0.037267799624996496), (266, 0.037267799624996496), (273, 0.037267799624996496), (340, 0.037267799624996496), (403, 0.037267799624996496), (430, 0.037267799624996496), (453, 0.037267799624996496), (346, 0.03651483716701107), (428, 0.03651483716701107), (978, 0.03651483716701107), (21, 0.03580574370197164), (178, 0.03580574370197164), (240, 0.03580574370197164), (269, 0.03580574370197164), (352, 0.03580574370197164), (447, 0.03580574370197164), (709, 0.03580574370197164), (712, 0.03580574370197164), (820, 0.03580574370197164), (858, 0.03580574370197164), (938, 0.03580574370197164), (177, 0.03513641844631533), (388, 0.03513641844631533), (416, 0.03513641844631533), (477, 0.03513641844631533), (801, 0.03513641844631533), (905, 0.03513641844631533), (58, 0.034503277967117704), (150, 0.034503277967117704), (164, 0.034503277967117704), (234, 0.034503277967117704), (586, 0.034050261230349946), (118, 0.03390317518104052), (566, 0.03390317518104052), (888, 0.03390317518104052), (927, 0.03390317518104052), (983, 0.03390317518104052), (168, 0.033333333333333326), (207, 0.033333333333333326), (448, 0.033333333333333326), (589, 0.033333333333333326), (840, 0.033333333333333326), (41, 0.032791291789197645), (54, 0.032791291789197645), (163, 0.032791291789197645), (189, 0.032791291789197645), (410, 0.032791291789197645), (548, 0.032791291789197645), (249, 0.03227486121839514), (263, 0.03227486121839514), (382, 0.03227486121839514), (551, 0.03227486121839514), (961, 0.03178208630818641), (69, 0.03131121455425747), (417, 0.03131121455425747), (526, 0.03131121455425747), (781, 0.03131121455425747), (859, 0.03131121455425747), (929, 0.030860669992418377), (13, 0.030429030972509225), (59, 0.030429030972509225), (536, 0.030429030972509225), (874, 0.030429030972509225), (966, 0.030429030972509225), (78, 0.029617443887954616), (951, 0.029235267310234306), (958, 0.029235267310234306), (181, 0.028867513459481287), (753, 0.028867513459481287), (202, 0.02851329742561005), (550, 0.02817180849095055), (652, 0.02817180849095055), (24, 0.027842302319485226), (25, 0.027842302319485226), (421, 0.027524094128159014), (327, 0.02721655269759087), (707, 0.02721655269759087), (772, 0.02663118206456537), (491, 0.02608202654786505), (762, 0.02608202654786505), (963, 0.02608202654786505), (0, 0.02581988897471611), (402, 0.02581988897471611), (208, 0.025565499628245676), (404, 0.025318484177091666), (87, 0.02507849312877596), (669, 0.024845199749997663), (508, 0.02439750182371333), (734, 0.02439750182371333), (199, 0.02357022603955158), (931, 0.02357022603955158), (578, 0.02337622911060922), (509, 0.02041241452319315), (469, 0.02016194596363779), (28, 0.01790287185098582), (4, 0.0), (16, 0.0), (19, 0.0), (23, 0.0), (26, 0.0), (30, 0.0), (34, 0.0), (35, 0.0), (39, 0.0), (40, 0.0), (50, 0.0), (53, 0.0), (55, 0.0), (63, 0.0), (66, 0.0), (75, 0.0), (76, 0.0), (83, 0.0), (84, 0.0), (85, 0.0), (90, 0.0), (93, 0.0), (99, 0.0), (101, 0.0), (104, 0.0), (115, 0.0), (120, 0.0), (121, 0.0), (122, 0.0), (128, 0.0), (133, 0.0), (134, 0.0), (136, 0.0), (146, 0.0), (147, 0.0), (149, 0.0), (153, 0.0), (157, 0.0), (158, 0.0), (173, 0.0), (174, 0.0), (175, 0.0), (180, 0.0), (184, 0.0), (186, 0.0), (187, 0.0), (188, 0.0), (190, 0.0), (191, 0.0), (193, 0.0), (197, 0.0), (201, 0.0), (212, 0.0), (215, 0.0), (216, 0.0), (220, 0.0), (222, 0.0), (225, 0.0), (231, 0.0), (238, 0.0), (243, 0.0), (247, 0.0), (250, 0.0), (254, 0.0), (257, 0.0), (258, 0.0), (259, 0.0), (260, 0.0), (262, 0.0), (279, 0.0), (280, 0.0), (281, 0.0), (282, 0.0), (286, 0.0), (287, 0.0), (288, 0.0), (289, 0.0), (292, 0.0), (294, 0.0), (295, 0.0), (298, 0.0), (299, 0.0), (300, 0.0), (304, 0.0), (306, 0.0), (307, 0.0), (308, 0.0), (311, 0.0), (313, 0.0), (314, 0.0), (315, 0.0), (317, 0.0), (319, 0.0), (320, 0.0), (323, 0.0), (324, 0.0), (328, 0.0), (336, 0.0), (338, 0.0), (339, 0.0), (342, 0.0), (355, 0.0), (357, 0.0), (365, 0.0), (366, 0.0), (367, 0.0), (369, 0.0), (370, 0.0), (371, 0.0), (376, 0.0), (378, 0.0), (379, 0.0), (387, 0.0), (389, 0.0), (392, 0.0), (393, 0.0), (394, 0.0), (400, 0.0), (406, 0.0), (407, 0.0), (409, 0.0), (411, 0.0), (412, 0.0), (418, 0.0), (420, 0.0), (424, 0.0), (425, 0.0), (440, 0.0), (441, 0.0), (442, 0.0), (446, 0.0), (455, 0.0), (456, 0.0), (459, 0.0), (468, 0.0), (475, 0.0), (476, 0.0), (479, 0.0), (485, 0.0), (489, 0.0), (490, 0.0), (492, 0.0), (494, 0.0), (495, 0.0), (500, 0.0), (504, 0.0), (507, 0.0), (512, 0.0), (513, 0.0), (516, 0.0), (517, 0.0), (521, 0.0), (523, 0.0), (525, 0.0), (529, 0.0), (530, 0.0), (537, 0.0), (538, 0.0), (540, 0.0), (547, 0.0), (552, 0.0), (556, 0.0), (567, 0.0), (570, 0.0), (571, 0.0), (579, 0.0), (583, 0.0), (587, 0.0), (590, 0.0), (592, 0.0), (593, 0.0), (604, 0.0), (607, 0.0), (609, 0.0), (613, 0.0), (615, 0.0), (616, 0.0), (617, 0.0), (618, 0.0), (619, 0.0), (620, 0.0), (621, 0.0), (622, 0.0), (623, 0.0), (624, 0.0), (625, 0.0), (626, 0.0), (627, 0.0), (628, 0.0), (629, 0.0), (631, 0.0), (639, 0.0), (640, 0.0), (641, 0.0), (643, 0.0), (644, 0.0), (645, 0.0), (646, 0.0), (657, 0.0), (660, 0.0), (661, 0.0), (663, 0.0), (664, 0.0), (672, 0.0), (678, 0.0), (679, 0.0), (688, 0.0), (689, 0.0), (715, 0.0), (718, 0.0), (724, 0.0), (729, 0.0), (731, 0.0), (732, 0.0), (733, 0.0), (740, 0.0), (742, 0.0), (743, 0.0), (744, 0.0), (771, 0.0), (773, 0.0), (774, 0.0), (775, 0.0), (776, 0.0), (777, 0.0), (778, 0.0), (779, 0.0), (780, 0.0), (782, 0.0), (783, 0.0), (787, 0.0), (789, 0.0), (792, 0.0), (793, 0.0), (799, 0.0), (802, 0.0), (804, 0.0), (805, 0.0), (810, 0.0), (815, 0.0), (819, 0.0), (821, 0.0), (822, 0.0), (824, 0.0), (829, 0.0), (830, 0.0), (831, 0.0), (832, 0.0), (845, 0.0), (846, 0.0), (849, 0.0), (850, 0.0), (851, 0.0), (855, 0.0), (857, 0.0), (865, 0.0), (869, 0.0), (872, 0.0), (875, 0.0), (882, 0.0), (885, 0.0), (892, 0.0), (894, 0.0), (895, 0.0), (898, 0.0), (903, 0.0), (904, 0.0), (908, 0.0), (912, 0.0), (916, 0.0), (917, 0.0), (919, 0.0), (939, 0.0), (941, 0.0), (942, 0.0), (946, 0.0), (948, 0.0), (955, 0.0), (956, 0.0), (959, 0.0), (965, 0.0), (980, 0.0), (984, 0.0)]\n"
          ]
        }
      ]
    },
    {
      "cell_type": "code",
      "metadata": {
        "colab": {
          "base_uri": "https://localhost:8080/"
        },
        "id": "ZYGDnOglRpdh",
        "outputId": "a4757212-6d6c-4153-cfb3-7d465e884a28"
      },
      "source": [
        "j=0\n",
        "print(\"10 most recommended movie to \",title1, 'are:\\n')\n",
        "print(\"Users who watched \"+title1+\" also watched these movies \\n\" )\n",
        "for item in sorted_scores:\n",
        "  movie_title = data[data.movie_index == item[0]]['title'].values[0]\n",
        "  rating = data[data.movie_index == item[0]]['rating'].values[0]\n",
        "  print(j+1,\"\\t\",movie_title,\" \",rating)\n",
        "  j=j+1\n",
        "  if j > 9:\n",
        "    break\n",
        "  \n"
      ],
      "execution_count": 305,
      "outputs": [
        {
          "output_type": "stream",
          "name": "stdout",
          "text": [
            "10 most recommended movie to  Atlantics are:\n",
            "\n",
            "Users who watched Atlantics also watched these movies \n",
            "\n",
            "1 \t Love, Rosie   8.0\n",
            "2 \t Good Night, and Good Luck   9.8\n",
            "3 \t C Kkompany   6.8\n",
            "4 \t Like Arrows   8.9\n",
            "5 \t Once Upon a Time in Mumbai Dobaara!   7.6\n",
            "6 \t Hong Kong West Side Stories - 1 Season   9.1\n",
            "7 \t Carriers   7.9\n",
            "8 \t Invader Zim: Enter the Florpus   7.2\n",
            "9 \t The Time Machine   7.9\n",
            "10 \t Falling Inn Love   6.8\n"
          ]
        }
      ]
    }
  ]
}