{
  "nbformat": 4,
  "nbformat_minor": 0,
  "metadata": {
    "colab": {
      "name": "recommended_system_model_test (2).ipynb",
      "provenance": [],
      "collapsed_sections": []
    },
    "kernelspec": {
      "name": "python3",
      "display_name": "Python 3"
    },
    "language_info": {
      "name": "python"
    }
  },
  "cells": [
    {
      "cell_type": "code",
      "metadata": {
        "id": "Bkdgd097OgwW"
      },
      "source": [
        "import pandas as pd\n",
        "import seaborn as sns\n",
        "import matplotlib.pyplot as plt\n",
        "import numpy as np\n",
        "from sklearn.model_selection import train_test_split\n",
        "from sklearn.impute import SimpleImputer\n",
        "from sklearn.preprocessing import LabelEncoder\n",
        "from sklearn import preprocessing\n",
        "from sklearn.feature_selection import VarianceThreshold\n"
      ],
      "execution_count": 67,
      "outputs": []
    },
    {
      "cell_type": "code",
      "metadata": {
        "colab": {
          "base_uri": "https://localhost:8080/",
          "height": 420
        },
        "id": "lt4SBfTMOqJY",
        "outputId": "de5af1b4-2ab7-4a5a-d80a-c52ba4185be9"
      },
      "source": [
        "df = pd.read_csv('https://raw.githubusercontent.com/Sneha8501/ML/main/Netflix_title_final.csv')\n",
        "df.head()"
      ],
      "execution_count": 68,
      "outputs": [
        {
          "output_type": "execute_result",
          "data": {
            "text/html": [
              "<div>\n",
              "<style scoped>\n",
              "    .dataframe tbody tr th:only-of-type {\n",
              "        vertical-align: middle;\n",
              "    }\n",
              "\n",
              "    .dataframe tbody tr th {\n",
              "        vertical-align: top;\n",
              "    }\n",
              "\n",
              "    .dataframe thead th {\n",
              "        text-align: right;\n",
              "    }\n",
              "</style>\n",
              "<table border=\"1\" class=\"dataframe\">\n",
              "  <thead>\n",
              "    <tr style=\"text-align: right;\">\n",
              "      <th></th>\n",
              "      <th>title</th>\n",
              "      <th>director</th>\n",
              "      <th>cast</th>\n",
              "      <th>country</th>\n",
              "      <th>date_added</th>\n",
              "      <th>rated by</th>\n",
              "      <th>listed_in</th>\n",
              "      <th>description</th>\n",
              "      <th>type</th>\n",
              "      <th>show_id</th>\n",
              "      <th>release_year</th>\n",
              "      <th>duration</th>\n",
              "      <th>rating</th>\n",
              "    </tr>\n",
              "  </thead>\n",
              "  <tbody>\n",
              "    <tr>\n",
              "      <th>0</th>\n",
              "      <td>Chocolate - 1 Season</td>\n",
              "      <td>Toka McBaror</td>\n",
              "      <td>Ha Ji-won, Yoon Kye-sang, Jang Seung-jo, Kang ...</td>\n",
              "      <td>South Korea</td>\n",
              "      <td>November 30, 2019</td>\n",
              "      <td>TV-14</td>\n",
              "      <td>International TV Shows, Korean TV Shows, Roman...</td>\n",
              "      <td>Brought together by meaningful meals in the pa...</td>\n",
              "      <td>TV Show</td>\n",
              "      <td>81193313</td>\n",
              "      <td>2019</td>\n",
              "      <td>60</td>\n",
              "      <td>6.3</td>\n",
              "    </tr>\n",
              "    <tr>\n",
              "      <th>1</th>\n",
              "      <td>Guatemala: Heart of the Mayan World</td>\n",
              "      <td>Luis Ara, Ignacio Jaunsolo</td>\n",
              "      <td>Christian Morales</td>\n",
              "      <td>Unknown</td>\n",
              "      <td>November 30, 2019</td>\n",
              "      <td>G</td>\n",
              "      <td>Documentaries, International Movies</td>\n",
              "      <td>From Sierra de las Minas to Esquipulas, explor...</td>\n",
              "      <td>Movie</td>\n",
              "      <td>81197050</td>\n",
              "      <td>2019</td>\n",
              "      <td>67</td>\n",
              "      <td>7.2</td>\n",
              "    </tr>\n",
              "    <tr>\n",
              "      <th>2</th>\n",
              "      <td>The Zoya Factor</td>\n",
              "      <td>Abhishek Sharma</td>\n",
              "      <td>Sonam Kapoor, Dulquer Salmaan, Sanjay Kapoor, ...</td>\n",
              "      <td>India</td>\n",
              "      <td>November 30, 2019</td>\n",
              "      <td>TV-14</td>\n",
              "      <td>Comedies, Dramas, International Movies</td>\n",
              "      <td>A goofy copywriter unwittingly convinces the I...</td>\n",
              "      <td>Movie</td>\n",
              "      <td>81213894</td>\n",
              "      <td>2019</td>\n",
              "      <td>135</td>\n",
              "      <td>7.2</td>\n",
              "    </tr>\n",
              "    <tr>\n",
              "      <th>3</th>\n",
              "      <td>Atlantics</td>\n",
              "      <td>Mati Diop</td>\n",
              "      <td>Mama Sane, Amadou Mbow, Ibrahima Traore, Nicol...</td>\n",
              "      <td>France, Senegal, Belgium</td>\n",
              "      <td>November 29, 2019</td>\n",
              "      <td>TV-14</td>\n",
              "      <td>Dramas, Independent Movies, International Movies</td>\n",
              "      <td>Arranged to marry a rich man, young Ada is cru...</td>\n",
              "      <td>Movie</td>\n",
              "      <td>81082007</td>\n",
              "      <td>2019</td>\n",
              "      <td>106</td>\n",
              "      <td>6.3</td>\n",
              "    </tr>\n",
              "    <tr>\n",
              "      <th>4</th>\n",
              "      <td>Chip and Potato - 2 Seasons</td>\n",
              "      <td>Frank Oz</td>\n",
              "      <td>Abigail Oliver, Andrea Libman, Briana Buckmast...</td>\n",
              "      <td>Canada, United Kingdom</td>\n",
              "      <td>November 27, 2019</td>\n",
              "      <td>TV-Y</td>\n",
              "      <td>Kids' TV</td>\n",
              "      <td>Lovable pug Chip starts kindergarten, makes ne...</td>\n",
              "      <td>TV Show</td>\n",
              "      <td>80213643</td>\n",
              "      <td>2019</td>\n",
              "      <td>60</td>\n",
              "      <td>7.7</td>\n",
              "    </tr>\n",
              "  </tbody>\n",
              "</table>\n",
              "</div>"
            ],
            "text/plain": [
              "                                 title  ... rating\n",
              "0                 Chocolate - 1 Season  ...    6.3\n",
              "1  Guatemala: Heart of the Mayan World  ...    7.2\n",
              "2                      The Zoya Factor  ...    7.2\n",
              "3                            Atlantics  ...    6.3\n",
              "4          Chip and Potato - 2 Seasons  ...    7.7\n",
              "\n",
              "[5 rows x 13 columns]"
            ]
          },
          "metadata": {},
          "execution_count": 68
        }
      ]
    },
    {
      "cell_type": "code",
      "metadata": {
        "colab": {
          "base_uri": "https://localhost:8080/"
        },
        "id": "Uy9GECH18IC9",
        "outputId": "9ef39fa0-a776-44c2-edf2-fda5178c4c72"
      },
      "source": [
        "fs=df.copy()\n",
        "fs.shape"
      ],
      "execution_count": 69,
      "outputs": [
        {
          "output_type": "execute_result",
          "data": {
            "text/plain": [
              "(985, 13)"
            ]
          },
          "metadata": {},
          "execution_count": 69
        }
      ]
    },
    {
      "cell_type": "code",
      "metadata": {
        "id": "NrHY6sHQ-n4R"
      },
      "source": [
        "label_encoder = preprocessing.LabelEncoder()\n",
        "for column in fs:\n",
        "  fs[column]= label_encoder.fit_transform(fs[column])"
      ],
      "execution_count": 70,
      "outputs": []
    },
    {
      "cell_type": "code",
      "metadata": {
        "colab": {
          "base_uri": "https://localhost:8080/"
        },
        "id": "FdUi-J7q78Wy",
        "outputId": "a182dc23-04b9-403f-d341-fe0215c14fb5"
      },
      "source": [
        "var_thres = VarianceThreshold(threshold=0)\n",
        "var_thres.fit(fs)"
      ],
      "execution_count": 71,
      "outputs": [
        {
          "output_type": "execute_result",
          "data": {
            "text/plain": [
              "VarianceThreshold(threshold=0)"
            ]
          },
          "metadata": {},
          "execution_count": 71
        }
      ]
    },
    {
      "cell_type": "code",
      "metadata": {
        "colab": {
          "base_uri": "https://localhost:8080/"
        },
        "id": "tKmkagp97_9-",
        "outputId": "e32df2a4-5749-45c8-aca6-8bb67eec3702"
      },
      "source": [
        "var_thres.get_support()"
      ],
      "execution_count": 72,
      "outputs": [
        {
          "output_type": "execute_result",
          "data": {
            "text/plain": [
              "array([ True,  True,  True,  True,  True,  True,  True,  True,  True,\n",
              "        True,  True,  True,  True])"
            ]
          },
          "metadata": {},
          "execution_count": 72
        }
      ]
    },
    {
      "cell_type": "code",
      "metadata": {
        "colab": {
          "base_uri": "https://localhost:8080/"
        },
        "id": "50Hmatzm8EwB",
        "outputId": "4010138f-263f-4e1a-f2dc-6de92719110c"
      },
      "source": [
        "constant_columns=[column for column in fs.columns if column not in fs.columns[var_thres.get_support()]]\n",
        "print(len(constant_columns))\n",
        "constant_columns"
      ],
      "execution_count": 73,
      "outputs": [
        {
          "output_type": "stream",
          "name": "stdout",
          "text": [
            "0\n"
          ]
        },
        {
          "output_type": "execute_result",
          "data": {
            "text/plain": [
              "[]"
            ]
          },
          "metadata": {},
          "execution_count": 73
        }
      ]
    },
    {
      "cell_type": "code",
      "metadata": {
        "colab": {
          "base_uri": "https://localhost:8080/"
        },
        "id": "Q6KHB1a-8FdC",
        "outputId": "1e60287d-edcd-4927-89eb-5fde40e8d572"
      },
      "source": [
        "df.drop(constant_columns,axis=1,inplace=True)\n",
        "df.shape"
      ],
      "execution_count": 74,
      "outputs": [
        {
          "output_type": "execute_result",
          "data": {
            "text/plain": [
              "(985, 13)"
            ]
          },
          "metadata": {},
          "execution_count": 74
        }
      ]
    },
    {
      "cell_type": "code",
      "metadata": {
        "colab": {
          "base_uri": "https://localhost:8080/"
        },
        "id": "G0LRhdDT8dqy",
        "outputId": "1eb3e8de-7539-4c76-a999-28ba966ecedc"
      },
      "source": [
        "df = df.T\n",
        "print(df.duplicated().sum())\n",
        "df = df.T"
      ],
      "execution_count": 75,
      "outputs": [
        {
          "output_type": "stream",
          "name": "stdout",
          "text": [
            "0\n"
          ]
        }
      ]
    },
    {
      "cell_type": "code",
      "metadata": {
        "colab": {
          "base_uri": "https://localhost:8080/",
          "height": 448
        },
        "id": "e-3IhqJD8jRc",
        "outputId": "862a1b99-17b7-41ae-fbbf-89c17fa0d4f4"
      },
      "source": [
        "fs.corr()"
      ],
      "execution_count": 76,
      "outputs": [
        {
          "output_type": "execute_result",
          "data": {
            "text/html": [
              "<div>\n",
              "<style scoped>\n",
              "    .dataframe tbody tr th:only-of-type {\n",
              "        vertical-align: middle;\n",
              "    }\n",
              "\n",
              "    .dataframe tbody tr th {\n",
              "        vertical-align: top;\n",
              "    }\n",
              "\n",
              "    .dataframe thead th {\n",
              "        text-align: right;\n",
              "    }\n",
              "</style>\n",
              "<table border=\"1\" class=\"dataframe\">\n",
              "  <thead>\n",
              "    <tr style=\"text-align: right;\">\n",
              "      <th></th>\n",
              "      <th>title</th>\n",
              "      <th>director</th>\n",
              "      <th>cast</th>\n",
              "      <th>country</th>\n",
              "      <th>date_added</th>\n",
              "      <th>rated by</th>\n",
              "      <th>listed_in</th>\n",
              "      <th>description</th>\n",
              "      <th>type</th>\n",
              "      <th>show_id</th>\n",
              "      <th>release_year</th>\n",
              "      <th>duration</th>\n",
              "      <th>rating</th>\n",
              "    </tr>\n",
              "  </thead>\n",
              "  <tbody>\n",
              "    <tr>\n",
              "      <th>title</th>\n",
              "      <td>1.000000</td>\n",
              "      <td>0.002300</td>\n",
              "      <td>0.074846</td>\n",
              "      <td>0.020655</td>\n",
              "      <td>0.005145</td>\n",
              "      <td>0.018827</td>\n",
              "      <td>-0.034812</td>\n",
              "      <td>0.060331</td>\n",
              "      <td>-0.007337</td>\n",
              "      <td>-0.092970</td>\n",
              "      <td>-0.073743</td>\n",
              "      <td>0.062053</td>\n",
              "      <td>-0.012732</td>\n",
              "    </tr>\n",
              "    <tr>\n",
              "      <th>director</th>\n",
              "      <td>0.002300</td>\n",
              "      <td>1.000000</td>\n",
              "      <td>-0.044015</td>\n",
              "      <td>-0.012502</td>\n",
              "      <td>-0.021517</td>\n",
              "      <td>0.111823</td>\n",
              "      <td>0.096033</td>\n",
              "      <td>0.001448</td>\n",
              "      <td>0.386032</td>\n",
              "      <td>0.052112</td>\n",
              "      <td>0.021618</td>\n",
              "      <td>-0.224746</td>\n",
              "      <td>-0.040688</td>\n",
              "    </tr>\n",
              "    <tr>\n",
              "      <th>cast</th>\n",
              "      <td>0.074846</td>\n",
              "      <td>-0.044015</td>\n",
              "      <td>1.000000</td>\n",
              "      <td>-0.033956</td>\n",
              "      <td>-0.010441</td>\n",
              "      <td>0.008963</td>\n",
              "      <td>0.034817</td>\n",
              "      <td>-0.023193</td>\n",
              "      <td>0.003884</td>\n",
              "      <td>0.047997</td>\n",
              "      <td>-0.008971</td>\n",
              "      <td>0.063190</td>\n",
              "      <td>0.027670</td>\n",
              "    </tr>\n",
              "    <tr>\n",
              "      <th>country</th>\n",
              "      <td>0.020655</td>\n",
              "      <td>-0.012502</td>\n",
              "      <td>-0.033956</td>\n",
              "      <td>1.000000</td>\n",
              "      <td>0.059006</td>\n",
              "      <td>-0.114396</td>\n",
              "      <td>0.006537</td>\n",
              "      <td>0.044260</td>\n",
              "      <td>0.047698</td>\n",
              "      <td>-0.272086</td>\n",
              "      <td>-0.169149</td>\n",
              "      <td>-0.180636</td>\n",
              "      <td>0.001502</td>\n",
              "    </tr>\n",
              "    <tr>\n",
              "      <th>date_added</th>\n",
              "      <td>0.005145</td>\n",
              "      <td>-0.021517</td>\n",
              "      <td>-0.010441</td>\n",
              "      <td>0.059006</td>\n",
              "      <td>1.000000</td>\n",
              "      <td>-0.072702</td>\n",
              "      <td>-0.071701</td>\n",
              "      <td>-0.035813</td>\n",
              "      <td>-0.074119</td>\n",
              "      <td>0.021988</td>\n",
              "      <td>-0.052177</td>\n",
              "      <td>0.090292</td>\n",
              "      <td>-0.031433</td>\n",
              "    </tr>\n",
              "    <tr>\n",
              "      <th>rated by</th>\n",
              "      <td>0.018827</td>\n",
              "      <td>0.111823</td>\n",
              "      <td>0.008963</td>\n",
              "      <td>-0.114396</td>\n",
              "      <td>-0.072702</td>\n",
              "      <td>1.000000</td>\n",
              "      <td>0.268592</td>\n",
              "      <td>-0.007346</td>\n",
              "      <td>0.227355</td>\n",
              "      <td>0.294901</td>\n",
              "      <td>0.253872</td>\n",
              "      <td>-0.122537</td>\n",
              "      <td>-0.000689</td>\n",
              "    </tr>\n",
              "    <tr>\n",
              "      <th>listed_in</th>\n",
              "      <td>-0.034812</td>\n",
              "      <td>0.096033</td>\n",
              "      <td>0.034817</td>\n",
              "      <td>0.006537</td>\n",
              "      <td>-0.071701</td>\n",
              "      <td>0.268592</td>\n",
              "      <td>1.000000</td>\n",
              "      <td>-0.047119</td>\n",
              "      <td>0.272793</td>\n",
              "      <td>0.237928</td>\n",
              "      <td>0.211475</td>\n",
              "      <td>-0.262196</td>\n",
              "      <td>0.007596</td>\n",
              "    </tr>\n",
              "    <tr>\n",
              "      <th>description</th>\n",
              "      <td>0.060331</td>\n",
              "      <td>0.001448</td>\n",
              "      <td>-0.023193</td>\n",
              "      <td>0.044260</td>\n",
              "      <td>-0.035813</td>\n",
              "      <td>-0.007346</td>\n",
              "      <td>-0.047119</td>\n",
              "      <td>1.000000</td>\n",
              "      <td>0.000238</td>\n",
              "      <td>-0.106223</td>\n",
              "      <td>-0.073769</td>\n",
              "      <td>-0.074531</td>\n",
              "      <td>-0.020373</td>\n",
              "    </tr>\n",
              "    <tr>\n",
              "      <th>type</th>\n",
              "      <td>-0.007337</td>\n",
              "      <td>0.386032</td>\n",
              "      <td>0.003884</td>\n",
              "      <td>0.047698</td>\n",
              "      <td>-0.074119</td>\n",
              "      <td>0.227355</td>\n",
              "      <td>0.272793</td>\n",
              "      <td>0.000238</td>\n",
              "      <td>1.000000</td>\n",
              "      <td>0.078056</td>\n",
              "      <td>0.072817</td>\n",
              "      <td>-0.459747</td>\n",
              "      <td>-0.012297</td>\n",
              "    </tr>\n",
              "    <tr>\n",
              "      <th>show_id</th>\n",
              "      <td>-0.092970</td>\n",
              "      <td>0.052112</td>\n",
              "      <td>0.047997</td>\n",
              "      <td>-0.272086</td>\n",
              "      <td>0.021988</td>\n",
              "      <td>0.294901</td>\n",
              "      <td>0.237928</td>\n",
              "      <td>-0.106223</td>\n",
              "      <td>0.078056</td>\n",
              "      <td>1.000000</td>\n",
              "      <td>0.643977</td>\n",
              "      <td>-0.183813</td>\n",
              "      <td>0.017506</td>\n",
              "    </tr>\n",
              "    <tr>\n",
              "      <th>release_year</th>\n",
              "      <td>-0.073743</td>\n",
              "      <td>0.021618</td>\n",
              "      <td>-0.008971</td>\n",
              "      <td>-0.169149</td>\n",
              "      <td>-0.052177</td>\n",
              "      <td>0.253872</td>\n",
              "      <td>0.211475</td>\n",
              "      <td>-0.073769</td>\n",
              "      <td>0.072817</td>\n",
              "      <td>0.643977</td>\n",
              "      <td>1.000000</td>\n",
              "      <td>-0.196401</td>\n",
              "      <td>0.049563</td>\n",
              "    </tr>\n",
              "    <tr>\n",
              "      <th>duration</th>\n",
              "      <td>0.062053</td>\n",
              "      <td>-0.224746</td>\n",
              "      <td>0.063190</td>\n",
              "      <td>-0.180636</td>\n",
              "      <td>0.090292</td>\n",
              "      <td>-0.122537</td>\n",
              "      <td>-0.262196</td>\n",
              "      <td>-0.074531</td>\n",
              "      <td>-0.459747</td>\n",
              "      <td>-0.183813</td>\n",
              "      <td>-0.196401</td>\n",
              "      <td>1.000000</td>\n",
              "      <td>-0.015037</td>\n",
              "    </tr>\n",
              "    <tr>\n",
              "      <th>rating</th>\n",
              "      <td>-0.012732</td>\n",
              "      <td>-0.040688</td>\n",
              "      <td>0.027670</td>\n",
              "      <td>0.001502</td>\n",
              "      <td>-0.031433</td>\n",
              "      <td>-0.000689</td>\n",
              "      <td>0.007596</td>\n",
              "      <td>-0.020373</td>\n",
              "      <td>-0.012297</td>\n",
              "      <td>0.017506</td>\n",
              "      <td>0.049563</td>\n",
              "      <td>-0.015037</td>\n",
              "      <td>1.000000</td>\n",
              "    </tr>\n",
              "  </tbody>\n",
              "</table>\n",
              "</div>"
            ],
            "text/plain": [
              "                 title  director      cast  ...  release_year  duration    rating\n",
              "title         1.000000  0.002300  0.074846  ...     -0.073743  0.062053 -0.012732\n",
              "director      0.002300  1.000000 -0.044015  ...      0.021618 -0.224746 -0.040688\n",
              "cast          0.074846 -0.044015  1.000000  ...     -0.008971  0.063190  0.027670\n",
              "country       0.020655 -0.012502 -0.033956  ...     -0.169149 -0.180636  0.001502\n",
              "date_added    0.005145 -0.021517 -0.010441  ...     -0.052177  0.090292 -0.031433\n",
              "rated by      0.018827  0.111823  0.008963  ...      0.253872 -0.122537 -0.000689\n",
              "listed_in    -0.034812  0.096033  0.034817  ...      0.211475 -0.262196  0.007596\n",
              "description   0.060331  0.001448 -0.023193  ...     -0.073769 -0.074531 -0.020373\n",
              "type         -0.007337  0.386032  0.003884  ...      0.072817 -0.459747 -0.012297\n",
              "show_id      -0.092970  0.052112  0.047997  ...      0.643977 -0.183813  0.017506\n",
              "release_year -0.073743  0.021618 -0.008971  ...      1.000000 -0.196401  0.049563\n",
              "duration      0.062053 -0.224746  0.063190  ...     -0.196401  1.000000 -0.015037\n",
              "rating       -0.012732 -0.040688  0.027670  ...      0.049563 -0.015037  1.000000\n",
              "\n",
              "[13 rows x 13 columns]"
            ]
          },
          "metadata": {},
          "execution_count": 76
        }
      ]
    },
    {
      "cell_type": "code",
      "metadata": {
        "colab": {
          "base_uri": "https://localhost:8080/"
        },
        "id": "e8hr1yTh8nb3",
        "outputId": "276700ea-ed7b-4d8d-82d6-9222866a0349"
      },
      "source": [
        "def correlation(dataset, threshold):\n",
        "    col_corr = set()  # Set of all the names of correlated columns\n",
        "    corr_matrix = dataset.corr()\n",
        "    for i in range(len(corr_matrix.columns)):\n",
        "        for j in range(i):\n",
        "            if abs(corr_matrix.iloc[i, j]) > threshold: # we are interested in absolute coeff value\n",
        "                colname = corr_matrix.columns[i]  # getting the name of column\n",
        "                col_corr.add(colname)\n",
        "    return col_corr\n",
        "\n",
        "corr_features = correlation(fs, 0.4)\n",
        "len(set(corr_features))"
      ],
      "execution_count": 77,
      "outputs": [
        {
          "output_type": "execute_result",
          "data": {
            "text/plain": [
              "2"
            ]
          },
          "metadata": {},
          "execution_count": 77
        }
      ]
    },
    {
      "cell_type": "code",
      "metadata": {
        "colab": {
          "base_uri": "https://localhost:8080/"
        },
        "id": "p5Op8bzfAzBg",
        "outputId": "251f8fc2-424b-4bb0-9b1c-035ea5fef0b2"
      },
      "source": [
        "corr_features"
      ],
      "execution_count": 78,
      "outputs": [
        {
          "output_type": "execute_result",
          "data": {
            "text/plain": [
              "{'duration', 'release_year'}"
            ]
          },
          "metadata": {},
          "execution_count": 78
        }
      ]
    },
    {
      "cell_type": "code",
      "metadata": {
        "colab": {
          "base_uri": "https://localhost:8080/"
        },
        "id": "r2nhzijw_VWA",
        "outputId": "cf914086-e3b4-4ccf-b8c4-d70bdac11202"
      },
      "source": [
        "df.drop(corr_features, axis=1, inplace = True)\n",
        "df.shape"
      ],
      "execution_count": 79,
      "outputs": [
        {
          "output_type": "execute_result",
          "data": {
            "text/plain": [
              "(985, 11)"
            ]
          },
          "metadata": {},
          "execution_count": 79
        }
      ]
    },
    {
      "cell_type": "code",
      "metadata": {
        "id": "i6VDIoVmO4Gb",
        "colab": {
          "base_uri": "https://localhost:8080/",
          "height": 607
        },
        "outputId": "e5a10a02-3d61-4f83-9c9a-399c126c4a5f"
      },
      "source": [
        "df['listed_in'] = df['listed_in'].str.strip('[]').str.replace(' ','').str.replace(\"'\",'')\n",
        "df['listed_in'] = df['listed_in'].str.split(',')\n",
        "\n",
        "plt.subplots(figsize=(12,10))\n",
        "list1 = []\n",
        "for i in df['listed_in']:\n",
        "    list1.extend(i)\n",
        "ax = pd.Series(list1).value_counts()[:10].sort_values(ascending=True).plot.barh(width=0.9,color=sns.color_palette('hls',10))\n",
        "for i, v in enumerate(pd.Series(list1).value_counts()[:10].sort_values(ascending=True).values): \n",
        "    ax.text(.8, i, v,fontsize=12,color='white',weight='bold')\n",
        "plt.title('Top Genres')\n",
        "plt.show()"
      ],
      "execution_count": 80,
      "outputs": [
        {
          "output_type": "display_data",
          "data": {
            "image/png": "[encoded data removed]",
            "text/plain": [
              "<Figure size 864x720 with 1 Axes>"
            ]
          },
          "metadata": {
            "needs_background": "light"
          }
        }
      ]
    },
    {
      "cell_type": "code",
      "metadata": {
        "id": "aIM0sS8kPZTl"
      },
      "source": [
        ""
      ],
      "execution_count": 80,
      "outputs": []
    },
    {
      "cell_type": "code",
      "metadata": {
        "id": "YW6uMsw_QMLR",
        "colab": {
          "base_uri": "https://localhost:8080/"
        },
        "outputId": "dfe2f7a3-f9b9-4f71-fda1-266affbd2140"
      },
      "source": [
        "for i,j in zip(df['listed_in'],df.index):\n",
        "    list2=[]\n",
        "    list2=i\n",
        "    list2.sort()\n",
        "    df.loc[j,'listed_in']=str(list2)\n",
        "df['listed_in'] = df['listed_in'].str.strip('[]').str.replace(' ','').str.replace(\"'\",'')\n",
        "df['listed_in'] = df['listed_in'].str.split(',')\n",
        "genreList = []\n",
        "for index, row in df.iterrows():\n",
        "    listed_in = row[\"listed_in\"]\n",
        "    \n",
        "    for genre in listed_in:\n",
        "        if genre not in genreList:\n",
        "            genreList.append(genre)\n",
        "genreList[:10] #now we have a list with unique genres\n",
        "\n",
        "def binary(genre_list):\n",
        "    binaryList = []\n",
        "    \n",
        "    for genre in genreList:\n",
        "        if genre in genre_list:\n",
        "            binaryList.append(1)\n",
        "        else:\n",
        "            binaryList.append(0)\n",
        "    \n",
        "    return binaryList\n",
        "\n",
        "df['genres_bin'] = df['listed_in'].apply(lambda x: binary(x))\n",
        "df['genres_bin'].head()"
      ],
      "execution_count": 81,
      "outputs": [
        {
          "output_type": "execute_result",
          "data": {
            "text/plain": [
              "0    [1, 1, 1, 0, 0, 0, 0, 0, 0, 0, 0, 0, 0, 0, 0, ...\n",
              "1    [0, 0, 0, 1, 1, 0, 0, 0, 0, 0, 0, 0, 0, 0, 0, ...\n",
              "2    [0, 0, 0, 0, 1, 1, 1, 0, 0, 0, 0, 0, 0, 0, 0, ...\n",
              "3    [0, 0, 0, 0, 1, 0, 1, 1, 0, 0, 0, 0, 0, 0, 0, ...\n",
              "4    [0, 0, 0, 0, 0, 0, 0, 0, 1, 0, 0, 0, 0, 0, 0, ...\n",
              "Name: genres_bin, dtype: object"
            ]
          },
          "metadata": {},
          "execution_count": 81
        }
      ]
    },
    {
      "cell_type": "code",
      "metadata": {
        "id": "J9rKgzmkRXMh",
        "colab": {
          "base_uri": "https://localhost:8080/"
        },
        "outputId": "b420bdde-9859-4c66-eda2-303a1df49e47"
      },
      "source": [
        "df['cast'] = df['cast'].str.strip('[]').str.replace(' ','').str.replace(\"'\",'').str.replace('\"','')\n",
        "df['cast'] = df['cast'].str.split(',')\n",
        "\n",
        "for i,j in zip(df['cast'],df.index):\n",
        "    list2 = []\n",
        "    list2 = i[:4]\n",
        "    df.loc[j,'cast'] = str(list2)\n",
        "df['cast'] = df['cast'].str.strip('[]').str.replace(' ','').str.replace(\"'\",'')\n",
        "df['cast'] = df['cast'].str.split(',')\n",
        "for i,j in zip(df['cast'],df.index):\n",
        "    list2 = []\n",
        "    list2 = i\n",
        "    list2.sort()\n",
        "    df.loc[j,'cast'] = str(list2)\n",
        "df['cast']=df['cast'].str.strip('[]').str.replace(' ','').str.replace(\"'\",'')\n",
        "\n",
        "castList = []\n",
        "for index, row in df.iterrows():\n",
        "    cast = row[\"cast\"]\n",
        "    \n",
        "    for i in cast:\n",
        "        if i not in castList:\n",
        "            castList.append(i)\n",
        "\n",
        "def binary(cast_list):\n",
        "    binaryList = []\n",
        "    \n",
        "    for genre in castList:\n",
        "        if genre in cast_list:\n",
        "            binaryList.append(1)\n",
        "        else:\n",
        "            binaryList.append(0)\n",
        "    \n",
        "    return binaryList\n",
        "\n",
        "df['cast_bin'] = df['cast'].apply(lambda x: binary(x))\n",
        "df['cast_bin'].head()"
      ],
      "execution_count": 82,
      "outputs": [
        {
          "output_type": "execute_result",
          "data": {
            "text/plain": [
              "0    [1, 1, 1, 1, 1, 1, 1, 1, 1, 1, 1, 1, 1, 1, 1, ...\n",
              "1    [0, 1, 0, 1, 0, 0, 1, 1, 0, 0, 0, 1, 0, 0, 0, ...\n",
              "2    [0, 1, 0, 1, 0, 0, 1, 1, 1, 0, 1, 1, 1, 1, 1, ...\n",
              "3    [0, 1, 0, 1, 0, 1, 1, 1, 1, 1, 1, 1, 1, 0, 0, ...\n",
              "4    [0, 1, 0, 1, 0, 0, 1, 1, 1, 1, 0, 1, 1, 0, 0, ...\n",
              "Name: cast_bin, dtype: object"
            ]
          },
          "metadata": {},
          "execution_count": 82
        }
      ]
    },
    {
      "cell_type": "code",
      "metadata": {
        "id": "TJX-yU2PygM8",
        "colab": {
          "base_uri": "https://localhost:8080/"
        },
        "outputId": "eaef965f-e2df-4513-c85a-609945433238"
      },
      "source": [
        "df['director'] = df['director'].str.strip('[]').str.replace(' ','').str.replace(\"'\",'').str.replace('\"','')\n",
        "df['director'] = df['director'].str.split(',')\n",
        "def xstr(s):\n",
        "    if s is None:\n",
        "        return ''\n",
        "    return str(s)\n",
        "df['director'] = df['director'].apply(xstr)\n",
        "\n",
        "directorList=[]\n",
        "for i in df['director']:\n",
        "    if i not in directorList:\n",
        "        directorList.append(i)\n",
        "\n",
        "def binary(director_list):\n",
        "    binaryList = []  \n",
        "    for direct in directorList:\n",
        "        if direct in director_list:\n",
        "            binaryList.append(1)\n",
        "        else:\n",
        "            binaryList.append(0)\n",
        "    return binaryList\n",
        "\n",
        "df['director_bin'] = df['director'].apply(lambda x: binary(x))\n",
        "df['director_bin'].head()"
      ],
      "execution_count": 83,
      "outputs": [
        {
          "output_type": "execute_result",
          "data": {
            "text/plain": [
              "0    [1, 0, 0, 0, 0, 0, 0, 0, 0, 0, 0, 0, 0, 0, 0, ...\n",
              "1    [0, 1, 0, 0, 0, 0, 0, 0, 0, 0, 0, 0, 0, 0, 0, ...\n",
              "2    [0, 0, 1, 0, 0, 0, 0, 0, 0, 0, 0, 0, 0, 0, 0, ...\n",
              "3    [0, 0, 0, 1, 0, 0, 0, 0, 0, 0, 0, 0, 0, 0, 0, ...\n",
              "4    [0, 0, 0, 0, 1, 0, 0, 0, 0, 0, 0, 0, 0, 0, 0, ...\n",
              "Name: director_bin, dtype: object"
            ]
          },
          "metadata": {},
          "execution_count": 83
        }
      ]
    },
    {
      "cell_type": "code",
      "metadata": {
        "colab": {
          "base_uri": "https://localhost:8080/"
        },
        "id": "ewHtXu9lFrVW",
        "outputId": "2bf6cd48-7911-480c-9a44-93d104feb6e6"
      },
      "source": [
        "def xstr(s):\n",
        "    if s is None:\n",
        "        return ''\n",
        "    return str(s)\n",
        "df['rated by'] = df['rated by'].apply(xstr)\n",
        "\n",
        "ratedbyList=[]\n",
        "for i in df['rated by']:\n",
        "    if i not in ratedbyList:\n",
        "        ratedbyList.append(i)\n",
        "\n",
        "def binary(ratedby_list):\n",
        "    binaryList = []  \n",
        "    for rated in ratedbyList:\n",
        "        if rated in ratedby_list:\n",
        "            binaryList.append(1)\n",
        "        else:\n",
        "            binaryList.append(0)\n",
        "    return binaryList\n",
        "\n",
        "df['rated by_bin'] = df['rated by'].apply(lambda x: binary(x))\n",
        "df['rated by_bin'].head()"
      ],
      "execution_count": 84,
      "outputs": [
        {
          "output_type": "execute_result",
          "data": {
            "text/plain": [
              "0    [1, 0, 0, 0, 0, 0, 0, 0, 0, 0]\n",
              "1    [0, 1, 0, 0, 0, 0, 0, 0, 0, 0]\n",
              "2    [1, 0, 0, 0, 0, 0, 0, 0, 0, 0]\n",
              "3    [1, 0, 0, 0, 0, 0, 0, 0, 0, 0]\n",
              "4    [0, 0, 1, 0, 0, 0, 0, 0, 0, 0]\n",
              "Name: rated by_bin, dtype: object"
            ]
          },
          "metadata": {},
          "execution_count": 84
        }
      ]
    },
    {
      "cell_type": "code",
      "metadata": {
        "colab": {
          "base_uri": "https://localhost:8080/"
        },
        "id": "s1SjqTT6HFKd",
        "outputId": "96a9a20b-371d-4721-8778-e90712e127f2"
      },
      "source": [
        "def xstr(s):\n",
        "    if s is None:\n",
        "        return ''\n",
        "    return str(s)\n",
        "df['country'] = df['country'].apply(xstr)\n",
        "\n",
        "countryList=[]\n",
        "for i in df['country']:\n",
        "    if i not in countryList:\n",
        "        countryList.append(i)\n",
        "\n",
        "def binary(country_list):\n",
        "    binaryList = []  \n",
        "    for count in countryList:\n",
        "        if count in country_list:\n",
        "            binaryList.append(1)\n",
        "        else:\n",
        "            binaryList.append(0)\n",
        "    return binaryList\n",
        "\n",
        "df['country_bin'] = df['country'].apply(lambda x: binary(x))\n",
        "df['country_bin'].head()"
      ],
      "execution_count": 85,
      "outputs": [
        {
          "output_type": "execute_result",
          "data": {
            "text/plain": [
              "0    [1, 0, 0, 0, 0, 0, 0, 0, 0, 0, 0, 0, 0, 0, 0, ...\n",
              "1    [0, 1, 0, 0, 0, 0, 0, 0, 0, 0, 0, 0, 0, 0, 0, ...\n",
              "2    [0, 0, 1, 0, 0, 0, 0, 0, 0, 0, 0, 0, 0, 0, 0, ...\n",
              "3    [0, 0, 0, 1, 0, 0, 0, 0, 0, 0, 0, 1, 0, 0, 0, ...\n",
              "4    [0, 0, 0, 0, 1, 0, 0, 0, 0, 0, 0, 0, 0, 0, 0, ...\n",
              "Name: country_bin, dtype: object"
            ]
          },
          "metadata": {},
          "execution_count": 85
        }
      ]
    },
    {
      "cell_type": "code",
      "metadata": {
        "colab": {
          "base_uri": "https://localhost:8080/"
        },
        "id": "T659iRl9I5qn",
        "outputId": "18dfe0d7-b095-4b03-cdca-5d85c341b984"
      },
      "source": [
        "def xstr(s):\n",
        "    if s is None:\n",
        "        return ''\n",
        "    return str(s)\n",
        "df['type'] = df['type'].apply(xstr)\n",
        "\n",
        "typeList=[]\n",
        "for i in df['type']:\n",
        "    if i not in typeList:\n",
        "        typeList.append(i)\n",
        "\n",
        "def binary(type_list):\n",
        "    binaryList = []  \n",
        "    for ty in typeList:\n",
        "        if ty in type_list:\n",
        "            binaryList.append(1)\n",
        "        else:\n",
        "            binaryList.append(0)\n",
        "    return binaryList\n",
        "\n",
        "df['type_bin'] = df['type'].apply(lambda x: binary(x))\n",
        "df['type_bin'].head()"
      ],
      "execution_count": 86,
      "outputs": [
        {
          "output_type": "execute_result",
          "data": {
            "text/plain": [
              "0    [1, 0]\n",
              "1    [0, 1]\n",
              "2    [0, 1]\n",
              "3    [0, 1]\n",
              "4    [1, 0]\n",
              "Name: type_bin, dtype: object"
            ]
          },
          "metadata": {},
          "execution_count": 86
        }
      ]
    },
    {
      "cell_type": "code",
      "metadata": {
        "colab": {
          "base_uri": "https://localhost:8080/",
          "height": 607
        },
        "id": "tgOzWAXuDv3D",
        "outputId": "6865aca8-cb3d-4686-b78e-985e34f65ae8"
      },
      "source": [
        "plt.subplots(figsize=(12,10))\n",
        "ax = df[df['type']!=''].type.value_counts()[:10].sort_values(ascending=True).plot.barh(width=0.9,color=sns.color_palette('muted',40))\n",
        "for i, v in enumerate(df[df['type']!=''].type.value_counts()[:10].sort_values(ascending=True).values): \n",
        "    ax.text(.5, i, v,fontsize=12,color='white',weight='bold')\n",
        "plt.title('Show type with highest movies')\n",
        "plt.show()"
      ],
      "execution_count": 87,
      "outputs": [
        {
          "output_type": "display_data",
          "data": {
            "image/png": "[encoded data removed]",
            "text/plain": [
              "<Figure size 864x720 with 1 Axes>"
            ]
          },
          "metadata": {
            "needs_background": "light"
          }
        }
      ]
    },
    {
      "cell_type": "code",
      "metadata": {
        "colab": {
          "base_uri": "https://localhost:8080/",
          "height": 573
        },
        "id": "biJhY_gqEJtF",
        "outputId": "d27e07a4-d38c-4004-ebbf-e63653052961"
      },
      "source": [
        "df.head()"
      ],
      "execution_count": 88,
      "outputs": [
        {
          "output_type": "execute_result",
          "data": {
            "text/html": [
              "<div>\n",
              "<style scoped>\n",
              "    .dataframe tbody tr th:only-of-type {\n",
              "        vertical-align: middle;\n",
              "    }\n",
              "\n",
              "    .dataframe tbody tr th {\n",
              "        vertical-align: top;\n",
              "    }\n",
              "\n",
              "    .dataframe thead th {\n",
              "        text-align: right;\n",
              "    }\n",
              "</style>\n",
              "<table border=\"1\" class=\"dataframe\">\n",
              "  <thead>\n",
              "    <tr style=\"text-align: right;\">\n",
              "      <th></th>\n",
              "      <th>title</th>\n",
              "      <th>director</th>\n",
              "      <th>cast</th>\n",
              "      <th>country</th>\n",
              "      <th>date_added</th>\n",
              "      <th>rated by</th>\n",
              "      <th>listed_in</th>\n",
              "      <th>description</th>\n",
              "      <th>type</th>\n",
              "      <th>show_id</th>\n",
              "      <th>rating</th>\n",
              "      <th>genres_bin</th>\n",
              "      <th>cast_bin</th>\n",
              "      <th>director_bin</th>\n",
              "      <th>rated by_bin</th>\n",
              "      <th>country_bin</th>\n",
              "      <th>type_bin</th>\n",
              "    </tr>\n",
              "  </thead>\n",
              "  <tbody>\n",
              "    <tr>\n",
              "      <th>0</th>\n",
              "      <td>Chocolate - 1 Season</td>\n",
              "      <td>['TokaMcBaror']</td>\n",
              "      <td>HaJi-won,JangSeung-jo,KangBu-ja,YoonKye-sang</td>\n",
              "      <td>South Korea</td>\n",
              "      <td>November 30, 2019</td>\n",
              "      <td>TV-14</td>\n",
              "      <td>[InternationalTVShows, KoreanTVShows, Romantic...</td>\n",
              "      <td>Brought together by meaningful meals in the pa...</td>\n",
              "      <td>TV Show</td>\n",
              "      <td>81193313</td>\n",
              "      <td>6.3</td>\n",
              "      <td>[1, 1, 1, 0, 0, 0, 0, 0, 0, 0, 0, 0, 0, 0, 0, ...</td>\n",
              "      <td>[1, 1, 1, 1, 1, 1, 1, 1, 1, 1, 1, 1, 1, 1, 1, ...</td>\n",
              "      <td>[1, 0, 0, 0, 0, 0, 0, 0, 0, 0, 0, 0, 0, 0, 0, ...</td>\n",
              "      <td>[1, 0, 0, 0, 0, 0, 0, 0, 0, 0]</td>\n",
              "      <td>[1, 0, 0, 0, 0, 0, 0, 0, 0, 0, 0, 0, 0, 0, 0, ...</td>\n",
              "      <td>[1, 0]</td>\n",
              "    </tr>\n",
              "    <tr>\n",
              "      <th>1</th>\n",
              "      <td>Guatemala: Heart of the Mayan World</td>\n",
              "      <td>['LuisAra', 'IgnacioJaunsolo']</td>\n",
              "      <td>ChristianMorales</td>\n",
              "      <td>Unknown</td>\n",
              "      <td>November 30, 2019</td>\n",
              "      <td>G</td>\n",
              "      <td>[Documentaries, InternationalMovies]</td>\n",
              "      <td>From Sierra de las Minas to Esquipulas, explor...</td>\n",
              "      <td>Movie</td>\n",
              "      <td>81197050</td>\n",
              "      <td>7.2</td>\n",
              "      <td>[0, 0, 0, 1, 1, 0, 0, 0, 0, 0, 0, 0, 0, 0, 0, ...</td>\n",
              "      <td>[0, 1, 0, 1, 0, 0, 1, 1, 0, 0, 0, 1, 0, 0, 0, ...</td>\n",
              "      <td>[0, 1, 0, 0, 0, 0, 0, 0, 0, 0, 0, 0, 0, 0, 0, ...</td>\n",
              "      <td>[0, 1, 0, 0, 0, 0, 0, 0, 0, 0]</td>\n",
              "      <td>[0, 1, 0, 0, 0, 0, 0, 0, 0, 0, 0, 0, 0, 0, 0, ...</td>\n",
              "      <td>[0, 1]</td>\n",
              "    </tr>\n",
              "    <tr>\n",
              "      <th>2</th>\n",
              "      <td>The Zoya Factor</td>\n",
              "      <td>['AbhishekSharma']</td>\n",
              "      <td>DulquerSalmaan,SanjayKapoor,SikanderKher,Sonam...</td>\n",
              "      <td>India</td>\n",
              "      <td>November 30, 2019</td>\n",
              "      <td>TV-14</td>\n",
              "      <td>[Comedies, Dramas, InternationalMovies]</td>\n",
              "      <td>A goofy copywriter unwittingly convinces the I...</td>\n",
              "      <td>Movie</td>\n",
              "      <td>81213894</td>\n",
              "      <td>7.2</td>\n",
              "      <td>[0, 0, 0, 0, 1, 1, 1, 0, 0, 0, 0, 0, 0, 0, 0, ...</td>\n",
              "      <td>[0, 1, 0, 1, 0, 0, 1, 1, 1, 0, 1, 1, 1, 1, 1, ...</td>\n",
              "      <td>[0, 0, 1, 0, 0, 0, 0, 0, 0, 0, 0, 0, 0, 0, 0, ...</td>\n",
              "      <td>[1, 0, 0, 0, 0, 0, 0, 0, 0, 0]</td>\n",
              "      <td>[0, 0, 1, 0, 0, 0, 0, 0, 0, 0, 0, 0, 0, 0, 0, ...</td>\n",
              "      <td>[0, 1]</td>\n",
              "    </tr>\n",
              "    <tr>\n",
              "      <th>3</th>\n",
              "      <td>Atlantics</td>\n",
              "      <td>['MatiDiop']</td>\n",
              "      <td>AmadouMbow,IbrahimaTraore,MamaSane,NicoleSougou</td>\n",
              "      <td>France, Senegal, Belgium</td>\n",
              "      <td>November 29, 2019</td>\n",
              "      <td>TV-14</td>\n",
              "      <td>[Dramas, IndependentMovies, InternationalMovies]</td>\n",
              "      <td>Arranged to marry a rich man, young Ada is cru...</td>\n",
              "      <td>Movie</td>\n",
              "      <td>81082007</td>\n",
              "      <td>6.3</td>\n",
              "      <td>[0, 0, 0, 0, 1, 0, 1, 1, 0, 0, 0, 0, 0, 0, 0, ...</td>\n",
              "      <td>[0, 1, 0, 1, 0, 1, 1, 1, 1, 1, 1, 1, 1, 0, 0, ...</td>\n",
              "      <td>[0, 0, 0, 1, 0, 0, 0, 0, 0, 0, 0, 0, 0, 0, 0, ...</td>\n",
              "      <td>[1, 0, 0, 0, 0, 0, 0, 0, 0, 0]</td>\n",
              "      <td>[0, 0, 0, 1, 0, 0, 0, 0, 0, 0, 0, 1, 0, 0, 0, ...</td>\n",
              "      <td>[0, 1]</td>\n",
              "    </tr>\n",
              "    <tr>\n",
              "      <th>4</th>\n",
              "      <td>Chip and Potato - 2 Seasons</td>\n",
              "      <td>['FrankOz']</td>\n",
              "      <td>AbigailOliver,AndreaLibman,BrianDobson,BrianaB...</td>\n",
              "      <td>Canada, United Kingdom</td>\n",
              "      <td>November 27, 2019</td>\n",
              "      <td>TV-Y</td>\n",
              "      <td>[KidsTV]</td>\n",
              "      <td>Lovable pug Chip starts kindergarten, makes ne...</td>\n",
              "      <td>TV Show</td>\n",
              "      <td>80213643</td>\n",
              "      <td>7.7</td>\n",
              "      <td>[0, 0, 0, 0, 0, 0, 0, 0, 1, 0, 0, 0, 0, 0, 0, ...</td>\n",
              "      <td>[0, 1, 0, 1, 0, 0, 1, 1, 1, 1, 0, 1, 1, 0, 0, ...</td>\n",
              "      <td>[0, 0, 0, 0, 1, 0, 0, 0, 0, 0, 0, 0, 0, 0, 0, ...</td>\n",
              "      <td>[0, 0, 1, 0, 0, 0, 0, 0, 0, 0]</td>\n",
              "      <td>[0, 0, 0, 0, 1, 0, 0, 0, 0, 0, 0, 0, 0, 0, 0, ...</td>\n",
              "      <td>[1, 0]</td>\n",
              "    </tr>\n",
              "  </tbody>\n",
              "</table>\n",
              "</div>"
            ],
            "text/plain": [
              "                                 title  ... type_bin\n",
              "0                 Chocolate - 1 Season  ...   [1, 0]\n",
              "1  Guatemala: Heart of the Mayan World  ...   [0, 1]\n",
              "2                      The Zoya Factor  ...   [0, 1]\n",
              "3                            Atlantics  ...   [0, 1]\n",
              "4          Chip and Potato - 2 Seasons  ...   [1, 0]\n",
              "\n",
              "[5 rows x 17 columns]"
            ]
          },
          "metadata": {},
          "execution_count": 88
        }
      ]
    },
    {
      "cell_type": "code",
      "metadata": {
        "id": "yN3Plm_xzKVM"
      },
      "source": [
        "from scipy import spatial\n",
        "\n",
        "def Similarity(movieId1, movieId2):\n",
        "    a = df.iloc[movieId1]\n",
        "    b = df.iloc[movieId2]\n",
        "    \n",
        "    genresA = a['genres_bin']\n",
        "    genresB = b['genres_bin']\n",
        "    \n",
        "    genreDistance = spatial.distance.cosine(genresA, genresB)\n",
        "    \n",
        "    scoreA = a['cast_bin']\n",
        "    scoreB = b['cast_bin']\n",
        "    scoreDistance = spatial.distance.cosine(scoreA, scoreB)\n",
        "    \n",
        "    directA = a['director_bin']\n",
        "    directB = b['director_bin']\n",
        "    directDistance = spatial.distance.cosine(directA, directB)\n",
        "\n",
        "    ratedA = a['rated by_bin']\n",
        "    ratedB = b['rated by_bin']\n",
        "    ratedDistance = spatial.distance.cosine(ratedA, ratedB)\n",
        "\n",
        "    countryA = a['country_bin']\n",
        "    countryB = b['country_bin']\n",
        "    countryDistance = spatial.distance.cosine(countryA, countryB)\n",
        "\n",
        "    typeA = a['type_bin']\n",
        "    typeB = b['type_bin']\n",
        "    typeDistance = spatial.distance.cosine(typeA, typeB)\n",
        "     \n",
        "    l=[genreDistance,directDistance,scoreDistance,ratedDistance,countryDistance,typeDistance]\n",
        "    m = min(l)\n",
        "    min_index = l.index(m)\n",
        "    \n",
        "    return genreDistance + directDistance + scoreDistance + ratedDistance + countryDistance + typeDistance , min_index"
      ],
      "execution_count": 89,
      "outputs": []
    },
    {
      "cell_type": "code",
      "metadata": {
        "colab": {
          "base_uri": "https://localhost:8080/"
        },
        "id": "eYZiefFSzVN7",
        "outputId": "fc342c8b-b618-406e-f4e3-a4c56d13027a"
      },
      "source": [
        "Similarity(3,160) #checking similarity between any 2 random movies"
      ],
      "execution_count": 90,
      "outputs": [
        {
          "output_type": "execute_result",
          "data": {
            "text/plain": [
              "(4.3907282041550575, 5)"
            ]
          },
          "metadata": {},
          "execution_count": 90
        }
      ]
    },
    {
      "cell_type": "code",
      "metadata": {
        "colab": {
          "base_uri": "https://localhost:8080/"
        },
        "id": "Cg1AfaWl0cCS",
        "outputId": "da1010db-7451-490d-9004-4f5a57b1fac4"
      },
      "source": [
        "print(df.iloc[3])\n",
        "print(df.iloc[160])"
      ],
      "execution_count": 91,
      "outputs": [
        {
          "output_type": "stream",
          "name": "stdout",
          "text": [
            "title                                                   Atlantics\n",
            "director                                             ['MatiDiop']\n",
            "cast              AmadouMbow,IbrahimaTraore,MamaSane,NicoleSougou\n",
            "country                                  France, Senegal, Belgium\n",
            "date_added                                      November 29, 2019\n",
            "rated by                                                    TV-14\n",
            "listed_in        [Dramas, IndependentMovies, InternationalMovies]\n",
            "description     Arranged to marry a rich man, young Ada is cru...\n",
            "type                                                        Movie\n",
            "show_id                                                  81082007\n",
            "rating                                                        6.3\n",
            "genres_bin      [0, 0, 0, 0, 1, 0, 1, 1, 0, 0, 0, 0, 0, 0, 0, ...\n",
            "cast_bin        [0, 1, 0, 1, 0, 1, 1, 1, 1, 1, 1, 1, 1, 0, 0, ...\n",
            "director_bin    [0, 0, 0, 1, 0, 0, 0, 0, 0, 0, 0, 0, 0, 0, 0, ...\n",
            "rated by_bin                       [1, 0, 0, 0, 0, 0, 0, 0, 0, 0]\n",
            "country_bin     [0, 0, 0, 1, 0, 0, 0, 0, 0, 0, 0, 1, 0, 0, 0, ...\n",
            "type_bin                                                   [0, 1]\n",
            "Name: 3, dtype: object\n",
            "title                                                 Nacho Libre\n",
            "director                                            ['JaredHess']\n",
            "cast            AnadelaReguera,DariusRose,HéctorJiménez,JackBlack\n",
            "country                                     United States, Mexico\n",
            "date_added                                       November 1, 2019\n",
            "rated by                                                       PG\n",
            "listed_in                                [Comedies, SportsMovies]\n",
            "description     When Ignacio learns of an orphanage's financia...\n",
            "type                                                        Movie\n",
            "show_id                                                  70044883\n",
            "rating                                                        8.4\n",
            "genres_bin      [0, 0, 0, 0, 0, 1, 0, 0, 0, 0, 0, 0, 0, 0, 0, ...\n",
            "cast_bin        [1, 1, 1, 1, 0, 0, 1, 1, 1, 1, 0, 1, 1, 0, 0, ...\n",
            "director_bin    [0, 0, 0, 0, 0, 0, 0, 0, 0, 0, 0, 0, 0, 0, 0, ...\n",
            "rated by_bin                       [0, 1, 0, 0, 0, 1, 0, 0, 0, 0]\n",
            "country_bin     [0, 0, 0, 0, 0, 0, 0, 0, 1, 0, 0, 0, 0, 0, 1, ...\n",
            "type_bin                                                   [0, 1]\n",
            "Name: 160, dtype: object\n"
          ]
        }
      ]
    },
    {
      "cell_type": "code",
      "metadata": {
        "colab": {
          "base_uri": "https://localhost:8080/",
          "height": 573
        },
        "id": "VirH7S990tKI",
        "outputId": "48909dc5-6fe1-4967-9bf1-48c869ed0b4f"
      },
      "source": [
        "new_id = list(range(0,df.shape[0]))\n",
        "df['new_id']=new_id\n",
        "df=df[['show_id','new_id','title','listed_in','genres_bin','rating','cast','cast_bin','director','director_bin','type','type_bin','country','country_bin','rated by','rated by_bin']]\n",
        "df.head()"
      ],
      "execution_count": 92,
      "outputs": [
        {
          "output_type": "execute_result",
          "data": {
            "text/html": [
              "<div>\n",
              "<style scoped>\n",
              "    .dataframe tbody tr th:only-of-type {\n",
              "        vertical-align: middle;\n",
              "    }\n",
              "\n",
              "    .dataframe tbody tr th {\n",
              "        vertical-align: top;\n",
              "    }\n",
              "\n",
              "    .dataframe thead th {\n",
              "        text-align: right;\n",
              "    }\n",
              "</style>\n",
              "<table border=\"1\" class=\"dataframe\">\n",
              "  <thead>\n",
              "    <tr style=\"text-align: right;\">\n",
              "      <th></th>\n",
              "      <th>show_id</th>\n",
              "      <th>new_id</th>\n",
              "      <th>title</th>\n",
              "      <th>listed_in</th>\n",
              "      <th>genres_bin</th>\n",
              "      <th>rating</th>\n",
              "      <th>cast</th>\n",
              "      <th>cast_bin</th>\n",
              "      <th>director</th>\n",
              "      <th>director_bin</th>\n",
              "      <th>type</th>\n",
              "      <th>type_bin</th>\n",
              "      <th>country</th>\n",
              "      <th>country_bin</th>\n",
              "      <th>rated by</th>\n",
              "      <th>rated by_bin</th>\n",
              "    </tr>\n",
              "  </thead>\n",
              "  <tbody>\n",
              "    <tr>\n",
              "      <th>0</th>\n",
              "      <td>81193313</td>\n",
              "      <td>0</td>\n",
              "      <td>Chocolate - 1 Season</td>\n",
              "      <td>[InternationalTVShows, KoreanTVShows, Romantic...</td>\n",
              "      <td>[1, 1, 1, 0, 0, 0, 0, 0, 0, 0, 0, 0, 0, 0, 0, ...</td>\n",
              "      <td>6.3</td>\n",
              "      <td>HaJi-won,JangSeung-jo,KangBu-ja,YoonKye-sang</td>\n",
              "      <td>[1, 1, 1, 1, 1, 1, 1, 1, 1, 1, 1, 1, 1, 1, 1, ...</td>\n",
              "      <td>['TokaMcBaror']</td>\n",
              "      <td>[1, 0, 0, 0, 0, 0, 0, 0, 0, 0, 0, 0, 0, 0, 0, ...</td>\n",
              "      <td>TV Show</td>\n",
              "      <td>[1, 0]</td>\n",
              "      <td>South Korea</td>\n",
              "      <td>[1, 0, 0, 0, 0, 0, 0, 0, 0, 0, 0, 0, 0, 0, 0, ...</td>\n",
              "      <td>TV-14</td>\n",
              "      <td>[1, 0, 0, 0, 0, 0, 0, 0, 0, 0]</td>\n",
              "    </tr>\n",
              "    <tr>\n",
              "      <th>1</th>\n",
              "      <td>81197050</td>\n",
              "      <td>1</td>\n",
              "      <td>Guatemala: Heart of the Mayan World</td>\n",
              "      <td>[Documentaries, InternationalMovies]</td>\n",
              "      <td>[0, 0, 0, 1, 1, 0, 0, 0, 0, 0, 0, 0, 0, 0, 0, ...</td>\n",
              "      <td>7.2</td>\n",
              "      <td>ChristianMorales</td>\n",
              "      <td>[0, 1, 0, 1, 0, 0, 1, 1, 0, 0, 0, 1, 0, 0, 0, ...</td>\n",
              "      <td>['LuisAra', 'IgnacioJaunsolo']</td>\n",
              "      <td>[0, 1, 0, 0, 0, 0, 0, 0, 0, 0, 0, 0, 0, 0, 0, ...</td>\n",
              "      <td>Movie</td>\n",
              "      <td>[0, 1]</td>\n",
              "      <td>Unknown</td>\n",
              "      <td>[0, 1, 0, 0, 0, 0, 0, 0, 0, 0, 0, 0, 0, 0, 0, ...</td>\n",
              "      <td>G</td>\n",
              "      <td>[0, 1, 0, 0, 0, 0, 0, 0, 0, 0]</td>\n",
              "    </tr>\n",
              "    <tr>\n",
              "      <th>2</th>\n",
              "      <td>81213894</td>\n",
              "      <td>2</td>\n",
              "      <td>The Zoya Factor</td>\n",
              "      <td>[Comedies, Dramas, InternationalMovies]</td>\n",
              "      <td>[0, 0, 0, 0, 1, 1, 1, 0, 0, 0, 0, 0, 0, 0, 0, ...</td>\n",
              "      <td>7.2</td>\n",
              "      <td>DulquerSalmaan,SanjayKapoor,SikanderKher,Sonam...</td>\n",
              "      <td>[0, 1, 0, 1, 0, 0, 1, 1, 1, 0, 1, 1, 1, 1, 1, ...</td>\n",
              "      <td>['AbhishekSharma']</td>\n",
              "      <td>[0, 0, 1, 0, 0, 0, 0, 0, 0, 0, 0, 0, 0, 0, 0, ...</td>\n",
              "      <td>Movie</td>\n",
              "      <td>[0, 1]</td>\n",
              "      <td>India</td>\n",
              "      <td>[0, 0, 1, 0, 0, 0, 0, 0, 0, 0, 0, 0, 0, 0, 0, ...</td>\n",
              "      <td>TV-14</td>\n",
              "      <td>[1, 0, 0, 0, 0, 0, 0, 0, 0, 0]</td>\n",
              "    </tr>\n",
              "    <tr>\n",
              "      <th>3</th>\n",
              "      <td>81082007</td>\n",
              "      <td>3</td>\n",
              "      <td>Atlantics</td>\n",
              "      <td>[Dramas, IndependentMovies, InternationalMovies]</td>\n",
              "      <td>[0, 0, 0, 0, 1, 0, 1, 1, 0, 0, 0, 0, 0, 0, 0, ...</td>\n",
              "      <td>6.3</td>\n",
              "      <td>AmadouMbow,IbrahimaTraore,MamaSane,NicoleSougou</td>\n",
              "      <td>[0, 1, 0, 1, 0, 1, 1, 1, 1, 1, 1, 1, 1, 0, 0, ...</td>\n",
              "      <td>['MatiDiop']</td>\n",
              "      <td>[0, 0, 0, 1, 0, 0, 0, 0, 0, 0, 0, 0, 0, 0, 0, ...</td>\n",
              "      <td>Movie</td>\n",
              "      <td>[0, 1]</td>\n",
              "      <td>France, Senegal, Belgium</td>\n",
              "      <td>[0, 0, 0, 1, 0, 0, 0, 0, 0, 0, 0, 1, 0, 0, 0, ...</td>\n",
              "      <td>TV-14</td>\n",
              "      <td>[1, 0, 0, 0, 0, 0, 0, 0, 0, 0]</td>\n",
              "    </tr>\n",
              "    <tr>\n",
              "      <th>4</th>\n",
              "      <td>80213643</td>\n",
              "      <td>4</td>\n",
              "      <td>Chip and Potato - 2 Seasons</td>\n",
              "      <td>[KidsTV]</td>\n",
              "      <td>[0, 0, 0, 0, 0, 0, 0, 0, 1, 0, 0, 0, 0, 0, 0, ...</td>\n",
              "      <td>7.7</td>\n",
              "      <td>AbigailOliver,AndreaLibman,BrianDobson,BrianaB...</td>\n",
              "      <td>[0, 1, 0, 1, 0, 0, 1, 1, 1, 1, 0, 1, 1, 0, 0, ...</td>\n",
              "      <td>['FrankOz']</td>\n",
              "      <td>[0, 0, 0, 0, 1, 0, 0, 0, 0, 0, 0, 0, 0, 0, 0, ...</td>\n",
              "      <td>TV Show</td>\n",
              "      <td>[1, 0]</td>\n",
              "      <td>Canada, United Kingdom</td>\n",
              "      <td>[0, 0, 0, 0, 1, 0, 0, 0, 0, 0, 0, 0, 0, 0, 0, ...</td>\n",
              "      <td>TV-Y</td>\n",
              "      <td>[0, 0, 1, 0, 0, 0, 0, 0, 0, 0]</td>\n",
              "    </tr>\n",
              "  </tbody>\n",
              "</table>\n",
              "</div>"
            ],
            "text/plain": [
              "    show_id  new_id  ... rated by                    rated by_bin\n",
              "0  81193313       0  ...    TV-14  [1, 0, 0, 0, 0, 0, 0, 0, 0, 0]\n",
              "1  81197050       1  ...        G  [0, 1, 0, 0, 0, 0, 0, 0, 0, 0]\n",
              "2  81213894       2  ...    TV-14  [1, 0, 0, 0, 0, 0, 0, 0, 0, 0]\n",
              "3  81082007       3  ...    TV-14  [1, 0, 0, 0, 0, 0, 0, 0, 0, 0]\n",
              "4  80213643       4  ...     TV-Y  [0, 0, 1, 0, 0, 0, 0, 0, 0, 0]\n",
              "\n",
              "[5 rows x 16 columns]"
            ]
          },
          "metadata": {},
          "execution_count": 92
        }
      ]
    },
    {
      "cell_type": "code",
      "metadata": {
        "id": "UEkkBq07hQio"
      },
      "source": [
        "data = pd.DataFrame(columns=['Show id','Title','Genre','Rating','Cast','Director','Show type','Country','Rated by','Reason'])"
      ],
      "execution_count": 93,
      "outputs": []
    },
    {
      "cell_type": "code",
      "metadata": {
        "id": "UrVC7Z3s2HkT"
      },
      "source": [
        "import operator\n",
        "def predict_score(name):\n",
        "    #name = input('Enter a movie title: ')\n",
        "    new_movie = df[df['title'].str.contains(name)].iloc[0].to_frame().T\n",
        "    print('Selected Movie: ',new_movie.title.values[0])\n",
        "\n",
        "    def getNeighbors(baseMovie, K):\n",
        "        distances = []\n",
        "        reason_list =[]\n",
        "    \n",
        "        for index, movie in df.iterrows():\n",
        "            if movie['new_id'] != baseMovie['new_id'].values[0]:\n",
        "                dist,reason = Similarity(baseMovie['new_id'].values[0], movie['new_id'])\n",
        "                distances.append((movie['new_id'], dist))\n",
        "                reason_list.append(reason)\n",
        "    \n",
        "        distances.sort(key=operator.itemgetter(1))\n",
        "        neighbors = []\n",
        "    \n",
        "        for x in range(K):\n",
        "            neighbors.append(distances[x])\n",
        "        return neighbors,reason_list\n",
        "        \n",
        "    K = 10\n",
        "    avgRating = 0\n",
        "    reason=[]\n",
        "    neighbors,rea = getNeighbors(new_movie, K)\n",
        "    for i in range(0,len(rea)):\n",
        "        if rea[i] == 0:\n",
        "            reason.append('Due to commanality in genre')\n",
        "        elif rea[i] == 1:\n",
        "            reason.append('Due to commanality in director')\n",
        "        elif rea[i] == 2:\n",
        "            reason.append('Due to commanality in cast')\n",
        "        elif rea[i] == 3:\n",
        "            reason.append('Due to commanality in rated by')\n",
        "        elif rea[i] == 4:\n",
        "            reason.append('Due to commanality in country')\n",
        "        else:\n",
        "            reason.append('Due to commanality in the type of show')\n",
        "  \n",
        "    print('\\nRecommended Movies: \\n')\n",
        "    z=0\n",
        "    for neighbor in neighbors:\n",
        "        avgRating = avgRating+df.iloc[neighbor[0]][5]  \n",
        "        #print(\"Title : \"+df.iloc[neighbor[0]][2]+\"\\tGenere : \"+str(df.iloc[neighbor[0]][3]).strip('[]').replace(' ','')+\"\\tRating : \"+str(df.iloc[neighbor[0]][5]))\n",
        "        #data.loc[z,'Show id']=df.iloc[neighbor[0]][0]\n",
        "        data.loc[z,'Title']=df.iloc[neighbor[0]][2]\n",
        "        data.loc[z,'Genre']=str(df.iloc[neighbor[0]][3]).strip('[]').replace(' ','')\n",
        "        data.loc[z,'Rating']=df.iloc[neighbor[0]][5]\n",
        "        data.loc[z,'Cast']=str(df.iloc[neighbor[0]][6]).strip('[]').replace(' ','')\n",
        "        data.loc[z,'Director']=str(df.iloc[neighbor[0]][8]).strip('[]').replace(' ','')\n",
        "        #data.loc[z,'Show type']=str(df.iloc[neighbor[0]][10]).strip('[]').replace(' ','')\n",
        "        #data.loc[z,'Country']=str(df.iloc[neighbor[0]][12]).strip('[]').replace(' ','')\n",
        "        #data.loc[z,'Rated by']=str(df.iloc[neighbor[0]][14]).strip('[]').replace(' ','')\n",
        "        data.loc[z,'Reason']=reason[z]\n",
        "        z=z+1\n",
        "    avgRating = avgRating/K\n",
        "    return data,avgRating,new_movie\n",
        "    "
      ],
      "execution_count": 94,
      "outputs": []
    },
    {
      "cell_type": "code",
      "metadata": {
        "colab": {
          "base_uri": "https://localhost:8080/",
          "height": 912
        },
        "id": "1V_oqN3pkA6i",
        "outputId": "5c610a18-b0fc-4100-b9ca-b697cdd0ae40"
      },
      "source": [
        "data,avgRating,new_movie = predict_score('Atlantics')\n",
        "data.head(10)"
      ],
      "execution_count": 95,
      "outputs": [
        {
          "output_type": "stream",
          "name": "stdout",
          "text": [
            "Selected Movie:  Atlantics\n",
            "\n",
            "Recommended Movies: \n",
            "\n"
          ]
        },
        {
          "output_type": "execute_result",
          "data": {
            "text/html": [
              "<div>\n",
              "<style scoped>\n",
              "    .dataframe tbody tr th:only-of-type {\n",
              "        vertical-align: middle;\n",
              "    }\n",
              "\n",
              "    .dataframe tbody tr th {\n",
              "        vertical-align: top;\n",
              "    }\n",
              "\n",
              "    .dataframe thead th {\n",
              "        text-align: right;\n",
              "    }\n",
              "</style>\n",
              "<table border=\"1\" class=\"dataframe\">\n",
              "  <thead>\n",
              "    <tr style=\"text-align: right;\">\n",
              "      <th></th>\n",
              "      <th>Show id</th>\n",
              "      <th>Title</th>\n",
              "      <th>Genre</th>\n",
              "      <th>Rating</th>\n",
              "      <th>Cast</th>\n",
              "      <th>Director</th>\n",
              "      <th>Show type</th>\n",
              "      <th>Country</th>\n",
              "      <th>Rated by</th>\n",
              "      <th>Reason</th>\n",
              "    </tr>\n",
              "  </thead>\n",
              "  <tbody>\n",
              "    <tr>\n",
              "      <th>0</th>\n",
              "      <td>NaN</td>\n",
              "      <td>The Man Without Gravity</td>\n",
              "      <td>'Dramas','InternationalMovies'</td>\n",
              "      <td>9.1</td>\n",
              "      <td>ElenaCotta,ElioGermano,MichelaCescon,SilviaDAmico</td>\n",
              "      <td>'MarcoBonfanti'</td>\n",
              "      <td>NaN</td>\n",
              "      <td>NaN</td>\n",
              "      <td>NaN</td>\n",
              "      <td>Due to commanality in rated by</td>\n",
              "    </tr>\n",
              "    <tr>\n",
              "      <th>1</th>\n",
              "      <td>NaN</td>\n",
              "      <td>Saavat</td>\n",
              "      <td>'Dramas','IndependentMovies','InternationalMov...</td>\n",
              "      <td>7.8</td>\n",
              "      <td>MilindShirole,ShitanshuKumarSharad,Shwetambari...</td>\n",
              "      <td>'SaurabhSinha'</td>\n",
              "      <td>NaN</td>\n",
              "      <td>NaN</td>\n",
              "      <td>NaN</td>\n",
              "      <td>Due to commanality in the type of show</td>\n",
              "    </tr>\n",
              "    <tr>\n",
              "      <th>2</th>\n",
              "      <td>NaN</td>\n",
              "      <td>300 Miles to Heaven</td>\n",
              "      <td>'Dramas','InternationalMovies'</td>\n",
              "      <td>8</td>\n",
              "      <td>AdriannaBiedrzyńska,AdriannaBiedrzyńska,Andrze...</td>\n",
              "      <td>'MaciejDejczer'</td>\n",
              "      <td>NaN</td>\n",
              "      <td>NaN</td>\n",
              "      <td>NaN</td>\n",
              "      <td>Due to commanality in rated by</td>\n",
              "    </tr>\n",
              "    <tr>\n",
              "      <th>3</th>\n",
              "      <td>NaN</td>\n",
              "      <td>Saawan</td>\n",
              "      <td>'Dramas','IndependentMovies','InternationalMov...</td>\n",
              "      <td>7.4</td>\n",
              "      <td>ArifBahlim,KaramHussain,NajibaFaiz,SaleemMairaj</td>\n",
              "      <td>'FarhanAlam'</td>\n",
              "      <td>NaN</td>\n",
              "      <td>NaN</td>\n",
              "      <td>NaN</td>\n",
              "      <td>Due to commanality in cast</td>\n",
              "    </tr>\n",
              "    <tr>\n",
              "      <th>4</th>\n",
              "      <td>NaN</td>\n",
              "      <td>Jonaki</td>\n",
              "      <td>'Dramas','IndependentMovies','InternationalMov...</td>\n",
              "      <td>7.3</td>\n",
              "      <td>JimSarbh,LolitaChatterjee,RatnabaliBhattacharj...</td>\n",
              "      <td>'AdityaVikramSengupta'</td>\n",
              "      <td>NaN</td>\n",
              "      <td>NaN</td>\n",
              "      <td>NaN</td>\n",
              "      <td>Due to commanality in rated by</td>\n",
              "    </tr>\n",
              "    <tr>\n",
              "      <th>5</th>\n",
              "      <td>NaN</td>\n",
              "      <td>Hamid</td>\n",
              "      <td>'Dramas','IndependentMovies','InternationalMov...</td>\n",
              "      <td>9.8</td>\n",
              "      <td>RasikaDugal,SumitKaul,TalhaArshadReshi,VikasKumar</td>\n",
              "      <td>'AijazKhan'</td>\n",
              "      <td>NaN</td>\n",
              "      <td>NaN</td>\n",
              "      <td>NaN</td>\n",
              "      <td>Due to commanality in the type of show</td>\n",
              "    </tr>\n",
              "    <tr>\n",
              "      <th>6</th>\n",
              "      <td>NaN</td>\n",
              "      <td>Do Paise Ki Dhoop Chaar Aane Ki Baarish</td>\n",
              "      <td>'Dramas','IndependentMovies','InternationalMov...</td>\n",
              "      <td>7.7</td>\n",
              "      <td>ManishaKoirala,RajendraGupta,RajitKapoor,Sanaj...</td>\n",
              "      <td>'DeeptiNaval'</td>\n",
              "      <td>NaN</td>\n",
              "      <td>NaN</td>\n",
              "      <td>NaN</td>\n",
              "      <td>Due to commanality in rated by</td>\n",
              "    </tr>\n",
              "    <tr>\n",
              "      <th>7</th>\n",
              "      <td>NaN</td>\n",
              "      <td>Master Z: The Ip Man Legacy</td>\n",
              "      <td>'Dramas','IndependentMovies','InternationalMov...</td>\n",
              "      <td>7.8</td>\n",
              "      <td>AhmedAbdelhafiz,RadyGamal,ShahiraFahmy,ShehabI...</td>\n",
              "      <td>'AbuBakrShawky'</td>\n",
              "      <td>NaN</td>\n",
              "      <td>NaN</td>\n",
              "      <td>NaN</td>\n",
              "      <td>Due to commanality in the type of show</td>\n",
              "    </tr>\n",
              "    <tr>\n",
              "      <th>8</th>\n",
              "      <td>NaN</td>\n",
              "      <td>Kia and Cosmos</td>\n",
              "      <td>'Dramas','IndependentMovies','InternationalMov...</td>\n",
              "      <td>6.8</td>\n",
              "      <td>JoySengupta,RitwikaPal,SwastikaMukherjee</td>\n",
              "      <td>'SudiptoRoy'</td>\n",
              "      <td>NaN</td>\n",
              "      <td>NaN</td>\n",
              "      <td>NaN</td>\n",
              "      <td>Due to commanality in rated by</td>\n",
              "    </tr>\n",
              "    <tr>\n",
              "      <th>9</th>\n",
              "      <td>NaN</td>\n",
              "      <td>In My Country</td>\n",
              "      <td>'Dramas','InternationalMovies'</td>\n",
              "      <td>6.8</td>\n",
              "      <td>BimboManuel,OkawaShaznay,SamDede,ShanGeorge</td>\n",
              "      <td>'FrankRajahArase'</td>\n",
              "      <td>NaN</td>\n",
              "      <td>NaN</td>\n",
              "      <td>NaN</td>\n",
              "      <td>Due to commanality in rated by</td>\n",
              "    </tr>\n",
              "  </tbody>\n",
              "</table>\n",
              "</div>"
            ],
            "text/plain": [
              "  Show id  ...                                  Reason\n",
              "0     NaN  ...          Due to commanality in rated by\n",
              "1     NaN  ...  Due to commanality in the type of show\n",
              "2     NaN  ...          Due to commanality in rated by\n",
              "3     NaN  ...              Due to commanality in cast\n",
              "4     NaN  ...          Due to commanality in rated by\n",
              "5     NaN  ...  Due to commanality in the type of show\n",
              "6     NaN  ...          Due to commanality in rated by\n",
              "7     NaN  ...  Due to commanality in the type of show\n",
              "8     NaN  ...          Due to commanality in rated by\n",
              "9     NaN  ...          Due to commanality in rated by\n",
              "\n",
              "[10 rows x 10 columns]"
            ]
          },
          "metadata": {},
          "execution_count": 95
        }
      ]
    },
    {
      "cell_type": "code",
      "metadata": {
        "colab": {
          "base_uri": "https://localhost:8080/"
        },
        "id": "kmnC3r7mkJZh",
        "outputId": "bf29f7f3-6e27-45d7-d2c0-93a3fa53e9a5"
      },
      "source": [
        "print('The predicted rating for %s is: %f' %(new_movie['title'].values[0],avgRating))\n",
        "print('The actual rating for %s is %f' %(new_movie['title'].values[0],new_movie['rating']))"
      ],
      "execution_count": 96,
      "outputs": [
        {
          "output_type": "stream",
          "name": "stdout",
          "text": [
            "The predicted rating for Atlantics is: 7.850000\n",
            "The actual rating for Atlantics is 6.300000\n"
          ]
        }
      ]
    },
    {
      "cell_type": "code",
      "metadata": {
        "colab": {
          "base_uri": "https://localhost:8080/"
        },
        "id": "Ea4HONplvns5",
        "outputId": "0a11f07b-c229-4e07-e108-4e35fb769d3c"
      },
      "source": [
        "from sklearn.preprocessing import LabelEncoder\n",
        "#\n",
        "# Instantiate LabelEncoder\n",
        "#\n",
        "le = LabelEncoder()\n",
        "#\n",
        "# Encode single column status\n",
        "#\n",
        "df.type  = le.fit_transform(df.type)\n",
        "#\n",
        "# Print df.head for checking the transformation\n",
        "#\n",
        "df.head"
      ],
      "execution_count": 102,
      "outputs": [
        {
          "output_type": "execute_result",
          "data": {
            "text/plain": [
              "<bound method NDFrame.head of       show_id  new_id  ... rated by                    rated by_bin\n",
              "0    81193313       0  ...    TV-14  [1, 0, 0, 0, 0, 0, 0, 0, 0, 0]\n",
              "1    81197050       1  ...        G  [0, 1, 0, 0, 0, 0, 0, 0, 0, 0]\n",
              "2    81213894       2  ...    TV-14  [1, 0, 0, 0, 0, 0, 0, 0, 0, 0]\n",
              "3    81082007       3  ...    TV-14  [1, 0, 0, 0, 0, 0, 0, 0, 0, 0]\n",
              "4    80213643       4  ...     TV-Y  [0, 0, 1, 0, 0, 0, 0, 0, 0, 0]\n",
              "..        ...     ...  ...      ...                             ...\n",
              "980  80174683     980  ...        R  [0, 0, 0, 0, 1, 0, 0, 0, 0, 0]\n",
              "981  70103759     981  ...        R  [0, 0, 0, 0, 1, 0, 0, 0, 0, 0]\n",
              "982  81077451     982  ...       NR  [0, 0, 0, 0, 1, 0, 0, 0, 1, 0]\n",
              "983  81014345     983  ...    TV-MA  [0, 0, 0, 1, 0, 0, 0, 0, 0, 0]\n",
              "984  80986854     984  ...    TV-MA  [0, 0, 0, 1, 0, 0, 0, 0, 0, 0]\n",
              "\n",
              "[985 rows x 16 columns]>"
            ]
          },
          "metadata": {},
          "execution_count": 102
        }
      ]
    },
    {
      "cell_type": "code",
      "metadata": {
        "id": "b_HrMguZEJMe"
      },
      "source": [
        "from sklearn.ensemble import RandomForestRegressor\n",
        "regressor = RandomForestRegressor(n_estimators = 100, random_state = 0)"
      ],
      "execution_count": 103,
      "outputs": []
    },
    {
      "cell_type": "code",
      "metadata": {
        "colab": {
          "base_uri": "https://localhost:8080/",
          "height": 420
        },
        "id": "QsxKCsRzFWFL",
        "outputId": "54ce6bc0-5baa-4aa7-a164-5903fd690673"
      },
      "source": [
        "df = pd.read_csv('https://raw.githubusercontent.com/Sneha8501/ML/main/Netflix_title_final.csv')\n",
        "df.head()"
      ],
      "execution_count": 106,
      "outputs": [
        {
          "output_type": "execute_result",
          "data": {
            "text/html": [
              "<div>\n",
              "<style scoped>\n",
              "    .dataframe tbody tr th:only-of-type {\n",
              "        vertical-align: middle;\n",
              "    }\n",
              "\n",
              "    .dataframe tbody tr th {\n",
              "        vertical-align: top;\n",
              "    }\n",
              "\n",
              "    .dataframe thead th {\n",
              "        text-align: right;\n",
              "    }\n",
              "</style>\n",
              "<table border=\"1\" class=\"dataframe\">\n",
              "  <thead>\n",
              "    <tr style=\"text-align: right;\">\n",
              "      <th></th>\n",
              "      <th>title</th>\n",
              "      <th>director</th>\n",
              "      <th>cast</th>\n",
              "      <th>country</th>\n",
              "      <th>date_added</th>\n",
              "      <th>rated by</th>\n",
              "      <th>listed_in</th>\n",
              "      <th>description</th>\n",
              "      <th>type</th>\n",
              "      <th>show_id</th>\n",
              "      <th>release_year</th>\n",
              "      <th>duration</th>\n",
              "      <th>rating</th>\n",
              "    </tr>\n",
              "  </thead>\n",
              "  <tbody>\n",
              "    <tr>\n",
              "      <th>0</th>\n",
              "      <td>Chocolate - 1 Season</td>\n",
              "      <td>Toka McBaror</td>\n",
              "      <td>Ha Ji-won, Yoon Kye-sang, Jang Seung-jo, Kang ...</td>\n",
              "      <td>South Korea</td>\n",
              "      <td>November 30, 2019</td>\n",
              "      <td>TV-14</td>\n",
              "      <td>International TV Shows, Korean TV Shows, Roman...</td>\n",
              "      <td>Brought together by meaningful meals in the pa...</td>\n",
              "      <td>TV Show</td>\n",
              "      <td>81193313</td>\n",
              "      <td>2019</td>\n",
              "      <td>60</td>\n",
              "      <td>6.3</td>\n",
              "    </tr>\n",
              "    <tr>\n",
              "      <th>1</th>\n",
              "      <td>Guatemala: Heart of the Mayan World</td>\n",
              "      <td>Luis Ara, Ignacio Jaunsolo</td>\n",
              "      <td>Christian Morales</td>\n",
              "      <td>Unknown</td>\n",
              "      <td>November 30, 2019</td>\n",
              "      <td>G</td>\n",
              "      <td>Documentaries, International Movies</td>\n",
              "      <td>From Sierra de las Minas to Esquipulas, explor...</td>\n",
              "      <td>Movie</td>\n",
              "      <td>81197050</td>\n",
              "      <td>2019</td>\n",
              "      <td>67</td>\n",
              "      <td>7.2</td>\n",
              "    </tr>\n",
              "    <tr>\n",
              "      <th>2</th>\n",
              "      <td>The Zoya Factor</td>\n",
              "      <td>Abhishek Sharma</td>\n",
              "      <td>Sonam Kapoor, Dulquer Salmaan, Sanjay Kapoor, ...</td>\n",
              "      <td>India</td>\n",
              "      <td>November 30, 2019</td>\n",
              "      <td>TV-14</td>\n",
              "      <td>Comedies, Dramas, International Movies</td>\n",
              "      <td>A goofy copywriter unwittingly convinces the I...</td>\n",
              "      <td>Movie</td>\n",
              "      <td>81213894</td>\n",
              "      <td>2019</td>\n",
              "      <td>135</td>\n",
              "      <td>7.2</td>\n",
              "    </tr>\n",
              "    <tr>\n",
              "      <th>3</th>\n",
              "      <td>Atlantics</td>\n",
              "      <td>Mati Diop</td>\n",
              "      <td>Mama Sane, Amadou Mbow, Ibrahima Traore, Nicol...</td>\n",
              "      <td>France, Senegal, Belgium</td>\n",
              "      <td>November 29, 2019</td>\n",
              "      <td>TV-14</td>\n",
              "      <td>Dramas, Independent Movies, International Movies</td>\n",
              "      <td>Arranged to marry a rich man, young Ada is cru...</td>\n",
              "      <td>Movie</td>\n",
              "      <td>81082007</td>\n",
              "      <td>2019</td>\n",
              "      <td>106</td>\n",
              "      <td>6.3</td>\n",
              "    </tr>\n",
              "    <tr>\n",
              "      <th>4</th>\n",
              "      <td>Chip and Potato - 2 Seasons</td>\n",
              "      <td>Frank Oz</td>\n",
              "      <td>Abigail Oliver, Andrea Libman, Briana Buckmast...</td>\n",
              "      <td>Canada, United Kingdom</td>\n",
              "      <td>November 27, 2019</td>\n",
              "      <td>TV-Y</td>\n",
              "      <td>Kids' TV</td>\n",
              "      <td>Lovable pug Chip starts kindergarten, makes ne...</td>\n",
              "      <td>TV Show</td>\n",
              "      <td>80213643</td>\n",
              "      <td>2019</td>\n",
              "      <td>60</td>\n",
              "      <td>7.7</td>\n",
              "    </tr>\n",
              "  </tbody>\n",
              "</table>\n",
              "</div>"
            ],
            "text/plain": [
              "                                 title  ... rating\n",
              "0                 Chocolate - 1 Season  ...    6.3\n",
              "1  Guatemala: Heart of the Mayan World  ...    7.2\n",
              "2                      The Zoya Factor  ...    7.2\n",
              "3                            Atlantics  ...    6.3\n",
              "4          Chip and Potato - 2 Seasons  ...    7.7\n",
              "\n",
              "[5 rows x 13 columns]"
            ]
          },
          "metadata": {},
          "execution_count": 106
        }
      ]
    },
    {
      "cell_type": "code",
      "metadata": {
        "id": "aw5ednaqE62b"
      },
      "source": [
        "rating_mean = df.groupby('title')['rating'].mean().reset_index()\n",
        "total_rating = df.groupby('title')['rating'].count().reset_index()\n",
        "\n",
        "total_rating_mean = pd.merge(rating_mean, total_rating, on='title', how='inner')\n",
        "total_rating_mean.rename(columns={'rating_x': 'rating_mean',\n",
        "                                  'rating_y': 'total_rating'},\n",
        "                                  inplace=True)\n",
        "# final_df = (total_rating_mean, on='title', how='left',usecols = ['show_id']).dropna()\n",
        "final_df = total_rating_mean\n",
        "\n",
        "final_df = final_df.join(df['show_id'], how='right')\n",
        "final_df = final_df.join(df['rated by'], how='right').dropna()\n",
        "final_df = final_df.join(df['listed_in'], how='right').dropna()"
      ],
      "execution_count": 121,
      "outputs": []
    },
    {
      "cell_type": "code",
      "metadata": {
        "colab": {
          "base_uri": "https://localhost:8080/",
          "height": 202
        },
        "id": "Qo9OAY6qFlEM",
        "outputId": "1e5d60a8-c88a-461b-e3e3-eabd243ad86a"
      },
      "source": [
        "final_df.head()"
      ],
      "execution_count": 122,
      "outputs": [
        {
          "output_type": "execute_result",
          "data": {
            "text/html": [
              "<div>\n",
              "<style scoped>\n",
              "    .dataframe tbody tr th:only-of-type {\n",
              "        vertical-align: middle;\n",
              "    }\n",
              "\n",
              "    .dataframe tbody tr th {\n",
              "        vertical-align: top;\n",
              "    }\n",
              "\n",
              "    .dataframe thead th {\n",
              "        text-align: right;\n",
              "    }\n",
              "</style>\n",
              "<table border=\"1\" class=\"dataframe\">\n",
              "  <thead>\n",
              "    <tr style=\"text-align: right;\">\n",
              "      <th></th>\n",
              "      <th>title</th>\n",
              "      <th>rating_mean</th>\n",
              "      <th>total_rating</th>\n",
              "      <th>show_id</th>\n",
              "      <th>rated by</th>\n",
              "      <th>listed_in</th>\n",
              "    </tr>\n",
              "  </thead>\n",
              "  <tbody>\n",
              "    <tr>\n",
              "      <th>0</th>\n",
              "      <td>#Selfie</td>\n",
              "      <td>9.0</td>\n",
              "      <td>1.0</td>\n",
              "      <td>81193313.0</td>\n",
              "      <td>TV-14</td>\n",
              "      <td>International TV Shows, Korean TV Shows, Roman...</td>\n",
              "    </tr>\n",
              "    <tr>\n",
              "      <th>1</th>\n",
              "      <td>#Selfie 69</td>\n",
              "      <td>7.2</td>\n",
              "      <td>1.0</td>\n",
              "      <td>81197050.0</td>\n",
              "      <td>G</td>\n",
              "      <td>Documentaries, International Movies</td>\n",
              "    </tr>\n",
              "    <tr>\n",
              "      <th>2</th>\n",
              "      <td>10 Days in Sun City</td>\n",
              "      <td>8.8</td>\n",
              "      <td>1.0</td>\n",
              "      <td>81213894.0</td>\n",
              "      <td>TV-14</td>\n",
              "      <td>Comedies, Dramas, International Movies</td>\n",
              "    </tr>\n",
              "    <tr>\n",
              "      <th>3</th>\n",
              "      <td>10,000 B.C.</td>\n",
              "      <td>9.9</td>\n",
              "      <td>1.0</td>\n",
              "      <td>81082007.0</td>\n",
              "      <td>TV-14</td>\n",
              "      <td>Dramas, Independent Movies, International Movies</td>\n",
              "    </tr>\n",
              "    <tr>\n",
              "      <th>4</th>\n",
              "      <td>100 Things to do Before High School</td>\n",
              "      <td>7.4</td>\n",
              "      <td>1.0</td>\n",
              "      <td>80213643.0</td>\n",
              "      <td>TV-Y</td>\n",
              "      <td>Kids' TV</td>\n",
              "    </tr>\n",
              "  </tbody>\n",
              "</table>\n",
              "</div>"
            ],
            "text/plain": [
              "                                 title  ...                                          listed_in\n",
              "0                              #Selfie  ...  International TV Shows, Korean TV Shows, Roman...\n",
              "1                           #Selfie 69  ...                Documentaries, International Movies\n",
              "2                  10 Days in Sun City  ...             Comedies, Dramas, International Movies\n",
              "3                          10,000 B.C.  ...   Dramas, Independent Movies, International Movies\n",
              "4  100 Things to do Before High School  ...                                           Kids' TV\n",
              "\n",
              "[5 rows x 6 columns]"
            ]
          },
          "metadata": {},
          "execution_count": 122
        }
      ]
    },
    {
      "cell_type": "code",
      "metadata": {
        "id": "l4cPBrUQFqAt"
      },
      "source": [
        "feature_cols =['show_id','total_rating']\n",
        "X = final_df[feature_cols] # Features\n",
        "y = final_df['rating_mean']"
      ],
      "execution_count": 123,
      "outputs": []
    },
    {
      "cell_type": "code",
      "metadata": {
        "colab": {
          "base_uri": "https://localhost:8080/"
        },
        "id": "GsHZ9amdJZ9d",
        "outputId": "747d7d59-a4a7-4e4d-bc13-3d095b0e54ff"
      },
      "source": [
        "regressor.fit(X, y) "
      ],
      "execution_count": 124,
      "outputs": [
        {
          "output_type": "execute_result",
          "data": {
            "text/plain": [
              "RandomForestRegressor(random_state=0)"
            ]
          },
          "metadata": {},
          "execution_count": 124
        }
      ]
    },
    {
      "cell_type": "code",
      "metadata": {
        "id": "c3hEo_snJcvw"
      },
      "source": [
        "from sklearn.model_selection import train_test_split\n",
        "train_features, test_features, train_labels, test_labels = train_test_split(X,y, test_size = 0.33, random_state = 42)"
      ],
      "execution_count": 125,
      "outputs": []
    },
    {
      "cell_type": "code",
      "metadata": {
        "colab": {
          "base_uri": "https://localhost:8080/"
        },
        "id": "o8tnJ-UKJhLs",
        "outputId": "900d5a7d-3c87-401a-96bb-048132c319b7"
      },
      "source": [
        "print('Training Features Shape:', train_features.shape)\n",
        "print('Training Labels Shape:', train_labels.shape)\n",
        "print('Testing Features Shape:', test_features.shape)\n",
        "print('Testing Labels Shape:', test_labels.shape)"
      ],
      "execution_count": 126,
      "outputs": [
        {
          "output_type": "stream",
          "name": "stdout",
          "text": [
            "Training Features Shape: (658, 2)\n",
            "Training Labels Shape: (658,)\n",
            "Testing Features Shape: (325, 2)\n",
            "Testing Labels Shape: (325,)\n"
          ]
        }
      ]
    },
    {
      "cell_type": "code",
      "metadata": {
        "colab": {
          "base_uri": "https://localhost:8080/"
        },
        "id": "1fznG6jjJmdP",
        "outputId": "f1f6a947-cecf-42b8-fd53-85ba36e2e13c"
      },
      "source": [
        "predictions = regressor.predict(test_features)\n",
        "errors = abs(predictions - test_labels)\n",
        "print('Mean Absolute Error:', round(np.mean(errors), 2), 'degrees.')"
      ],
      "execution_count": 127,
      "outputs": [
        {
          "output_type": "stream",
          "name": "stdout",
          "text": [
            "Mean Absolute Error: 0.5 degrees.\n"
          ]
        }
      ]
    },
    {
      "cell_type": "code",
      "metadata": {
        "colab": {
          "base_uri": "https://localhost:8080/"
        },
        "id": "0BhxrIMwJn46",
        "outputId": "dc68797c-2cf4-4f00-d02e-86ff7aca3e2e"
      },
      "source": [
        "# Calculate mean absolute percentage error (MAPE)\n",
        "mape = 100 * (errors / test_labels)\n",
        "# Calculate and display accuracy\n",
        "accuracy = 100 - np.mean(mape)\n",
        "print('Accuracy:', round(accuracy, 2), '%.')"
      ],
      "execution_count": 128,
      "outputs": [
        {
          "output_type": "stream",
          "name": "stdout",
          "text": [
            "Accuracy: 93.64 %.\n"
          ]
        }
      ]
    }
  ]
}